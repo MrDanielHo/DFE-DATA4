{
 "cells": [
  {
   "cell_type": "markdown",
   "metadata": {},
   "source": [
    "# Email validator:-\n",
    "Make a program to check whether an email address is valid or not.<p>\n",
    "For instance, you could make sure that there are no spaces, and there is “@” symbol and a dot somewhere after it.<br>\n",
    "Also check the length of the parts at the start, and that the end parts of the address are not blank.<br>\n",
    "\n",
    "Extensions: \n",
    "1.\tAllow the user to choose to give a text file with a list of email addresses and have it process them all automatically."
   ]
  },
  {
   "cell_type": "code",
   "execution_count": 2,
   "metadata": {},
   "outputs": [],
   "source": [
    "import re"
   ]
  },
  {
   "cell_type": "code",
   "execution_count": 20,
   "metadata": {},
   "outputs": [
    {
     "data": {
      "text/plain": [
       "['jacob.52@streets.uk',\n",
       " 'dvd@jvc.gov',\n",
       " '32_sweetman@life.com',\n",
       " 'm.e.o.w_m.e.o.w@fuzzywUzzzy.com']"
      ]
     },
     "execution_count": 20,
     "metadata": {},
     "output_type": "execute_result"
    }
   ],
   "source": [
    "emailString = r\"\"\"[\\w._+-]+@[\\w-]+.[\\w]+\\s??\"\"\"\n",
    "message = '''\n",
    "Hello, my email is jacob.52@streets.uk or me at work at dvd@jvc.gov.\\n\n",
    "If you have found information on my cat please email me at 32_sweetman@life.com.\n",
    "Email my cat @ m.e.o.w_m.e.o.w@fuzzywUzzzy.com.\n",
    "'''\n",
    "re.findall(emailString,message)"
   ]
  },
  {
   "cell_type": "code",
   "execution_count": 22,
   "metadata": {},
   "outputs": [
    {
     "name": "stdout",
     "output_type": "stream",
     "text": [
      "['jacob.52@streets.uk', 'dvd@jvc.gov', '32_sweetman@life.com', 'm.e.o.w_m.e.o.w@fuzzywUzzzy.com']\n"
     ]
    },
    {
     "data": {
      "text/plain": [
       "'\\nHello, my email is jacob.52@streets.uk or me at work at dvd@jvc.gov.\\n\\nIf you have found information on my cat please email me at 32_sweetman@life.com.\\nEmail my cat @ m.e.o.w_m.e.o.w@fuzzywUzzzy.com.\\n is valid'"
      ]
     },
     "execution_count": 22,
     "metadata": {},
     "output_type": "execute_result"
    }
   ],
   "source": [
    "def emailValidator(emailAddress):\n",
    "    match = re.findall(emailString,emailAddress)\n",
    "    print(match)\n",
    "    \n",
    "    if (match):\n",
    "        return (emailAddress + \" is valid\")\n",
    "    else:\n",
    "        return (emailAddress + \" is not valid\")\n",
    "\n",
    "emailValidator(message)"
   ]
  }
 ],
 "metadata": {
  "interpreter": {
   "hash": "855ae122d4fcda6f141f92c8875720321028ea409d34d35b900b724463e5c1c0"
  },
  "kernelspec": {
   "display_name": "Python 3.10.0 64-bit",
   "language": "python",
   "name": "python3"
  },
  "language_info": {
   "codemirror_mode": {
    "name": "ipython",
    "version": 3
   },
   "file_extension": ".py",
   "mimetype": "text/x-python",
   "name": "python",
   "nbconvert_exporter": "python",
   "pygments_lexer": "ipython3",
   "version": "3.10.0"
  },
  "orig_nbformat": 4
 },
 "nbformat": 4,
 "nbformat_minor": 2
}
