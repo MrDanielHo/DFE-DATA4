{
 "cells": [
  {
   "cell_type": "markdown",
   "id": "45b7e385",
   "metadata": {},
   "source": [
    "# Function that passes to integer arguements and print the addition of those numbers"
   ]
  },
  {
   "cell_type": "code",
   "execution_count": null,
   "id": "34c1dc91",
   "metadata": {},
   "outputs": [],
   "source": [
    "class Test:\n",
    "    def findsum(self, a, b):\n",
    "        s = a + b\n",
    "        return s\n",
    "\n",
    "a = int(input(\"Enter first number:\"))\n",
    "b = int(input(\"Enter second number:\"))\n",
    "obj = Test()\n",
    "s = obj.findsum(a, b)\n",
    "\n",
    "print(\"Sum is:\", s)"
   ]
  },
  {
   "cell_type": "markdown",
   "id": "ef73c2af",
   "metadata": {},
   "source": [
    "# Largest number from a list of numbers\n"
   ]
  },
  {
   "cell_type": "code",
   "execution_count": null,
   "id": "439d45f8",
   "metadata": {},
   "outputs": [],
   "source": [
    "listNum = [10, 8, 6, 99, 457, 8, 74, 105, 217, 392]\n",
    "print(f\"{max(listNum)}\")"
   ]
  },
  {
   "cell_type": "markdown",
   "id": "bcdb864a",
   "metadata": {},
   "source": [
    "# Fibonacci Sequence\n",
    "\n",
    "0, 1, 1, 2, 3, 5, 8, 13, 21, 34, 55"
   ]
  },
  {
   "cell_type": "code",
   "execution_count": null,
   "id": "305771ab",
   "metadata": {},
   "outputs": [],
   "source": [
    "currentNumber = 11\n",
    "fibSeq = [0,1]\n",
    "for i in range(0,currentNumber-2,1):\n",
    "    fibSeq.append(fibSeq[-1] + fibSeq[-2])\n",
    "    i += 1\n",
    "\n",
    "print(fibSeq)"
   ]
  },
  {
   "cell_type": "markdown",
   "id": "1e7232a1",
   "metadata": {},
   "source": [
    "# Ascending order of a list"
   ]
  },
  {
   "cell_type": "code",
   "execution_count": null,
   "id": "02c1402c",
   "metadata": {},
   "outputs": [],
   "source": [
    "listNum = [10, 8, 6, 99, 457, 8, 74, 105, 217, 392]\n",
    "sorted(listNum,reverse=False)"
   ]
  }
 ],
 "metadata": {
  "kernelspec": {
   "display_name": "Python 3 (ipykernel)",
   "language": "python",
   "name": "python3"
  },
  "language_info": {
   "codemirror_mode": {
    "name": "ipython",
    "version": 3
   },
   "file_extension": ".py",
   "mimetype": "text/x-python",
   "name": "python",
   "nbconvert_exporter": "python",
   "pygments_lexer": "ipython3",
   "version": "3.10.0"
  }
 },
 "nbformat": 4,
 "nbformat_minor": 5
}
