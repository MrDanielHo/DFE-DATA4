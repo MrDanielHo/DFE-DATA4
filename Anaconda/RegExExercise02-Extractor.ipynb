{
 "cells": [
  {
   "cell_type": "markdown",
   "metadata": {},
   "source": [
    "# Exercise 2\n",
    "Given a .txt file that has a list of a bunch of records and the record looks like this:\n",
    "* agent-2030-1517462070-2038-preview_Cross_Sales-2018_02_01_10_44_30-9999999910.mp3\n",
    "* This record consist of date, time and phone number of a customer.\n",
    "    * Date: <i>2018_02_01</i>\n",
    "    * Time: <i>10_44_30</i>\n",
    "    * Phone No: <i>9999999910</i>\n",
    "    \n",
    "Instructions:-\n",
    "1.\tRead the text file.\n",
    "2.\tFilter records on the basis of phone number.\n",
    "3.\tWrite filtered records in new text file.\n",
    "4.\tPrint filtered records.\n"
   ]
  },
  {
   "cell_type": "code",
   "execution_count": 12,
   "metadata": {},
   "outputs": [],
   "source": [
    "import re"
   ]
  },
  {
   "cell_type": "code",
   "execution_count": 13,
   "metadata": {},
   "outputs": [
    {
     "data": {
      "text/plain": [
       "10"
      ]
     },
     "execution_count": 13,
     "metadata": {},
     "output_type": "execute_result"
    }
   ],
   "source": [
    "len('9999999910')"
   ]
  },
  {
   "cell_type": "code",
   "execution_count": 14,
   "metadata": {},
   "outputs": [],
   "source": [
    "searchRecord = \"agent-2030-1517462070-2038-preview_Cross_Sales-2018_02_01_10_44_30-9999999910.mp3\"\n",
    "\n",
    "dateFormat = r'''\\d{4}_\\d{2}_\\d{2}'''\n",
    "timeFormat = r'''\\d{2}_\\d{2}_\\d{2}'''\n",
    "phoneFormat = r'''\\d\\d\\d\\d\\d\\d\\d\\d\\d\\d'''"
   ]
  },
  {
   "cell_type": "code",
   "execution_count": 15,
   "metadata": {},
   "outputs": [
    {
     "data": {
      "text/plain": [
       "['2018_02_01']"
      ]
     },
     "execution_count": 15,
     "metadata": {},
     "output_type": "execute_result"
    }
   ],
   "source": [
    "re.findall(dateFormat,searchRecord)"
   ]
  },
  {
   "cell_type": "code",
   "execution_count": 16,
   "metadata": {},
   "outputs": [
    {
     "data": {
      "text/plain": [
       "['18_02_01', '10_44_30']"
      ]
     },
     "execution_count": 16,
     "metadata": {},
     "output_type": "execute_result"
    }
   ],
   "source": [
    "re.findall(timeFormat,searchRecord)"
   ]
  },
  {
   "cell_type": "code",
   "execution_count": 17,
   "metadata": {},
   "outputs": [
    {
     "data": {
      "text/plain": [
       "['1517462070', '9999999910']"
      ]
     },
     "execution_count": 17,
     "metadata": {},
     "output_type": "execute_result"
    }
   ],
   "source": [
    "re.findall(phoneFormat,searchRecord)"
   ]
  }
 ],
 "metadata": {
  "interpreter": {
   "hash": "855ae122d4fcda6f141f92c8875720321028ea409d34d35b900b724463e5c1c0"
  },
  "kernelspec": {
   "display_name": "Python 3.10.0 64-bit",
   "language": "python",
   "name": "python3"
  },
  "language_info": {
   "codemirror_mode": {
    "name": "ipython",
    "version": 3
   },
   "file_extension": ".py",
   "mimetype": "text/x-python",
   "name": "python",
   "nbconvert_exporter": "python",
   "pygments_lexer": "ipython3",
   "version": "3.10.0"
  },
  "orig_nbformat": 4
 },
 "nbformat": 4,
 "nbformat_minor": 2
}
