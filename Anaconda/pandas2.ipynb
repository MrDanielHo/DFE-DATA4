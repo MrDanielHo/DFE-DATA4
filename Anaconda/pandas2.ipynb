{
 "cells": [
  {
   "cell_type": "code",
   "execution_count": 2,
   "id": "ca5ef7b2",
   "metadata": {},
   "outputs": [],
   "source": [
    "import numpy as np\n",
    "import pandas as pd"
   ]
  },
  {
   "cell_type": "markdown",
   "id": "88adf457",
   "metadata": {},
   "source": [
    "## Pandas\n",
    "\n",
    "- load, manipulate, prepare , model and analyze data\n",
    "\n",
    "### Series\n",
    "- One - dimentional array\n",
    "- can store data of various types\n",
    "- label is called index\n",
    "- can easily be converted to list , touple . dictionary \n",
    "- it does not contain multiple columns\n",
    "\n",
    "### DataFrame\n",
    "\n",
    "- Two - dimentional or more array \n",
    "- Labeled axes( rows and columns)\n",
    "- row index and column index"
   ]
  },
  {
   "cell_type": "code",
   "execution_count": null,
   "id": "d3291a7a",
   "metadata": {
    "scrolled": true
   },
   "outputs": [],
   "source": [
    "# To create a series\n",
    "info = np.array(['P','a','n','d','a','s'])\n",
    "\n",
    "s = pd.Series(info)\n",
    "\n",
    "print(s)\n"
   ]
  },
  {
   "cell_type": "code",
   "execution_count": null,
   "id": "5f4ab83e",
   "metadata": {},
   "outputs": [],
   "source": [
    "# To create a DataFrame\n",
    "\n",
    "import pandas as pd\n",
    "\n",
    "info = ['Python','Pandas']\n",
    "\n",
    "df = pd.DataFrame(info)\n",
    "\n",
    "print(df)\n"
   ]
  },
  {
   "cell_type": "code",
   "execution_count": null,
   "id": "8e5d696a",
   "metadata": {},
   "outputs": [],
   "source": [
    "# Create a series from a dictionary\n",
    "\n",
    "info = {'x':100,'y':1,'z':2}\n",
    "\n",
    "s = pd.Series(info)\n",
    "print(s[0])\n"
   ]
  },
  {
   "cell_type": "code",
   "execution_count": null,
   "id": "659bbe86",
   "metadata": {},
   "outputs": [],
   "source": [
    "s = pd.Series([1,2,3],index=['x','y','z'])\n",
    "\n",
    "print(s)\n",
    "print(s[0])\n"
   ]
  },
  {
   "cell_type": "code",
   "execution_count": null,
   "id": "1dd4f079",
   "metadata": {},
   "outputs": [],
   "source": [
    "x = pd.Series(data=[2,4,6,8,np.NaN])\n",
    "y = pd.Series(data=[10.5,12.5,16.5],index=['a','b','c'])\n",
    "\n",
    "print(x.index)\n",
    "print(x.values)\n",
    "\n",
    "print(y.index)\n",
    "print(y.values)\n",
    "\n",
    "print(y[0])\n",
    "\n",
    "print(x.dtype)\n",
    "\n",
    "print(x.shape)\n",
    "print(y.shape)\n",
    "\n",
    "print(x.count())\n",
    "\n",
    "print(len(x))\n",
    "\n"
   ]
  },
  {
   "cell_type": "code",
   "execution_count": null,
   "id": "4f6824df",
   "metadata": {},
   "outputs": [],
   "source": [
    "a = pd.Series(['Python','Go','Java','C','C++'])\n",
    "\n",
    "print(a)\n",
    "\n",
    "a = a.map({'Python':'Data Analysis'})\n",
    "# TO Check and come back about .map\n",
    "print(a)\n"
   ]
  },
  {
   "cell_type": "code",
   "execution_count": null,
   "id": "57449c6e",
   "metadata": {},
   "outputs": [],
   "source": [
    "# std using numpy\n",
    "\n",
    "print(np.std([10,14,3,1,53,33,56]))\n"
   ]
  },
  {
   "cell_type": "code",
   "execution_count": null,
   "id": "334375fe",
   "metadata": {
    "scrolled": true
   },
   "outputs": [],
   "source": [
    "# STD On a dataframe\n",
    "info= {'Name':['Jiten','Kaleem','John','Anila'],   \n",
    "      'Sem1':[65,46,87,56],\n",
    "      'Sem2':[86,67,65,76]\n",
    "      }\n",
    "df = pd.DataFrame(info)\n",
    "print(df['Name']) # Print Elements of Column Name\n",
    "df.std()\n"
   ]
  },
  {
   "cell_type": "code",
   "execution_count": null,
   "id": "35888668",
   "metadata": {
    "scrolled": true
   },
   "outputs": [],
   "source": [
    "# Series to dataframe\n",
    "emp = ['Jiten','Kaleem','John','Anila']\n",
    "id = [100,103,104,108]\n",
    "\n",
    "emp_series = pd.Series(emp)\n",
    "\n",
    "id_series = pd.Series(id)\n",
    "\n",
    "frame= {\"Emp Details\":emp_series,\"ID\":id_series}\n",
    "\n",
    "df = pd.DataFrame(frame)\n",
    "print(df)\n"
   ]
  },
  {
   "cell_type": "code",
   "execution_count": null,
   "id": "24b758b3",
   "metadata": {},
   "outputs": [],
   "source": [
    "# 2021-12-15 Exercise 1.1 - Series\n",
    "X = pd.Series([10, 15, 17, 21])\n",
    "Y = pd.Series([15,22,24,27])\n",
    "Z = pd.Series([27,29,25,34])\n",
    "dfs = pd.DataFrame({'X': X, 'Y': Y, 'Z': Z})\n",
    "print(dfs)\n"
   ]
  },
  {
   "cell_type": "code",
   "execution_count": null,
   "id": "d844de52",
   "metadata": {},
   "outputs": [],
   "source": [
    "# 2021-12-15 Exercise 1.2 - Dataframe\n",
    "aDataFrame = pd.DataFrame(\n",
    "    {\n",
    "        \"X\": [10, 15, 17, 21],\n",
    "        \"Y\": [15,22,24,27],\n",
    "        \"Z\": [27,29,25,34]\n",
    "    }\n",
    ")\n",
    "print(aDataFrame)"
   ]
  },
  {
   "cell_type": "code",
   "execution_count": 6,
   "id": "2f599b59",
   "metadata": {},
   "outputs": [
    {
     "name": "stdout",
     "output_type": "stream",
     "text": [
      "             name  scores  attempts qualified\n",
      "Student A  Jitten    90.0       0.0       Yes\n",
      "Student B   Jayam    80.0       2.0       Yes\n",
      "Student C   Rahim     NaN       4.0        No\n",
      "Student D    John    60.0       NaN        No\n"
     ]
    }
   ],
   "source": [
    "'''\n",
    "2021-12-15 Exercise 2 - Write a Pandas program to\n",
    "create and display a dataframe from a dictionary that has index labels\n",
    "Sample data\n",
    "name_data = (\"name\": [\"Jitten\", \"Jayam\", \"Rahim\", \"John\"])\n",
    "scores_data = (\"scores\": [90, 80, 70, 60])\n",
    "attempt_data = (\"attempts\": [0, 2, 4, 6])\n",
    "label_data = (\"Labels\": ['A', 'B', 'C', 'D'])\n",
    "'''\n",
    "schoolData = pd.DataFrame(\n",
    "    {\n",
    "        \"name\":         [\"Jitten\", \"Jayam\", \"Rahim\", \"John\"],\n",
    "        \"scores\":       [90, 80, np.NaN, 60],\n",
    "        \"attempts\":     [0, 2, 4, np.NaN],\n",
    "        \"qualified\":    [\"Yes\", \"Yes\", \"No\", \"No\"]\n",
    "    }\n",
    ")\n",
    "studentIndex = ['Student ' + chr(i) for i in range(ord('A'),ord('E'))]\n",
    "schoolData.index = studentIndex\n",
    "print(schoolData)\n"
   ]
  },
  {
   "cell_type": "code",
   "execution_count": null,
   "id": "92665955",
   "metadata": {},
   "outputs": [],
   "source": [
    "'''\n",
    "2021-12-15 Exercise 3 - Create a Pandas Dataframe with 3-4 series\n",
    "and provide a summary of information\n",
    "\n",
    "hint: use df.Info function\n",
    "'''\n",
    "schoolData.info(verbose=bool)\n",
    "aDataFrame.describe()"
   ]
  },
  {
   "cell_type": "code",
   "execution_count": null,
   "id": "206c5e70",
   "metadata": {},
   "outputs": [],
   "source": [
    "'''\n",
    "2021-12-15 Exercise 4 - Create a Pandas Dataframe\n",
    "to fetch only a given number of rows of information.\n",
    "\n",
    "Example:\n",
    "If there are only 10 rows, get only 3 rows.\n",
    "'''\n",
    "\n",
    "exe4 = pd.DataFrame(np.random.randint(0,100,size=(100, 4)), columns=list('ABCD'))\n",
    "print(exe4.head())\n",
    "print(exe4.tail(10))\n",
    "print(exe4.loc[92:94,:])\n",
    "\n"
   ]
  },
  {
   "cell_type": "code",
   "execution_count": null,
   "id": "376500a2",
   "metadata": {},
   "outputs": [],
   "source": [
    "'''\n",
    "2021-12-15 Exercise 5 - create a dataframe with 4 columns including name and score.\n",
    "Fetch data of only name and score.\n",
    "'''\n",
    "\n",
    "schoolData.loc[:,'name':'scores']"
   ]
  },
  {
   "cell_type": "code",
   "execution_count": null,
   "id": "bfa9952c",
   "metadata": {},
   "outputs": [],
   "source": [
    "'''\n",
    "2021-12-15 Exercise 6 - Create a DataFrame to print number of rows and number columns\n",
    "'''\n",
    "print(f'The number of rows in \"schoolData\" is: {len(schoolData)}')\n",
    "print(f'The number of columns in \"schoolData\" is: {len(schoolData.columns)}')\n"
   ]
  },
  {
   "cell_type": "code",
   "execution_count": null,
   "id": "d213799b",
   "metadata": {},
   "outputs": [],
   "source": [
    "'''\n",
    "2021-12-15 Exercise 7 - find missing rows of 'score' that is np.nan\n",
    "'''\n",
    "print(schoolData.isnull())\n",
    "\n",
    "print(schoolData.fillna(np.mean(schoolData)))"
   ]
  },
  {
   "cell_type": "code",
   "execution_count": 10,
   "id": "73b9909c",
   "metadata": {},
   "outputs": [
    {
     "data": {
      "text/html": [
       "<div>\n",
       "<style scoped>\n",
       "    .dataframe tbody tr th:only-of-type {\n",
       "        vertical-align: middle;\n",
       "    }\n",
       "\n",
       "    .dataframe tbody tr th {\n",
       "        vertical-align: top;\n",
       "    }\n",
       "\n",
       "    .dataframe thead th {\n",
       "        text-align: right;\n",
       "    }\n",
       "</style>\n",
       "<table border=\"1\" class=\"dataframe\">\n",
       "  <thead>\n",
       "    <tr style=\"text-align: right;\">\n",
       "      <th></th>\n",
       "      <th>name</th>\n",
       "      <th>scores</th>\n",
       "      <th>attempts</th>\n",
       "      <th>qualified</th>\n",
       "    </tr>\n",
       "  </thead>\n",
       "  <tbody>\n",
       "    <tr>\n",
       "      <th>Student A</th>\n",
       "      <td>Jitten</td>\n",
       "      <td>90.000000</td>\n",
       "      <td>0.0</td>\n",
       "      <td>True</td>\n",
       "    </tr>\n",
       "    <tr>\n",
       "      <th>Student B</th>\n",
       "      <td>Jayam</td>\n",
       "      <td>80.000000</td>\n",
       "      <td>2.0</td>\n",
       "      <td>True</td>\n",
       "    </tr>\n",
       "    <tr>\n",
       "      <th>Student C</th>\n",
       "      <td>Rahim</td>\n",
       "      <td>76.666667</td>\n",
       "      <td>4.0</td>\n",
       "      <td>False</td>\n",
       "    </tr>\n",
       "    <tr>\n",
       "      <th>Student D</th>\n",
       "      <td>John</td>\n",
       "      <td>60.000000</td>\n",
       "      <td>2.0</td>\n",
       "      <td>False</td>\n",
       "    </tr>\n",
       "  </tbody>\n",
       "</table>\n",
       "</div>"
      ],
      "text/plain": [
       "             name     scores  attempts  qualified\n",
       "Student A  Jitten  90.000000       0.0       True\n",
       "Student B   Jayam  80.000000       2.0       True\n",
       "Student C   Rahim  76.666667       4.0      False\n",
       "Student D    John  60.000000       2.0      False"
      ]
     },
     "execution_count": 10,
     "metadata": {},
     "output_type": "execute_result"
    }
   ],
   "source": [
    "\"\"\"\n",
    "2021-12-15 Exercise 8:\n",
    "1. fill score NaN with mean\n",
    "2. fill attempts NaN with median\n",
    "3. In qualified, change all yes to True and all no to False\n",
    "\"\"\"\n",
    "exercise8 = schoolData.replace({\n",
    "    'scores':{\n",
    "        np.NaN: schoolData[\"scores\"].mean()\n",
    "    },\n",
    "    'attempts':{\n",
    "        np.NaN: schoolData[\"attempts\"].median()\n",
    "    },\n",
    "    'qualified':{\n",
    "        'Yes': True,\n",
    "        'No': False\n",
    "    }\n",
    "})\n",
    "exercise8"
   ]
  },
  {
   "cell_type": "code",
   "execution_count": null,
   "id": "e7091b4c",
   "metadata": {},
   "outputs": [],
   "source": []
  },
  {
   "cell_type": "code",
   "execution_count": null,
   "id": "7c33813f",
   "metadata": {},
   "outputs": [],
   "source": [
    "# Mean on dataframe\n",
    "\n",
    "info = pd.DataFrame({\"A\":[8,4,3,10,12,14],\n",
    "                   \"B\":[12,4,14,6,7,16],\n",
    "                    \"C\":[4,12,45,3,29,34],\n",
    "                    \"D\":[14,13,4,12,13,15]})\n",
    "\n",
    "#help(pd.DataFrame.mean)\n",
    "#info.mean()\n",
    "#info.head()\n",
    "#info.count()\n",
    "#info.sum()\n",
    "table = pd.pivot_table(info,index=['A','B'],aggfunc=np.sum)\n",
    "table\n",
    "\n",
    "#help(pd.pivot_table)\n",
    "\n"
   ]
  },
  {
   "cell_type": "code",
   "execution_count": null,
   "id": "bfcd6f63",
   "metadata": {},
   "outputs": [],
   "source": [
    "\n",
    "df = pd.DataFrame({\"A\":[12, 4, 5, None, 1],\n",
    "                   \"B\":[7, 2, 54, 3, None], \n",
    "                   \"C\":[20, 16, 11, 3, 8], \n",
    "                   \"D\":[14, 3, None, 2, 6]})\n",
    "  \n",
    "# Print the dataframe\n",
    "print(df)\n",
    "\n",
    "df.median(axis = 1, skipna = True)\n",
    "\n",
    "\n"
   ]
  }
 ],
 "metadata": {
  "kernelspec": {
   "display_name": "Python 3 (ipykernel)",
   "language": "python",
   "name": "python3"
  },
  "language_info": {
   "codemirror_mode": {
    "name": "ipython",
    "version": 3
   },
   "file_extension": ".py",
   "mimetype": "text/x-python",
   "name": "python",
   "nbconvert_exporter": "python",
   "pygments_lexer": "ipython3",
   "version": "3.10.0"
  }
 },
 "nbformat": 4,
 "nbformat_minor": 5
}
