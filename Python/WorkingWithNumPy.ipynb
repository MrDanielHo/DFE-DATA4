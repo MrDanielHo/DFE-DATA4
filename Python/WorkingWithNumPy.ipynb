{
 "cells": [
  {
   "cell_type": "code",
   "execution_count": 13,
   "metadata": {},
   "outputs": [],
   "source": [
    "import numpy as np"
   ]
  },
  {
   "cell_type": "code",
   "execution_count": 14,
   "metadata": {},
   "outputs": [
    {
     "name": "stdout",
     "output_type": "stream",
     "text": [
      "[[ 10   5   8  32]\n",
      " [ 65  43  90 100]]\n",
      "Size:\t 8\n",
      "Shape:\t (2, 4)\n",
      "Data Type:\t int32\n"
     ]
    }
   ],
   "source": [
    "ages_list = [10, 5, 8, 32, 65 ,43, 90, 100]\n",
    "ages = np.array([ages_list])\n",
    "ages = ages.reshape(2, 4)\n",
    "print(ages)\n",
    "print (\"Size:\\t\", ages.size) # Total number of entries\n",
    "print (\"Shape:\\t\", ages.shape) # the number of rows and columns\n",
    "print (\"Data Type:\\t\", ages.dtype)"
   ]
  },
  {
   "cell_type": "markdown",
   "metadata": {},
   "source": [
    "### Exercise\n",
    "1)  Generate a 1D numpy array with the values [7, 9, 65, 33, 85, 99]\n",
    "2)  Generate a matrix (2D numpy array) of the vaues:\n",
    "        (1 2 4)\n",
    "    A = (2 3 0)\n",
    "        (0 5 1)\n",
    "    - Change the dimensions of this array to another permitted shape\n",
    "<p>\n",
    "\n",
    "3)  Run the below code and attempt to reshape the data array to the correct format:\n",
    "    * ```c1 = np.random.randint(0,110,50)```\n",
    "    * ```c2 = np.random.rand(50)```\n",
    "    * ```c3 = np.random.choice(['french', 'english'], 50)```\n",
    "    * ```data = np.column_stack((c1, c2, c3)).flatten()```"
   ]
  },
  {
   "cell_type": "code",
   "execution_count": 15,
   "metadata": {},
   "outputs": [
    {
     "name": "stdout",
     "output_type": "stream",
     "text": [
      "[ 7  9 65 33 85 99]\n"
     ]
    }
   ],
   "source": [
    "c1 = np.random.randint(0,110,50)\n",
    "c2 = np.random.rand(50)\n",
    "c3 = np.random.choice(['french', 'english'], 50)\n",
    "data = np.column_stack((c1, c2, c3)).flatten()\n",
    "\n",
    "exe1 = np.array([7, 9, 65, 33, 85, 99])\n",
    "print(exe1)\n"
   ]
  },
  {
   "cell_type": "code",
   "execution_count": 16,
   "metadata": {},
   "outputs": [
    {
     "name": "stdout",
     "output_type": "stream",
     "text": [
      "[[1 2 4]\n",
      " [2 3 0]\n",
      " [0 5 1]]\n"
     ]
    }
   ],
   "source": [
    "\n",
    "exe2 = np.array(\n",
    "    [[1, 2, 4,],\n",
    "    [2, 3, 0],\n",
    "    [0, 5, 1]]\n",
    ")\n",
    "print(exe2)"
   ]
  },
  {
   "cell_type": "code",
   "execution_count": 17,
   "metadata": {},
   "outputs": [
    {
     "name": "stdout",
     "output_type": "stream",
     "text": [
      "[[1]\n",
      " [2]\n",
      " [4]\n",
      " [2]\n",
      " [3]\n",
      " [0]\n",
      " [0]\n",
      " [5]\n",
      " [1]]\n",
      "[['39' '0.42129246286726196' 'french']\n",
      " ['89' '0.24202428838451207' 'french']\n",
      " ['39' '0.2971096434231859' 'french']\n",
      " ['35' '0.5718282024444041' 'english']\n",
      " ['3' '0.5375401568840038' 'english']\n",
      " ['83' '0.28972933935913725' 'french']\n",
      " ['14' '0.5926336100607945' 'english']\n",
      " ['28' '0.44999135859688466' 'english']\n",
      " ['56' '0.9804099125208456' 'english']\n",
      " ['31' '0.871683427055945' 'english']\n",
      " ['46' '0.9732672590300941' 'french']\n",
      " ['40' '0.991448992687789' 'french']\n",
      " ['54' '0.2044987565514097' 'english']\n",
      " ['72' '0.6040779864635013' 'french']\n",
      " ['48' '0.11146468896098849' 'english']\n",
      " ['22' '0.5388701330707936' 'english']\n",
      " ['85' '0.43781248871444356' 'french']\n",
      " ['1' '0.7916343717106081' 'english']\n",
      " ['65' '0.13244213134720717' 'english']\n",
      " ['36' '0.9915666346904933' 'english']\n",
      " ['83' '0.04085180783788134' 'english']\n",
      " ['95' '0.5074987241131355' 'english']\n",
      " ['59' '0.2628705843609025' 'french']\n",
      " ['41' '0.7037217356642361' 'english']\n",
      " ['0' '0.1330560397971441' 'french']\n",
      " ['52' '0.4777442072090662' 'english']\n",
      " ['69' '0.9563939625444788' 'french']\n",
      " ['29' '0.73326429181639' 'english']\n",
      " ['75' '0.1410160106915107' 'french']\n",
      " ['83' '0.10679462196732714' 'english']\n",
      " ['12' '0.4287928679229849' 'english']\n",
      " ['100' '0.03668342297310878' 'french']\n",
      " ['12' '0.5796188155325259' 'english']\n",
      " ['65' '0.8860684958241988' 'french']\n",
      " ['39' '0.37306196720739093' 'english']\n",
      " ['96' '0.977713425896094' 'english']\n",
      " ['56' '0.759035434605272' 'english']\n",
      " ['14' '0.053112743580687405' 'french']\n",
      " ['18' '0.3085243368572199' 'french']\n",
      " ['21' '0.8191088943689866' 'english']\n",
      " ['86' '0.8743051780655589' 'english']\n",
      " ['109' '0.5511864666712109' 'english']\n",
      " ['56' '0.7636519077783337' 'french']\n",
      " ['107' '0.6457072941768683' 'french']\n",
      " ['81' '0.16915325450294427' 'english']\n",
      " ['82' '0.7140443658515675' 'english']\n",
      " ['85' '0.5858777036163657' 'english']\n",
      " ['26' '0.05243441194106102' 'english']\n",
      " ['27' '0.24565967418009382' 'french']\n",
      " ['30' '0.06087744119067007' 'french']]\n"
     ]
    }
   ],
   "source": [
    "exe2 = exe2.reshape(9,1)\n",
    "print(exe2)\n",
    "\n",
    "print(data.reshape(int(data.size/3),3))"
   ]
  },
  {
   "cell_type": "code",
   "execution_count": 18,
   "metadata": {},
   "outputs": [
    {
     "name": "stdout",
     "output_type": "stream",
     "text": [
      "[ 0  5 10 15 20 25 30 35 40 45 50]\n",
      "[  0.           4.16666667   8.33333333  12.5         16.66666667\n",
      "  20.83333333  25.          29.16666667  33.33333333  37.5\n",
      "  41.66666667  45.83333333  50.          54.16666667  58.33333333\n",
      "  62.5         66.66666667  70.83333333  75.          79.16666667\n",
      "  83.33333333  87.5         91.66666667  95.83333333 100.        ]\n",
      "[2 2 2 2 2 2 2 2 2 2]\n"
     ]
    }
   ],
   "source": [
    "# numpy.arange() stores beginnning value, ending value, and step only.\n",
    "print(np.arange(0,55,5)) \n",
    "\n",
    "#numpy.linspace() gives you linear data points on a line\n",
    "print(np.linspace(0, 100, 25))\n",
    "\n",
    "#numpy.repeat\n",
    "print(np.repeat(2,10))"
   ]
  },
  {
   "cell_type": "code",
   "execution_count": 19,
   "metadata": {},
   "outputs": [
    {
     "name": "stdout",
     "output_type": "stream",
     "text": [
      "[[1. 0. 0.]\n",
      " [0. 1. 0.]\n",
      " [0. 0. 1.]]\n",
      "[0.0, 0.75, 1.5, 2.25, 3.0, 3.75, 4.5, 5.25, 6.0, 6.75, 7.5, 8.25, 9.0, 9.75, 10.5, 11.25, 12.0, 12.75, 13.5, 14.25, 15.0, 15.75, 16.5, 17.25, 18.0, 18.75, 19.5, 20.25, 21.0, 21.75, 22.5, 23.25, 24.0, 24.75, 25.5, 26.25, 27.0, 27.75, 28.5, 29.25, 30.0, 30.75, 31.5, 32.25, 33.0, 33.75, 34.5, 35.25, 36.0, 36.75]\n",
      "[0.0, 0.75, 1.5, 2.25, 3.0, 3.75, 4.5, 5.25, 6.0, 6.75, 7.5, 8.25, 9.0, 9.75, 10.5, 11.25, 12.0, 12.75, 13.5, 14.25, 15.0, 15.75, 16.5, 17.25, 18.0, 18.75, 19.5, 20.25, 21.0, 21.75, 22.5, 23.25, 24.0, 24.75, 25.5, 26.25, 27.0, 27.75, 28.5, 29.25, 30.0, 30.75, 31.5, 32.25, 33.0, 33.75, 34.5, 35.25, 36.0, 36.75]\n"
     ]
    }
   ],
   "source": [
    "\n",
    "identityMatrix = np.eye(3)\n",
    "print(identityMatrix)\n",
    "\n",
    "list1 = []\n",
    "for i in range(50):\n",
    "    list1.append(i * 0.75)\n",
    "print(list1)\n",
    "\n",
    "list2 = ([i * 0.75 for i in range(50)])\n",
    "print(list2)"
   ]
  },
  {
   "cell_type": "markdown",
   "metadata": {},
   "source": [
    "Both the below scripts produces the multiples of 5 up to 50.\n",
    "\n",
    "The For loop does not allow interactions between lists and integers. \n",
    "\n",
    "numpy.arange() allows us to perform operations over the array."
   ]
  },
  {
   "cell_type": "code",
   "execution_count": 20,
   "metadata": {},
   "outputs": [
    {
     "name": "stdout",
     "output_type": "stream",
     "text": [
      "0: [ 0  5 10 15 20 25 30 35 40 45 50]\n",
      "1: [  0  10  20  30  40  50  60  70  80  90 100]\n",
      "2: [10 15 20 25 30 35 40 45 50 55 60]\n",
      "3: [-1  4  9 14 19 24 29 34 39 44 49]\n",
      "4: [ 0.  1.  2.  3.  4.  5.  6.  7.  8.  9. 10.]\n",
      "5: [   0   25  100  225  400  625  900 1225 1600 2025 2500]\n",
      "6: [ True  True  True  True False False False False False False False]\n",
      "7: [ 0  5 10 15 20]\n"
     ]
    }
   ],
   "source": [
    "fiveTimesTable = [i * 5 for i in range(11)]\n",
    "fiveTimesTable = np.arange(0, 55, 5)\n",
    "print(f\"0: {fiveTimesTable}\")\n",
    "print(f\"1: {2 * fiveTimesTable}\")\n",
    "print(f\"2: {10 + fiveTimesTable}\")\n",
    "print(f\"3: {fiveTimesTable - 1}\")\n",
    "print(f\"4: {fiveTimesTable / 5}\")\n",
    "print(f\"5: {fiveTimesTable ** 2}\")\n",
    "print(f\"6: {fiveTimesTable < 20}\")\n",
    "print(f\"7: {fiveTimesTable[~(fiveTimesTable > 20)]}\")"
   ]
  }
 ],
 "metadata": {
  "interpreter": {
   "hash": "855ae122d4fcda6f141f92c8875720321028ea409d34d35b900b724463e5c1c0"
  },
  "kernelspec": {
   "display_name": "Python 3.10.0 64-bit",
   "language": "python",
   "name": "python3"
  },
  "language_info": {
   "codemirror_mode": {
    "name": "ipython",
    "version": 3
   },
   "file_extension": ".py",
   "mimetype": "text/x-python",
   "name": "python",
   "nbconvert_exporter": "python",
   "pygments_lexer": "ipython3",
   "version": "3.10.0"
  },
  "orig_nbformat": 4
 },
 "nbformat": 4,
 "nbformat_minor": 2
}
