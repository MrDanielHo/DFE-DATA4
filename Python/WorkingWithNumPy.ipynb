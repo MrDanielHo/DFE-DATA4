{
 "cells": [
  {
   "cell_type": "code",
   "execution_count": null,
   "metadata": {},
   "outputs": [],
   "source": [
    "import numpy as np"
   ]
  },
  {
   "cell_type": "code",
   "execution_count": null,
   "metadata": {},
   "outputs": [],
   "source": [
    "ages_list = [10, 5, 8, 32, 65 ,43, 90, 100]\n",
    "ages = np.array([ages_list])\n",
    "ages = ages.reshape(2, 4)\n",
    "print(ages)\n",
    "print (\"Size:\\t\", ages.size) # Total number of entries\n",
    "print (\"Shape:\\t\", ages.shape) # the number of rows and columns\n",
    "print (\"Data Type:\\t\", ages.dtype)"
   ]
  },
  {
   "cell_type": "markdown",
   "metadata": {},
   "source": [
    "### Exercise\n",
    "1)  Generate a 1D numpy array with the values [7, 9, 65, 33, 85, 99]\n",
    "2)  Generate a matrix (2D numpy array) of the vaues:\n",
    "   \n",
    "        (1 2 4)\n",
    "    A = (2 3 0)\n",
    "        (0 5 1)\n",
    "   \n",
    "    - Change the dimensions of this array to another permitted shape\n",
    "<p>\n",
    "\n",
    "3)  Run the below code and attempt to reshape the data array to the correct format:\n",
    "    * ```c1 = np.random.randint(0,110,50)```\n",
    "    * ```c2 = np.random.rand(50)```\n",
    "    * ```c3 = np.random.choice(['french', 'english'], 50)```\n",
    "    * ```data = np.column_stack((c1, c2, c3)).flatten()```"
   ]
  },
  {
   "cell_type": "code",
   "execution_count": null,
   "metadata": {},
   "outputs": [],
   "source": [
    "\n",
    "exe1 = np.array([7, 9, 65, 33, 85, 99])\n",
    "print(exe1)\n"
   ]
  },
  {
   "cell_type": "code",
   "execution_count": null,
   "metadata": {},
   "outputs": [],
   "source": [
    "\n",
    "exe2 = np.array(\n",
    "    [[1, 2, 4,],\n",
    "    [2, 3, 0],\n",
    "    [0, 5, 1]]\n",
    ")\n",
    "print(exe2)"
   ]
  },
  {
   "cell_type": "code",
   "execution_count": null,
   "metadata": {},
   "outputs": [],
   "source": [
    "exe2 = exe2.reshape(9,1)\n",
    "print(exe2)\n",
    "\n",
    "print(data.reshape(int(data.size/3),3))"
   ]
  },
  {
   "cell_type": "code",
   "execution_count": null,
   "metadata": {},
   "outputs": [],
   "source": [
    "c1 = np.random.randint(0,110,50)\n",
    "c2 = np.random.rand(50)\n",
    "c3 = np.random.choice(['french', 'english'], 50)\n",
    "data = np.column_stack((c1, c2, c3)).flatten()\n"
   ]
  },
  {
   "cell_type": "code",
   "execution_count": null,
   "metadata": {},
   "outputs": [],
   "source": [
    "# numpy.arange() stores beginnning value, ending value, and step only.\n",
    "print(np.arange(0,55,5)) \n",
    "\n",
    "#numpy.linspace() gives you linear data points on a line\n",
    "print(np.linspace(0, 100, 25))\n",
    "\n",
    "#numpy.repeat\n",
    "print(np.repeat(2,10))"
   ]
  },
  {
   "cell_type": "code",
   "execution_count": null,
   "metadata": {},
   "outputs": [],
   "source": [
    "\n",
    "identityMatrix = np.eye(3)\n",
    "print(identityMatrix)\n",
    "\n",
    "list1 = []\n",
    "for i in range(50):\n",
    "    list1.append(i * 0.75)\n",
    "print(list1)\n",
    "\n",
    "list2 = ([i * 0.75 for i in range(50)])\n",
    "print(list2)"
   ]
  },
  {
   "cell_type": "markdown",
   "metadata": {},
   "source": [
    "Both the below scripts produces the multiples of 5 up to 50.\n",
    "\n",
    "The For loop does not allow interactions between lists and integers. \n",
    "\n",
    "numpy.arange() allows us to perform operations over the array."
   ]
  },
  {
   "cell_type": "code",
   "execution_count": null,
   "metadata": {},
   "outputs": [],
   "source": [
    "fiveTimesTable = [i * 5 for i in range(11)]\n",
    "fiveTimesTable = np.arange(0, 55, 5)\n",
    "print(f\"0: {fiveTimesTable}\")\n",
    "print(f\"1: {2 * fiveTimesTable}\")\n",
    "print(f\"2: {10 + fiveTimesTable}\")\n",
    "print(f\"3: {fiveTimesTable - 1}\")\n",
    "print(f\"4: {fiveTimesTable / 5}\")\n",
    "print(f\"5: {fiveTimesTable ** 2}\")\n",
    "print(f\"6: {fiveTimesTable < 20}\")\n",
    "print(f\"7: {fiveTimesTable[~(fiveTimesTable > 20)]}\")"
   ]
  }
 ],
 "metadata": {
  "interpreter": {
   "hash": "855ae122d4fcda6f141f92c8875720321028ea409d34d35b900b724463e5c1c0"
  },
  "kernelspec": {
   "display_name": "Python 3.10.0 64-bit",
   "language": "python",
   "name": "python3"
  },
  "language_info": {
   "codemirror_mode": {
    "name": "ipython",
    "version": 3
   },
   "file_extension": ".py",
   "mimetype": "text/x-python",
   "name": "python",
   "nbconvert_exporter": "python",
   "pygments_lexer": "ipython3",
   "version": "3.10.0"
  },
  "orig_nbformat": 4
 },
 "nbformat": 4,
 "nbformat_minor": 2
}
