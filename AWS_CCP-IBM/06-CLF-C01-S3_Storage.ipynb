{
 "cells": [
  {
   "cell_type": "markdown",
   "metadata": {},
   "source": [
    "# Amazon S3\n",
    "Amazon S3 is a fully managed, object-based storage service that is highly available, highly durable, very cost-effective, and widely accessible.\n",
    "\n",
    "It is promoted as having unlimited storage.<br>\n",
    "There is a minimum file size of 0 bytes.<br>\n",
    "There is a maximum file size of 5 terabytes.\n",
    "\n",
    "The service operates an object storage service meaning all uploads do not conform to a data structure hierachy like a file system would.<br>\n",
    "Instead its architecture exists across a flat address space and is refereced by a unique URL.\n",
    "\n",
    "Comparing this to file storage, where data is stored as separate files within a series of directories forming a data structure hierachy like files on a computer, then S3 storage is very different in comparison.\n",
    "\n",
    "S3 is a regional service therefore when uploading data, you are required to specify the regional location for the data to be stored.\n",
    "\n",
    "By specifiying the region for the data, Amazon S3 will then store and duplicate the upload multiple times across multiple availability zones within that region to increase durability and availability.\n",
    "\n",
    "Objects stored in S3 have a durability of 99.999 999 999% (the eleven 9s of durability), so the likelihood of losing data is extremely low and this is due to the duplication of data in different availability zones.<br>\n",
    "The availability of S3 data objects is dependent on the storage class used, ranging from 99.5% to 99.99%.\n",
    "\n",
    "The difference between availability and durability:\n",
    "* Availability - AWS ensures that the uptime of Amazon S3 is between 99.5% and 99.99% depending on the storage class, to enable access to the stored data.\n",
    "* Durability - The percentage referes to the probability of maintaining your data without it being lost through corruption, degreadtation of data, or other unknown potential damaging effects.\n",
    "\n",
    "When uploading objects to Amazon S3, a specific structure is used to locate your data in the flat address space."
   ]
  }
 ],
 "metadata": {
  "language_info": {
   "name": "python"
  },
  "orig_nbformat": 4
 },
 "nbformat": 4,
 "nbformat_minor": 2
}
