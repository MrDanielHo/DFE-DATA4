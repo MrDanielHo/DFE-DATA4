{
 "cells": [
  {
   "cell_type": "markdown",
   "metadata": {},
   "source": [
    "# What is Amazon EC2 Auto Scaling?\n",
    "Auto scaling is a mechanism that automatically allows you to increase or decrease your EC2 resources to meet the demand based off of custom defined metrics and thresholds.\n",
    "\n",
    "Through customisable and defined metrics, you can increase (scale out) and decrease (scale in) the size of your EC2 fleet automatically with ease.\n",
    "\n",
    "## EC2 Auto Scaling Advantages\n",
    "**Automation**<br>\n",
    "Infrastructure can elastically provision the required resources preventing the operations team from manually deploying/removing resources.\n",
    "\n",
    "**Greater customer satisfaction**<br>\n",
    "If you are always able to provision enough capacity within your environment, then it is unlikely your end users will experience performance issues.\n",
    "\n",
    "**Cost reduction**<br>\n",
    "With the ability to automatically reduce the amount of resources you have when the demand drops, you will stop paying for those resources."
   ]
  },
  {
   "cell_type": "markdown",
   "metadata": {},
   "source": [
    "# Componenets of EC2 Auto Scaling\n",
    "## Launch configuration and launch template\n",
    "These define how an Auto Scaling Group Builds new EC2 instances by asking:\n",
    "* Which Amazon Machine Image to use\n",
    "* Which Instance type to use\n",
    "* The use of Spot Instances\n",
    "* If and when Public IP addresses should be used\n",
    "* If any user data is on first boot\n",
    "* What storage volume configuration should be used\n",
    "* What Security Groups should be used\n",
    "\n",
    "A launch template is essentially a newer and more advanced version of the launch configuration.\n",
    "\n",
    "Being a template you can build a standard configuration allowing you to simplify how you launch instances for your auto scaling groups.\n",
    "\n",
    "Without either the Launch Configuration or launch template, Auto Scaling would not know what instance it was launching and to which configuration."
   ]
  },
  {
   "cell_type": "markdown",
   "metadata": {},
   "source": [
    "# Using ELB and EC2 Auto Scaling Together\n",
    "It is easy to associate your EC2 Auto Scaling Group to an Elastic Load Balancer.\n",
    "\n",
    "The ELB allows you to dynamically manage load across your resources based on target groups and rules.\n",
    "\n",
    "EC2 auto scaling allows you to elastically scale those target groups based upon the demand put upon your infrastructure.\n",
    "\n",
    "One without the other may cause some issues:<br>\n",
    "* Suppose you have an ELB configured but without any autoscaling.<br>\n",
    "&emsp;You will need to ensure you manually add and remove targets or instances based upon the demand.<br>\n",
    "&emsp;You will need to monitor this demand and manually add/remove targets or instances as required.\n",
    "\n",
    "* Let's assume you have EC2 auto scaling configured but not ELB.<br>\n",
    "&emsp;How are you going to evenly distribute traffic to the EC2 fleet?\n",
    "\n",
    "Combining an ELB and Auto Scaling helps you to manage and automatically scale your EC2 Compute resources both in and out.\n",
    "\n",
    "## Using ELB and EC2 Auto Scaling Together\n",
    "When you attach an ELB to an auto scaling group, the ELB will automatically detect the instances and start to distribute all traffic to the resources in the auto scaling group:\n",
    "* To associate an Application Load Balancer or Network Load Balancer, you must associate the auto scaling group with the ELB target group.\n",
    "* For the Classic Load Balancer, the EC2 fleet will be registered directly with the load balancer."
   ]
  }
 ],
 "metadata": {
  "language_info": {
   "name": "python"
  },
  "orig_nbformat": 4
 },
 "nbformat": 4,
 "nbformat_minor": 2
}
