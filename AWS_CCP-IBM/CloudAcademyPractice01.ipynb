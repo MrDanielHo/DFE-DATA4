{
 "cells": [
  {
   "cell_type": "markdown",
   "metadata": {},
   "source": [
    "# 01 When using Amazon’s CloudTrail, which service is used to publish a notification?<br>\n",
    "X   Amazon Simple Message Delivery<br>\n",
    "O   Amazon Simple Notification Service<br>\n",
    "X   Amazon Message Transmission Service<br>\n",
    "X   Amazon Delivery Services<br>\n",
    "\n",
    "## Explanation\n",
    "CloudTrail uses Amazon’s Simple Notification Service to publish the notification.<br>It is possible to configure CloudTrail to publish notifications for each log file entry.<br>\n",
    "\n",
    "https://aws.amazon.com/cloudtrail/"
   ]
  },
  {
   "cell_type": "markdown",
   "metadata": {},
   "source": [
    "# 02 Which of the following is specifically an AWS security best practice?<br>\n",
    "O   Applying the principle of least privilege<br>\n",
    "X   Applying the principle of mechanical sympathy<br>\n",
    "X   To democratize advanced technologies<br>\n",
    "X   To design for failure\n",
    "## Explanation\n",
    "Applying the 'principle of least privilege' is a security best practice that essentially focuses on only granting the level of access an identity requires to perform its role.<br>This also looks at how to prevent and eliminate identities with long-term credentials.<br>\n",
    "\n",
    "https://d1.awsstatic.com/whitepapers/architecture/AWS_Well-Architected_Framework.pdf"
   ]
  },
  {
   "cell_type": "markdown",
   "metadata": {},
   "source": [
    "# 03 To ensure secure services, AWS offers shared responsibility models for each of the different type of  services that they offer which you need to be aware of.<br>Which of the following services are the responsibility of AWS? (Choose 3 answers)<br>\n",
    "X   Operating systems<br>\n",
    "O   Virtualization infrastructure<br>\n",
    "O   Network infrastructure<br>\n",
    "O   Physical security of hardware\n",
    "\n",
    "## Explanation\n",
    "AWS is responsible for what is known as Security ‘of’ the Cloud.<br>This covers their global infrastructure elements – Regions, Availability Zones, and Edge Locations, and also the foundations of their services covering Compute, Storage, Database, and Network<br>\n",
    "\n",
    "https://app.qa.com/blog/aws-shared-responsibility-model-security/"
   ]
  },
  {
   "cell_type": "markdown",
   "metadata": {},
   "source": [
    "# 04 Which statement is correct about AWS Key Management Service (KMS)?<br>\n",
    "X   KMS is a managed service from AWS that can help you generate Key-Pairs to use for instance authentication.<br>\n",
    "X   KMS is an Identity and Access Management (IAM) service that helps you generate SSH keys for IAM users to use for Authentication instead of passwords.<br>\n",
    "X   KMS is a managed service from AWS that provides Encryption-as-a-service to data at rest.<br>\n",
    "O   KMS is a managed service from AWS that enables you to easily manage and maintain encryption Keys.\n",
    "\n",
    "## Explanation\n",
    "Key Management Service is a software as a service offering from Amazon.<br>It is a managed service provided by Amazon that enables you to easily manage encryption keys.<br>\n",
    "\n",
    "Administrators at Amazon do not have access to your keys.<br>They cannot recover your keys and they do not help you with encryption of your keys.<br>AWS simply administers the operating system and the underlying application it's up to us to administer our encryption keys and administer how those keys are used.<br>\n",
    "\n",
    "https://app.qa.com/amazon-web-services/amazon-web-services-key-management-service-kms-course/key-management-service-basics.html"
   ]
  },
  {
   "cell_type": "markdown",
   "metadata": {},
   "source": [
    "# 05 What is a security benefit of the AWS cloud?<br>\n",
    "X   AWS maintains all networks<br>\n",
    "O   AWS monitors facilities and hardware<br>\n",
    "X   AWS monitors platform security<br>\n",
    "X   AWS encrypts all data in the cloud<br>\n",
    "\n",
    "## Explanation\n",
    "When using the AWS cloud, AWS is responsible for monitoring and maintaining the security of facilities and hardware, so that the customer can focus on security within the cloud.<br>Network, platform, and data security within the cloud are all the responsibility of the customer.<br>\n",
    "\n",
    "https://docs.aws.amazon.com/whitepapers/latest/aws-overview/security-and-compliance.html"
   ]
  },
  {
   "cell_type": "markdown",
   "metadata": {},
   "source": [
    "# 06 In regards to disaster recovery, what is a recovery point objective (RPO)?<br>\n",
    "X   The time it takes after a disruption to restore a system to its service level.<br>\n",
    "O   It is the acceptable amount of data loss measured in time.<br>\n",
    "X   The time it takes to scale a functioning resource horizontally to adapt to increased demand.<br>\n",
    "X   The time it takes to scale a functioning resource vertically to adapt to increased demand.\n",
    "\n",
    "## Explanation\n",
    "The recovery point objective (RPO) is the amount of acceptable data loss measured in time.<br>For example, a transactional business cannot afford a great deal of data loss, so its RPO is likely less than one hour because an hour is a great expense in terms of data loss.<br>However, for a more isolated website with minimal customer interaction, an RPO of a day may be acceptable because this represents a tolerable amount of data loss.<br>\n",
    "\n",
    "https://d1.awsstatic.com/whitepapers/Storage/Backup_and_Recovery_Approaches_Using_AWS.pdf"
   ]
  },
  {
   "cell_type": "markdown",
   "metadata": {},
   "source": [
    "# 07 When you launch an instance using Amazon EC2, you must specify a geographic region in which to launch the instance, and a corresponding ____, which is an isolated location in that region where the physical hardware on which the instance will be launched is located.<br>\n",
    "O   availability zone<br>\n",
    "X   sub-region<br>\n",
    "X   vicinity<br>\n",
    "X   sector\n",
    "\n",
    "## Explanation\n",
    "Amazon EC2 is hosted in multiple locations worldwide.<br>These locations are composed of regions and Availability Zones.<br>Each region is a separate geographic area.<br>Each region has multiple, isolated locations known as Availability Zones.<br>Each region is completely independent.<br>Each Availability Zone is isolated, but the Availability Zones in a region are connected through low-latency links.<br>\n",
    "\n",
    "http://docs.aws.amazon.com/AWSEC2/latest/UserGuide/using-regions-availability-zones.html"
   ]
  },
  {
   "cell_type": "markdown",
   "metadata": {},
   "source": [
    "# 08 What does the phrase 'stop guessing capacity' mean?<br>\n",
    "O   To determine quantity of resources used on performance metrics<br>\n",
    "X   To implement self-healing processes<br>\n",
    "X   To set correct data storage lifecycles<br>\n",
    "X   To use elastic IP addresses to increase high availability<br>\n",
    "\n",
    "## Explanation\n",
    "One of the best practices of the reliability pillar of the Well-Architected Framework is to 'stop guessing capacity.' This looks at the use of Auto Scaling to prevent the need to predict and guess your capacity and demand requirement which aids in a better end-user experience.<br>\n",
    "\n",
    "https://d1.awsstatic.com/whitepapers/architecture/AWS_Well-Architected_Framework.pdf"
   ]
  },
  {
   "cell_type": "markdown",
   "metadata": {},
   "source": [
    "# 09  When processing workloads on specific Amazon EC2 instances that require a higher level of durability, and the ability for an instance to quickly retrieve the data, the recommended option is to use ____.<br>\n",
    "X   Amazon Glacier storage<br>\n",
    "X   Amazon EC2 instance store volumes<br>\n",
    "X   Amazon S3 object storage<br>\n",
    "O   Amazon EBS volumes\n",
    "\n",
    "## Explanation\n",
    "The recommended option for temporary data is to use the local instance store.<br>For data requiring a higher level of durability, you can use Amazon EBS volumes, or back up the data to Amazon S3.<br>If you want an EC2 instance to be able to quickly access the data, as well as provide durable storage, then Amazon EBS volumes are the best choice.<br>\n",
    "\n",
    "https://aws.amazon.com/ec2/faqs/"
   ]
  },
  {
   "cell_type": "markdown",
   "metadata": {},
   "source": [
    "# 10 Which AWS service or tool helps identify idle Amazon RDS DB instances at no additional charge?<br>\n",
    "X   AWS Budgets<br>\n",
    "X   AWS Organizations<br>\n",
    "O   AWS Trusted Advisor<br>\n",
    "X   Cost Explorer<br>\n",
    "\n",
    "## Explanation\n",
    "AWS Trusted Advisor is the AWS service that scans your environment and makes recommendations by comparing scan results with AWS best practices in 5 categories, including cost optimization.<br>Using AWS Trusted Advisor would scan your environment and detect your Amazon Relational Database Service (Amazon RDS) for any database (DB) instances that appear to be idle.<br>If a DB instance has not had a connection for a prolonged period of time, you can delete the instance to reduce costs.<br>A DB instance is considered idle if the instance hasn't had a connection in the past 7 days.<br>If persistent storage is needed for data on the instance, you can use lower-cost options such as taking and retaining a DB snapshot.<br>Manually created DB snapshots are retained until you delete them.\n",
    "\n",
    "AWS Budgets allows you to set a budget that alerts you when you exceed (or are forecasted to exceed) your budgeted cost or usage amount.<br>You can also set alerts based on your RI or Savings Plans Utilization and Coverage using AWS Budgets.<br>However, it is not a service that evaluates your environment in order to identify under-utilized and therefore cost-ineffective instances or resources, such as a DB instance.\n",
    "\n",
    "AWS Organizations is a service that allows you to consolidate billing costs within your organization by programmatically creating new AWS accounts and allocating resources, group accounts to organize your workflows, applying policies to accounts or groups for governance, and simplifying billing by using a single payment method for all of your accounts.\n",
    "\n",
    "The Cost Explorer tool allows you to visualize, understand, and manage your AWS costs and usage over time.<br>It is not a service that will scan your environment or make recommendations about usage.\n",
    "\n",
    "https://docs.aws.amazon.com/awssupport/latest/user/trusted-advisor-check-reference.html#amazon-rds-idle-dbs-instances"
   ]
  },
  {
   "cell_type": "markdown",
   "metadata": {},
   "source": [
    "# 11 All the instances in Amazon Web Services are assigned to a(n) .<br>\n",
    "O   availability zone<br>\n",
    "X   auto scaling group<br>\n",
    "X   placement group<br>\n",
    "X   parameter group<br>\n",
    "\n",
    "## Explanation\n",
    "An instance is tied to the Availability Zones in which it is launched.<br>However, its instance ID is tied to the region.\n",
    "\n",
    "http://docs.amazonwebservices.com/AWSEC2/latest/UserGuide/resources.html"
   ]
  },
  {
   "cell_type": "markdown",
   "metadata": {},
   "source": [
    "# 12 Which of the following costs associated with on-premises labor are significantly reduced when an organization migrates to AWS?<br>\n",
    "X   Application development<br>\n",
    "O   Server maintenance<br>\n",
    "X   Software design<br>\n",
    "X   Network encryption<br>\n",
    "\n",
    "## Explanation\n",
    "When an organization migrates from on-premises to AWS, the responsibility of server maintenance shifts to AWS.<br>Costs associated with application development, software design, and network encryption remain the responsibility of the organization.\n",
    "\n",
    "https://aws.amazon.com/blogs/enterprise-strategy/rightsizing-infrastructure-can-cut-costs-36/"
   ]
  },
  {
   "cell_type": "markdown",
   "metadata": {},
   "source": [
    "# 13 Amazon CloudWatch can also integrate with other AWS services that provide similar monitoring features.<br>What other AWS offering can CloudWatch integrate with to provide monitoring of API calls as well as perform aggregation of CloudWatch log(s)?<br>\n",
    "X   AWS CloudFormation<br>\n",
    "O   AWS CloudTrail<br>\n",
    "X   AWS OpsWorks<br>\n",
    "X   Amazon IAM<br>\n",
    "\n",
    "## Explanation\n",
    "AWS CloudTrail is a service that captures API calls made by or on behalf of your AWS account.<br>This information is collected and written to log files that are stored in an Amazon S3 bucket that you specify.<br>API calls are logged whenever you use the API, the console, or the AWS CLI.<br>Using the information collected by CloudTrail, you can determine what request was made, the source IP address the request was made from, who made the request, when it was made, and so on.\n",
    "\n",
    "http://docs.aws.amazon.com/AmazonCloudWatch/latest/monitoring/logging_cw_api_calls.html"
   ]
  },
  {
   "cell_type": "markdown",
   "metadata": {},
   "source": [
    "# 14 Which pricing model is the best choice to reduce your Amazon EC2 spend on backend processing jobs that can withstand interruptions?<br>\n",
    "X   On-Demand Instances<br>\n",
    "O   Spot-Instances<br>\n",
    "X   Reserved Instances<br>\n",
    "X   Savings Plans<br>\n",
    "\n",
    "## Explanation\n",
    "Spot Instances utilizes spare computing capacity for up to 90% savings over On-Demand instances.<br>There are four general categories of time-flexible and interruption-tolerant tasks that work well with Spot Instances: delayable tasks, optional tasks, tasks that can be sped up by adding additional computing power, and tasks that require a large number of compute instances that you can't access any other way.\n",
    "\n",
    "On-Demand instances are cost-effective if you want to run short-term, unpredictable workloads that cannot be interrupted.\n",
    "\n",
    "Reserved Instances must be purchased for a minimum of 1-3 year terms and are best for long-term, predictable workloads.\n",
    "\n",
    "Savings plans offer flexible pricing on EC2 and Fargate usage but in exchange for a commitment to a consistent amount of usage.<br>\n",
    "\n",
    "https://aws.amazon.com/ec2/pricing/"
   ]
  },
  {
   "cell_type": "markdown",
   "metadata": {},
   "source": [
    "# 15 What is the Personal Health Dashboard?<br>\n",
    "X   A CloudWatch dashboard that shows the status of all CloudWatch alerts you have configured.<br>\n",
    "X   An AWS webpage that shows the status of all services in all regions and availability zones.<br>\n",
    "O   An AWS account dashboard that shows how AWS service issues may affect systems connected with your AWS account.<br>\n",
    "X   A Trusted Advisor dashboard that shows all issues on your account related to best practice checks.\n",
    "\n",
    "## Explanation\n",
    "AWS Personal Health Dashboard provides alerts and remediation guidance when AWS is experiencing events that may impact you.<br>While the Service Health Dashboard displays the general status of AWS services, Personal Health Dashboard gives you a personalized view into the performance and availability of the AWS services underlying your AWS resources.<br>\n",
    "\n",
    "https://aws.amazon.com/premiumsupport/phd/"
   ]
  },
  {
   "cell_type": "markdown",
   "metadata": {},
   "source": [
    "# 16 Which of the following is true of Reserved-Instance billing within AWS Organizations?<br>\n",
    "O   The pricing benefits of Reserved Instances are shared when the purchasing account is part of a set of accounts billed under one consolidated billing payer account.<br>\n",
    "X   The pricing benefits of Reserved Instances can be applied to users within the same organization across Availability Zones.<br>\n",
    "X   Reserved Instance discounts apply only to the account that purchased the Reserved Instance.<br>\n",
    "X   Reserved Instance discounts from other accounts in the organization's consolidated billing family don't apply.\n",
    "\n",
    "## Explanation\n",
    "Within AWS Organizations, the pricing benefits of Reserved Instances are shared when the purchasing account is part of a set of accounts billed under one consolidated billing payer account.<br>Users must be within the same Availability Zone to take advantage of shared Reserved Instances for an organization, and AWS organizations make it possible to apply billing discounts to more than one user account.<br>\n",
    "\n",
    "https://aws.amazon.com/premiumsupport/knowledge-center/ec2-ri-consolidated-billing/"
   ]
  },
  {
   "cell_type": "markdown",
   "metadata": {},
   "source": [
    "# 17 Which storage option is hosted by Amazon EC2 instances themselves?<br>\n",
    "O   Amazon Instance Store Volumes<br>\n",
    "X   Amazon EBS<br>\n",
    "X   Amazon S3<br>\n",
    "X   Amazon EFS<br>\n",
    "\n",
    "## Explanation\n",
    "Amazon EC2 supports the following storage options: \n",
    "*   Amazon Elastic Block Store (Amazon EBS) \n",
    "*   Amazon EC2 Instance Store \n",
    "*   Amazon Simple Storage Service (Amazon S3)\n",
    "*   Amazon Elastic File System (EFS)\n",
    "\n",
    "However, only Instance Store Volumes are hosted by and included as part of the EC2 service itself.<br>\n",
    "\n",
    "http://docs.amazonwebservices.com/AWSEC2/latest/UserGuide/Storage.html"
   ]
  },
  {
   "cell_type": "markdown",
   "metadata": {},
   "source": [
    "# 18 In the most recent company meeting, your CEO focused on the fact that everyone in the organization needs to make sure that all of the infrastructure that is built is truly scalable.<br>Which statement in reference to scalable architecture is incorrect?<br>\n",
    "X   Increasing resources results in a proportional increase in performance.<br>\n",
    "X   A scalable service is capable of handling heterogeneity.<br>\n",
    "X   A scalable service is operationally efficient.<br>\n",
    "O   A scalable architecture won't be cost effective as it grows.\n",
    "\n",
    "## Explanation\n",
    "In AWS it is critical to build a scalable architecture in order to take advantage of a scalable infrastructure.<br>The cloud is designed to provide conceptually infinite scalability.<br>However, you cannot leverage all that scalability in infrastructure if your architecture is not scalable.<br>Both have to work together.<br>You will have to identify the monolithic components and bottlenecks in your architecture, identify the areas where you cannot leverage the on-demand provisioning capabilities in your architecture, and work to refactor your application, in order to leverage the scalable infrastructure and take advantage of the cloud.\n",
    "\n",
    "Characteristics of a truly scalable application:\n",
    "*   Increasing resources results in a proportional increase in performance\n",
    "*   A scalable service is capable of handling heterogeneity\n",
    "*   A scalable service is operationally efficient\n",
    "*   A scalable service is resilient\n",
    "*   A scalable service should become more cost effective when it grows (Cost per unit reduces as the number of units increases)\n",
    "\n",
    "http://media.amazonwebservices.com/AWS_Cloud_Best_Practices.pdf"
   ]
  },
  {
   "cell_type": "markdown",
   "metadata": {},
   "source": [
    "# 19 Which of the following services should be used if you need low latency or frequent access to your data?<br>\n",
    "X   Amazon Glacier<br>\n",
    "X   AWS CLI<br>\n",
    "O   Amazon S3<br>\n",
    "X   AWS Snowball<br>\n",
    "\n",
    "## Explanation\n",
    "Amazon S3 is a durable, secure, simple, and fast storage service designed to make web-scale computing easier for developers.<br>Use Amazon S3 if you need low latency or frequent access to your data.\n",
    "\n",
    "http://aws.amazon.com/glacier/faqs/"
   ]
  },
  {
   "cell_type": "markdown",
   "metadata": {},
   "source": [
    "# 20 What does Amazon ElastiCache provide?<br>\n",
    "X   A virtual server with a huge amount of cache memory<br>\n",
    "O   A managed in-memory cache service<br>\n",
    "X   An automated in-memory service<br>\n",
    "X   An Amazon EC2 instance with the Autocached software pre-installed<br>\n",
    "\n",
    "## Explanation\n",
    "Amazon ElastiCache allows you to improve the performance of your application by providing an in-memory cache service for the objects of your database, as it allows you to reduce the retrieval time of your data by avoiding the costly secondary-memory access needed by typical disk-based databases.<br>\n",
    "\n",
    "http://aws.amazon.com/elasticache/"
   ]
  },
  {
   "cell_type": "markdown",
   "metadata": {},
   "source": [
    "# 21 What is NOT a feature of Amazon Inspector?<br>\n",
    "X   built-in rules library<br>\n",
    "O   expandable rules library allowing for custom policy rules<br>\n",
    "X   ability to publish findings through SNS<br>\n",
    "X   automate via API<br>\n",
    "\n",
    "## Explanation\n",
    "Amazon Inspector has a fixed built-in library of best practices and rules.<br>Currently it doesn’t support any custom rules beyond this default set.\n",
    "\n",
    "https://docs.aws.amazon.com/inspector/latest/userguide/inspector_introduction.html"
   ]
  },
  {
   "cell_type": "markdown",
   "metadata": {},
   "source": [
    "# 22 When using Amazon Glacier's standard retrieval option, which of the following statements is correct?<br>\n",
    "O   Amazon Glacier takes 3-5 hours to retrieve data.<br>\n",
    "X   Amazon Glacier takes 5 minutes to retrieve data.<br>\n",
    "X   Amazon Glacier takes 5-12 hours to retrieve data.<br>\n",
    "X   Amazon Glacier takes 1 hour to retrieve data.<br>\n",
    "\n",
    "## Explanation\n",
    "Amazon Glacier is an extremely low-cost storage service that provides secure and durable storage for data archiving and backup.<br>To keep costs low, Amazon Glacier is optimized for data that is infrequently accessed and for which retrieval times of several hours are suitable.<br>The standard retrieval option, which is the default option, takes 3-5 hours to complete.<br>The other options are expedited, which downloads a small amount of data (250 MB maximum) in 5 minutes, and bulk, which downloads large amounts of data (petabytes) in 5-12 hours.<br>\n",
    "\n",
    "https://docs.aws.amazon.com/amazonglacier/latest/dev/downloading-an-archive-two-steps.html#api-downloading-an-archive-two-steps-retrieval-options"
   ]
  },
  {
   "cell_type": "markdown",
   "metadata": {},
   "source": [
    "# 23 Which statement regarding AWS regions is incorrect?<br>\n",
    "X   EC2 instances aren't replicated across AWS regions unless you do so specifically.<br>\n",
    "O   Each AWS region includes an identical number of availability zones to host EC2 instances.<br>\n",
    "X   Some AWS services are available in a limited number of AWS regions.<br>\n",
    "X   Amazon EC2 provides you the ability to place resources, such as instances and data, in multiple locations.\n",
    "\n",
    "## Explanation\n",
    "Amazon EC2 is hosted in multiple locations world-wide.<br>These locations are composed of regions and Availability Zones.<br>Each region is a separate geographic area.<br>Each region has multiple, isolated locations known as Availability Zones.<br>Amazon EC2 provides you the ability to place resources, such as instances, and data in multiple locations.<br>Resources aren't replicated across regions unless you do so specifically.\n",
    "\n",
    "http://docs.aws.amazon.com/AWSEC2/latest/UserGuide/using-regions-availability-zones.html"
   ]
  },
  {
   "cell_type": "markdown",
   "metadata": {},
   "source": [
    "# 24 Which of the following describes operational excellence, one of the five pillars of the AWS's Well-Architected Framework?<br>\n",
    "O   Prepare, operate, and evolve<br>\n",
    "X   Infrastructure and data protection<br>\n",
    "X   Change management and failure management<br>\n",
    "X   Review, monitoring, and trade-offs<br>\n",
    "\n",
    "## Explanation\n",
    "Prepare, operate and evolve are interwoven in the following 6 design principles that make up this pillar\n",
    "\n",
    "1. Perform operations as code: This explains how to deploy, respond to events and perform automated operational procedures using code to help prevent human error\n",
    "2. Annotate documentation: This defines how it’s possible to automatically create and annotate documentation when provisioning AWS resources\n",
    "3. Make frequent, small, reversible changes: The focus of this principle is to implement your changes at small scale, and frequently to allow you to easily roll-back the change without affecting a wide customer base if there are issues\n",
    "4. Refine operations procedures frequently: This focuses on the importance of consistently refining your operational procedures, evolving them as your business evolves\n",
    "5. Anticipate failure: The focus here is to understand and define your potential points of failure and how these can be mitigated\n",
    "6. Learn from all operational failures: This principle explains how knowledge sharing is key and how to learn from issues and failures that have occurred.\n",
    "\n",
    "https://d1.awsstatic.com/whitepapers/architecture/AWS_Well-Architected_Framework.pdf"
   ]
  },
  {
   "cell_type": "markdown",
   "metadata": {},
   "source": [
    "# 25 Complete the three definitions:_ is the process of defining an identity and the verification of that identity_ determines what resources an identity can access within a system once it has been authenticated._ is the method and process of how access is granted to a secure resource.\n",
    "O   Authentication; Authorization; Access Control<br>\n",
    "X   Authorization; Authentication; Access Control<br>\n",
    "X   Access Control; Authentication; Authorization<br>\n",
    "X   Authorization; Access Control; Authentication<br>\n",
    "\n",
    "## Explanation\n",
    "* Authentication: Process of defining an identity and the verification of that identity\n",
    "    * Example - username and password\n",
    "* Authorisation: Determines what an identity can access within a system once it’s been authenticated to it\n",
    "    * Example - An identities permissions to access specific AWS services\n",
    "* Access Control: The method and process of how access is granted to a secure resource\n",
    "    * Example: Multi-Factor Authentication\n",
    "\n",
    "https://app.qa.com/amazon-web-services/understanding-aws-authentication-authorization-accounting-course/authentication-authorization-and-access-control.html"
   ]
  },
  {
   "cell_type": "markdown",
   "metadata": {},
   "source": [
    "# 26 Which Amazon EC2 pricing model offers a savings of up to 90%?\n",
    "X   Reserved Instances<br>\n",
    "X   On-Demand Instances<br>\n",
    "O   Spot Instances<br>\n",
    "X   Dedicated Instances<br>\n",
    "\n",
    "## Explanation\n",
    "Spot Instances provide up to 90% savings over On-Demand instances, and they offer significant savings opportunities over Reserved Instances, which require a commitment of 1-3 years, and they are significantly cheaper than Dedicated instances, which would not be appropriate in this use case.\n",
    "\n",
    "https://aws.amazon.com/ec2/pricing/"
   ]
  },
  {
   "cell_type": "markdown",
   "metadata": {},
   "source": [
    "# 27 Which choice below is an advantage of using a Virtual Private Cloud (VPC)?\n",
    "O   You can configure routing and access control lists.<br>\n",
    "X   You do not require high-level understanding of public network security issues.<br>\n",
    "X   You can block subnets.<br>\n",
    "X   You do not need IP addresses.\n",
    "\n",
    "## Explanation\n",
    "Amazon RDS lets you use the Amazon Virtual Private Cloud (VPC) service to create a virtual private cloud where you can launch a DB instance.<br>When you use a virtual private cloud, you have control over your virtual networking environment: you can select your own IP address range, create subnets, and configure routing and access control lists.\n",
    "\n",
    "http://docs.aws.amazon.com/AmazonRDS/latest/UserGuide/Overview.RDSVPC.html"
   ]
  },
  {
   "cell_type": "markdown",
   "metadata": {},
   "source": [
    "# 28 You are an AWS Solutions Architect helping a client plan a migration to the AWS cloud.<br>The client is very cost-conscious and needs to understand the budget implications of any design decisions prior to signing off.<br>Now that you’ve identified the resources that must be created in the AWS environment to support the migration, what tool could you use to help project future costs given this information?\n",
    "X   Trusted Advisor<br>\n",
    "O   AWS Pricing Calculator<br>\n",
    "X   Cost Explorer<br>\n",
    "X   Detailed Billing Reports<br>\n",
    "\n",
    "## Explanation\n",
    "The AWS Pricing Calculator is used to calculate projected costs, assuming you know what AWS resources you’ll be consuming.\n",
    "\n",
    "https://aws.amazon.com/pricing/cost-optimization/"
   ]
  },
  {
   "cell_type": "markdown",
   "metadata": {},
   "source": [
    "# 29 Which choice is correct regarding changing the security groups for instances in a VPC?\n",
    "O   You can change an instance's security groups anytime after the instance is launched.<br>\n",
    "X   You cannot change an instance's security groups after the instance is launched.<br>\n",
    "X   You can change an instance's security groups, but the instances must be stopped.<br>\n",
    "X   You can change an instance's security groups, but you must reboot the instance for the changes to take effect.<br>\n",
    "\n",
    "## Explanation\n",
    "In a VPC, you are allowed to change the security groups an instance belongs to, even after it has been launched.\n",
    "\n",
    "http://docs.aws.amazon.com/AmazonVPC/latest/UserGuide/VPC_SecurityGroups.html"
   ]
  },
  {
   "cell_type": "markdown",
   "metadata": {},
   "source": [
    "# 30 Which choice below accurately describes the 'warm standby' disaster recovery method?\n",
    "X   Keeping data backed up to tape and sent offsite regularly, from which all data can be restored in the event of a disaster.<br>\n",
    "X   Storing critical systems as a template, from which resources can be scaled out in the event of a disaster.<br>\n",
    "O   A duplicate version of only your business-critical systems that is always running, in case you need to divert your workloads to them in the event of a disaster.<br>\n",
    "X   A complete duplicate of your entire system, to which all traffic can be directed in the event of a disaster.\n",
    "\n",
    "## Explanation\n",
    "Warm standby is essentially ready to go with all key services running in the most minimal possible way, essentially a smaller version of the production environment.<br>In the event of a disaster, the standby environment will be scaled up for production load quickly and easily.<br>DNS records will be changed to route all traffic to the AWS environment.\n",
    "\n",
    "https://d1.awsstatic.com/whitepapers/aws-disaster-recovery.pdf"
   ]
  },
  {
   "cell_type": "markdown",
   "metadata": {},
   "source": [
    "# 31 You have been asked to perform some penetration testing on your company's AWS infrastructure.<br>However, you are not sure who is responsible for this.<br>Which statement describing the AWS policy regarding penetration testing is correct?\n",
    "X   Permission is required from AWS for all penetration testing.<br>\n",
    "X   You need to employ a third-party specialist to do the testing.<br>\n",
    "X   AWS needs to perform the penetration tests.<br>\n",
    "O   Penetration testing is possible without AWS approval depending on the services in use.<br>\n",
    "\n",
    "## Explanation\n",
    "There are several important things to note about penetration testing requests:\n",
    "* Permission may be required for penetration testing, depending on which AWS services are in use.\n",
    "* To request permission, you must be logged into the AWS portal using the root credentials associated with the instances you wish to test, otherwise the form will not pre-populate correctly.<br>\n",
    "\n",
    "http://aws.amazon.com/security/penetration-testing/"
   ]
  },
  {
   "cell_type": "markdown",
   "metadata": {},
   "source": [
    "# 32 An organization has launched a large EC2 instance from an EBS-backed AMI.<br>The organization wants to ensure that even when this instance is terminated, all the critical data will be saved.<br>How can they ensure the EBS volume persists after the instance is terminated?\n",
    "\n",
    "X   Migrate all log files from the ephemeral drive to the EBS volume<br>\n",
    "O   Set the volume's DeleteOnTermination flag to 'False'<br>\n",
    "X   Take a frequent snapshots of the EBS volume<br>\n",
    "X   Migrate important data to S3 for higher durability<br>\n",
    "\n",
    "## Explanation\n",
    "AWS provides an on demand, scalable infrastructure.<br>Amazon EC2 allows the user to launch On-Demand instances and the organization should create an AMI of the running instance.<br>If the organization has launched an instance with the EBS root device and an additional ephemeral drive, it is advised that the organization should keep taking a backup of all critical ephemeral data to EBS.<br>The organization should also keep moving important data to S3 for higher durability.<br>In this way even if the application fails the data can be restored.<br>For the EBS backup, the organization should always take a snapshot at regular intervals.\n",
    "\n",
    "Since the organization is launching an instance with an EBS based root device, by default the DeleteOnTermination flag is set to True.<br>In the present scenario if the instance gets terminated the EBS will also be deleted.\n",
    "It is recommended to have the flag as False so that when the instance is terminated it will not delete the volume.<br>   \n",
    "\n",
    "https://docs.aws.amazon.com/AWSEC2/latest/UserGuide/terminating-instances.html#preserving-volumes-on-termination"
   ]
  },
  {
   "cell_type": "markdown",
   "metadata": {},
   "source": [
    "# 33 A user has an AWS Enterprise-level Support plan and needs assistance understanding the organization's AWS spend.Which action should the user take?\n",
    "X   Contact a Cloud Support Associate<br>\n",
    "O   Contact a designated technical account manager (TAM)<br>\n",
    "X   Open a general-guidance support case<br>\n",
    "X    Open a Business/Mission-critical system down case\n",
    "\n",
    "## Explanation\n",
    "\n",
    "Enterprise Support Plan customers have access to a technical account manager (TAM) who can present insights and recommendations on your AWS spend.\n",
    "\n",
    "Developer-level support plans offer Business hours email access to Cloud Support Associates.\n",
    "\n",
    "General-guidance support cases are a feature of all AWS support plans; however, Enterprise-level support plans provide access to a designated TAM who can help you understand your AWS spend.\n",
    "\n",
    "A Business/Mission-critical system down case can be opened by users with Enterprise Support-level plans and managed by a TAM; however, this type of case is specific to event-management rather than billing questions.\n",
    "\n",
    "https://aws.amazon.com/premiumsupport/plans/enterprise/"
   ]
  },
  {
   "cell_type": "markdown",
   "metadata": {},
   "source": [
    "# 34 Which choice is a stated benefit of using AWS?\n",
    "O   reduced effort to meet compliance requirements<br>\n",
    "X   data center servers specifically for your account<br>\n",
    "X   security configuration is entirely managed by AWS<br>\n",
    "X   system compliance is entirely managed by AWS<br>\n",
    "\n",
    "## Explanation\n",
    "AWS services are designed to comply with common compliance regulations, such as PCI DSS level.<br>You will have to configure services to meet your specific compliance needs, but segments of your IT system on AWS should comply will several standard compliance regulations immediately.\n",
    "\n",
    "You can request dedicated instances, but you cannot select specific data centers for your account, and with the Shared Responsibility Model, AWS will not assist you in configurations to meet your security or compliance requirements.\n",
    "\n",
    "https://d0.awsstatic.com/whitepapers/aws-overview.pdf"
   ]
  },
  {
   "cell_type": "markdown",
   "metadata": {},
   "source": [
    "# 35 A user is uploading a backup of data to S3 Glacier as part of a disaster recovery plan.<br>The data stored in S3 Glacier is part of a larger data recovery plan that involves other AWS services.There is a relatively small set of data (100 MB) that needs to be restored immediately when a disaster recovery plan is executed, and the organization is planning a recovery time objective (RTO) of 1 hour.<br>Assuming the data size meets the requirements for any of the given retrieval options below, which S3 Glacier data retrieval option would you plan in the event of a disaster?\n",
    "\n",
    "X   Use Expedited retrievals without Provisioned Capacity<br>\n",
    "O   Use Expedited Retrievals with Provisioned Capacity<br>\n",
    "X   Use Bulk retrievals<br>\n",
    "X   Use Standard retrievals<br>\n",
    "\n",
    "## Explanation\n",
    "There are three retrieval options with Amazon S3 Glacier:\n",
    "* Expedited — There are two types of Expedited retrievals: On-Demand and Provisioned.<br>On-Demand requests are similar to EC2 On-Demand instances and are available most of the time.<br>Provisioned requests are guaranteed to be available when you need them, which is recommended for a DR plan.\n",
    "* Standard — Standard retrievals allow you to access any of your archives within several hours.<br>\n",
    "* Bulk — Bulk retrievals are Amazon S3 Glacier’s lowest-cost retrieval option, which you can use to retrieve large amounts, even petabytes, of data inexpensively in a day.<br>Bulk retrievals typically complete within 5–12 hours.\n",
    "\n",
    "http://docs.aws.amazon.com/amazonglacier/latest/dev/introduction.html"
   ]
  },
  {
   "cell_type": "markdown",
   "metadata": {},
   "source": [
    "# 36 A company has recently migrated its operations to AWS and wants to run its non-interruptable application workloads for three years.<br>Which pricing model would provide the MOST savings?\n",
    "\n",
    "X   Amazon EC2 Dedicated Instances<br>\n",
    "X   Amazon EC2 Spot Instances<br>\n",
    "X   Amazon EC2 On-Demand Instances<br>\n",
    "O   Amazon EC2 Reserved Instances<br>\n",
    "\n",
    "## Explanation\n",
    "Amazon EC2 Reserved Instances provide up to 72% savings for a 1-3 year term.<br>This is a greater cost saving per reserved capacity than the expense of a dedicated instance.<br>Reserved Instance pricing represents up to 72% savings compared to On-Demand instance pricing, and while Spot Instances can provide the highest cost savings overall of all the instance types, they are not a good choice for regular workloads that need to run without interruption for a longer durations.\n",
    "\n",
    "https://aws.amazon.com/ec2/pricing/reserved-instances/pricing/"
   ]
  },
  {
   "cell_type": "markdown",
   "metadata": {},
   "source": [
    "# 37 Which choice accurately describes a reserved DB instance?\n",
    "X   Third generation M4 instances which must be in a VPC<br>\n",
    "X   Second generation R3 instances that provide memory optimization and more computing capacity<br>\n",
    "X   T2 instances that provide baseline performance level with the ability to burst to full CPU usage<br>\n",
    "O   DB instances used for at least one year to receive a significant discount on the hourly instance charges<br>\n",
    "## Explanation\n",
    "Reserved DB instances let you reserve a DB instance for a one- or three-year term and in turn receive a significant discount on the hourly charge for instances that are covered by the reservation.<br>You can use the command line tools, the API, or the AWS Management Console to list and purchase available reserved DB instance offerings.\n",
    "\n",
    "http://docs.aws.amazon.com/AmazonRDS/latest/UserGuide/USER_WorkingWithReservedDBInstances.html"
   ]
  },
  {
   "cell_type": "markdown",
   "metadata": {},
   "source": [
    "# 38 Amazon ____ provides durable storage volumes you can attach to a running instance and which persist beyond the life of the instance.\n",
    "O   Elastic Block Store<br>\n",
    "X   EC2 Instance Store<br>\n",
    "X   Elastic File System<br>\n",
    "X   Persistent Block Store<br>\n",
    "\n",
    "## Explanation\n",
    "Amazon EBS provides durable, block-level storage volumes that you can attach to a running instance.<br>You can use Amazon EBS as a primary storage device for data that requires frequent and granular updates.<br>For example, Amazon EBS is the recommended storage option when you run a database on an instance.<br>An EBS volume behaves like a raw, unformatted, external block device that you can attach to a single instance.<br>The volume persists independently from the running life of an instance.\n",
    "\n",
    "http://docs.aws.amazon.com/AWSEC2/latest/UserGuide/Storage.html"
   ]
  },
  {
   "cell_type": "markdown",
   "metadata": {},
   "source": [
    "# 39 When scaling ___ you are altering the power of an instance, perhaps using one with greater CPU power to scale.\n",
    "O   up and down<br>\n",
    "X   in and out<br>\n",
    "X   forward<br>\n",
    "X   backward<br>\n",
    "\n",
    "## Explanation\n",
    "To scale an instance or resource up or down, you are effectively changing the power of that resource, essentially making it more powerful or making it weaker.\n",
    "\n",
    "/cloud-computing/should-your-business-move-to-the-cloud-course/is-the-cloud-right-for-you.html"
   ]
  },
  {
   "cell_type": "markdown",
   "metadata": {},
   "source": [
    "# 40 What does the concept of \"redundancy\" mean within AWS?\n",
    "O   Design multiple resources to perform the same task<br>\n",
    "X   Design a single resource to perform multiple tasks<br>\n",
    "X   Design a single system to perform multiple tasks synchronously<br>\n",
    "X   Design a stateless resource to perform one task<br>\n",
    "\n",
    "## Explanation\n",
    "\n",
    "In regards to system design, redundancy is when multiple resources perform the same task so that in the event one of the resources fails, the other remaining resources can bear the workload in its absence until the resource can be replaced or repaired.\n",
    "\n",
    "https://d0.awsstatic.com/whitepapers/AWS_Cloud_Best_Practices.pdf"
   ]
  },
  {
   "cell_type": "markdown",
   "metadata": {},
   "source": [
    "# 41 In AWS, who owns the controls for cloud-deployed infrastructure?\n",
    "X   AWS controls the physical components of the technology, connection points, and transmissions.<br>\n",
    "X   A customer controls the physical components of the technology, connection points, and transmissions.<br>\n",
    "O   AWS controls the physical components of the technology. A customer owns and controls everything else, including control over connection points and transmissions.<br>\n",
    "X   A customer controls the physical components of the technology.A bucket owner owns and controls everything else, including control over connection points and transmissions.<br>\n",
    "\n",
    "## Explanation\n",
    "For the portion deployed into AWS, AWS controls the physical components of that technology.<br>The customer owns and controls everything else, including control over connection points and transmissions.<br>To help customers better understand what controls are in place and how effectively they are operating, a SOC 1 Type II report is published with controls defined around EC2, S3 and VPC, as well as detailed physical security and environmental controls.<br>These controls are defined at a high level of specificity that should meet most customer needs.<br>AWS customers that have signed a non-disclosure agreement with AWS may request a copy of the SOC 1 Type II report.\n",
    "\n",
    "http://d0.awsstatic.com/whitepapers/compliance/AWS_Risk_and_Compliance_Whitepaper.pdf"
   ]
  },
  {
   "cell_type": "markdown",
   "metadata": {},
   "source": [
    "# 42 Your customers are concerned about the security of their sensitive data and their inquiry asks about what happens to old storage devices on AWS.<br>What would be the best answer to this question? \n",
    "X   AWS uses a 3rd party security organization to destroy data as part of the decommissioning process.<br>\n",
    "X   AWS uses its proprietary software to destroy data as part of the decommissioning process.<br>\n",
    "O   AWS uses the techniques detailed in DoD 5220.22-M to destroy data as part of the decommissioning process.<br>\n",
    "X   AWS reformats the disks and uses them again.<br>\n",
    "\n",
    "## Explanation\n",
    "When a storage device has reached the end of its useful life, AWS procedures include a decommissioning process that is designed to prevent customer data from being exposed to unauthorized individuals.\n",
    "\n",
    "AWS uses the techniques detailed in DoD 5220.22-M (“National Industrial Security Program Operating Manual “) or NIST 800-88 (“Guidelines for Media Sanitization”) to destroy data as part of the decommissioning process.\n",
    "\n",
    "All decommissioned magnetic storage devices are degaussed and physically destroyed in accordance with industry-standard practices.\n",
    "\n",
    "https://d0.awsstatic.com/whitepapers/aws-security-whitepaper.pdf"
   ]
  },
  {
   "cell_type": "markdown",
   "metadata": {},
   "source": [
    "# 43 At what level can Amazon S3 Access Control Lists (ACLs) be applied?\n",
    "O   the bucket and object level<br>\n",
    "X   the bucket level only<br>\n",
    "X   the object level only<br>\n",
    "X   the bucket, object and account level<br>\n",
    "\n",
    "## Explanation\n",
    "S3 ACLs allow identities to access specific objects within buckets a different layered approach than bucket policies which are applied at the bucket level only.<br>ACLs allow you to set certain permissions on each object within a specific Bucket.\n",
    "\n",
    "These ACLs do not follow that same format as the policies defined by IAM and Bucket policies.<br>Instead, they are far less granular, and different permissions can be applied depending if you are applying an ACL at the bucket or object level.\n",
    "\n",
    "http://docs.aws.amazon.com/AmazonS3/latest/dev/S3_ACLs_UsingACLs.html"
   ]
  },
  {
   "cell_type": "markdown",
   "metadata": {},
   "source": [
    "# 44 What is a \"rule\" in the context of Amazon Inspector?\n",
    "X   A set of conditions that when met in a specific target, this target will be considered for assessment<br>\n",
    "X   A potential security issue discovered during the Amazon Inspector assessment run<br>\n",
    "X   A security goal or objective that you might have for your environment<br>\n",
    "O   A security check that the AWS agent performs during an assessment run<br>\n",
    "\n",
    "## Explanation\n",
    "In the context of Amazon Inspector, a security check that the agent performs during an assessment run.<br>\n",
    "\n",
    "https://docs.aws.amazon.com/inspector/latest/userguide/inspector_concepts.html"
   ]
  },
  {
   "cell_type": "markdown",
   "metadata": {},
   "source": [
    "# 45 Which of these is a benefit of migrating business operations to the AWS cloud?\n",
    "O   An increased focus on revenue-generating activities<br>\n",
    "X   The ability to enhance cross-organizational dependencies<br>\n",
    "X   The ability to recreate existing infrastructure in the cloud<br>\n",
    "X   A guarantee of free Enterprise-level support\n",
    "\n",
    "## Explanation\n",
    "One of the primary benefits of migrating business operations to the AWS cloud is that it allows organizations to focus on revenue generation rather than maintaining infrastructure.\n",
    "\n",
    "https://aws.amazon.com/professional-services/CAF/"
   ]
  },
  {
   "cell_type": "markdown",
   "metadata": {},
   "source": [
    "# 46 What is the meaning of pay-as-you-go, when related to Amazon Web Services?\n",
    "X   You pay the Cloud provider only when your product is profitable.<br>\n",
    "X   You pay only when you leave the service.<br>\n",
    "O   You have no upfront costs, but rather pay on a monthly basis, based on usage.<br>\n",
    "X   You pay only when your instance is doing very intense computation<br>\n",
    "\n",
    "## Explanation\n",
    "The concept of pay-as-you-go means that you pay only for a specific amount of resources that you use in a specific amount of time used in a given month.<br>For instance, you can use an Amazon EC2 Instance only for 30 minutes and you will be charged only for that time, without any upfront costs to launch or terminate the instance.\n",
    "\n",
    "http://aws.amazon.com/ec2/pricing/"
   ]
  },
  {
   "cell_type": "markdown",
   "metadata": {},
   "source": [
    "# 47 Which of the following best describes the relationship between regions and Availability Zones?\n",
    "O   Each region is completely independent and each Availability Zone is isolated, but the Availability Zones in a region are connected through low-latency links.<br>\n",
    "X   Each region is completely independent and Availability Zones are never isolated, but the Availability Zones in a region are connected through low-latency links.<br>\n",
    "X   Each region may be dependent on another region, each Availability Zone is isolated, and the Availability Zones in a region are not connected.<br>\n",
    "X   Each region may be dependent on another region, and each Availability Zone is completely independent.\n",
    "\n",
    "## Explanation\n",
    "Each region is completely independent and each Availability Zone is isolated, but the Availability Zones in a region are connected through low-latency links.<br> \n",
    " \n",
    "http://docs.aws.amazon.com/AWSEC2/latest/UserGuide/using-regions-availability-zones.html"
   ]
  },
  {
   "cell_type": "markdown",
   "metadata": {},
   "source": [
    "# 48 All AWS customers automatically have around-the-clock access to certain features.<br>Which of the following is not one of those?.<br>\n",
    "O   Email response<br>\n",
    "X   Support forums<br>\n",
    "X   Service health checks<br>\n",
    "X   Documentation, whitepapers, and best-practice guides<br>\n",
    "\n",
    "## Explanation\n",
    "All AWS customers automatically have around-the-clock access to the following:\n",
    "*   Customer Service\n",
    "*   Support forums\n",
    "*   Service health checks\n",
    "*   Documentation, whitepapers, and best-practice guides\n",
    "\n",
    "Client-side diagnostic tools are for Developer-level Support customers.\n",
    "\n",
    "http://docs.aws.amazon.com/awssupport/latest/user/getting-started.html"
   ]
  },
  {
   "cell_type": "markdown",
   "metadata": {},
   "source": [
    "# 49 Which AWS disaster recovery method has the lowest RTO and RPO, but the highest cost required to maintain resources?<br>\n",
    "X   Backup and restore<br>\n",
    "X   Pilot light<br>\n",
    "X   Warm standby<br>\n",
    "O   Multi-site<br>\n",
    "\n",
    "## Explanation\n",
    "Multi-site is the quickest disaster recovery method, with minimal time to recover and minimal data loss, but with the highest overall cost in comparison to backup and restore, pilot light or warm standby methods.<br>This method is ideal for highly transactional online businesses, whose potential losses in terms of revenue and reputation far outweigh any costs required to maintain a duplicate production environment in a separate AWS region.<br>\n",
    "\n",
    "https://d1.awsstatic.com/whitepapers/Storage/Backup_and_Recovery_Approaches_Using_AWS.pdf"
   ]
  },
  {
   "cell_type": "markdown",
   "metadata": {},
   "source": [
    "# 50 AWS WAF requires which other AWS service to deploy a security solution?<br>\n",
    "O   Amazon CloudFront<br>\n",
    "X   Amazon CloudWatch<br>\n",
    "X   AWS Lambda<br>\n",
    "X   Amazon SNS<br>\n",
    "\n",
    "## Explanation\n",
    "AWS WAF relies heavily on Amazon CloudFront distributions, to the point that if you don’t have a distribution configured then AWS WAF is essentially redundant.<br>However, it’s worth mentioning that this relationship is only one way, meaning that Amazon CloudFront can operate and exist without AWS WAF being configured.\n",
    "\n",
    "http://docs.aws.amazon.com/waf/latest/developerguide/cloudfront-features.html"
   ]
  },
  {
   "cell_type": "markdown",
   "metadata": {},
   "source": [
    "# 51 Which answer accurately describes reliability, one of the five pillars of the Well-Architected Framework?<br>\n",
    "O   How to maintain the stability of your environment, recover from failures, and automatically meet resource demands<br>\n",
    "X   How to manage and secure your infrastructure by protecting your data by focusing on confidentiality and data integrity<br>\n",
    "X   Ensuring you can efficiently meet compliance requirements by monitoring activity and setting effective policy<br>\n",
    "X   How to manage the security of what is in AWS environments in the cloud while AWS maintains the security of the AWS environments<br>\n",
    "\n",
    "## Explanation\n",
    "The pillar looks at how to maintain the stability of your environment and recover from outages and failures, in addition to automatically and dynamically meeting resourcing demands based put upon your infrastructure\n",
    "\n",
    "The Reliability best practices are:\n",
    "*   Foundations\n",
    "*   Change Management\n",
    "*   Failure Management\n",
    "\n",
    "https://d1.awsstatic.com/whitepapers/architecture/AWS_Well-Architected_Framework.pdf"
   ]
  },
  {
   "cell_type": "markdown",
   "metadata": {},
   "source": [
    "# 52 How does installing the Amazon Inspector Agent on EC2 instances affect instance performance?<br>\n",
    "O   Inspector agent has minimal effect on the performance of EC2 instances only during assessment run process.<br>\n",
    "X   Inspector agent affects the performance of EC2 instances all the time as it keeps collecting behavioral and networking data as long as it is running.<br>\n",
    "X   Inspector agent has a large impact on the performance of EC2 instance and should be started only at off-peak hours.<br>\n",
    "X   Inspector agent's impact on performance is determined based on network activity on the EC2 instance; for that reason it is better to reduce utilization of instances while assessment process is running.<br>\n",
    "\n",
    "## Explanation\n",
    "Amazon Inspector and the Amazon Inspector agent have been designed for minimal performance impact during the assessment run process.<br>\n",
    "\n",
    "https://aws.amazon.com/inspector/faqs/"
   ]
  },
  {
   "cell_type": "markdown",
   "metadata": {},
   "source": [
    "# 53 ________ are predefined, out-of-the-box policies that grant permissions for common use cases to eliminate the need to determine what permissions are needed.<br>\n",
    "X   Customer managed policies<br>\n",
    "O   AWS managed policies<br>\n",
    "X   Inline policies<br>\n",
    "X   Resource policies<br>\n",
    "\n",
    "## Explanation\n",
    "AWS managed policies are predefined by AWS, and grant permissions for common use cases so you can avoid having to determine what permissions are needed.<br>For ElastiCache, AWS provides the following managed policies: AmazonElastiCacheReadOnlyAccess and AmazonElastiCacheFullAccess.<br>\n",
    "\n",
    "http://docs.aws.amazon.com/AmazonElastiCache/latest/UserGuide/IAM.IdentityBasedPolicies.html"
   ]
  },
  {
   "cell_type": "markdown",
   "metadata": {},
   "source": [
    "# 54 Which of the following is AWS Glacier best used for?<br>\n",
    "O   A durable storage for data archives and backup<br>\n",
    "X   An alternative to Amazon S3<br>\n",
    "X   An alternative to EBS<br>\n",
    "X   None of the above\n",
    "\n",
    "## Explanation\n",
    "The AWS Glacier service is a great and durable storage for data archives and backup.<br>It is primarily used for backups and archives or files that do not require realtime retrieval.<br>\n",
    "\n",
    "http://aws.amazon.com/glacier/"
   ]
  },
  {
   "cell_type": "markdown",
   "metadata": {},
   "source": [
    "# 55 As it relates to Amazon EC2 instances, what is the function of key pairs?<br>\n",
    "O   To encrypt the login information for Linux and Windows EC2 instances and then decrypt the same information, allowing you to authenticate into the instance.<br>\n",
    "X   To encrypt data held on EBS volumes using AES-256 cryptography and then decrypt the data to be read again<br>\n",
    "X   To encrypt and decrypt passwords for AWS user accounts<br>\n",
    "X   To safely make programmatic API calls over an encrypted channel<br>\n",
    "\n",
    "## Explanation\n",
    "A key pair, as the name implies, is made up of two components: a public key and a private key.<br>These keys are 2048-bit SSH-2 RSA keys.\n",
    "\n",
    "The function of key pairs is to encrypt the login information for Linux and Windows EC2 instances, and then decrypt the same information allowing you to authenticate onto the instance.\n",
    "\n",
    "The public key uses public-key cryptography to encrypt data such as the username and password.<br>For Windows instances, the private key is used to decrypt this data, allowing you to gain access to the login credentials including the password.<br>For Linux instances, the private key is used to SSH into the instance.\n",
    "\n",
    "The public key is held and kept by AWS.<br>The private key is your responsibility to keep and ensure that it is not lost.\n",
    "\n",
    "http://docs.aws.amazon.com/AWSEC2/latest/WindowsGuide/ec2-key-pairs.html"
   ]
  },
  {
   "cell_type": "markdown",
   "metadata": {},
   "source": [
    "# 56 Important functions of your application are unavailable.<br>You cannot work around the problem, and your business is significantly impacted.<br>You decide that you need support from AWS.<br>Which of the following severity levels do you think would be an appropriate choice for this issue?<br>\n",
    "X   System impaired<br>\n",
    "X   Production system impaired<br>\n",
    "O   Production system down<br>\n",
    "X   Business-critical system down<br>\n",
    "\n",
    "## Explanation\n",
    "In the context of AWS support, if you have a problem that meets any of the following criteria, the severity level will be 'Production system down'.\n",
    "\n",
    "* You can't work around the problem, and your business is significantly impacted.\n",
    "* Important functions of your application are unavailable.<br>(Business and Enterprise)\n",
    "\n",
    "http://docs.aws.amazon.com/awssupport/latest/user/getting-started.html"
   ]
  },
  {
   "cell_type": "markdown",
   "metadata": {},
   "source": [
    "# 57 Auto Scaling provides what kind of scaling service?<br>\n",
    "X   Incremental<br>\n",
    "O   Horizontal<br>\n",
    "X   Vertical<br>\n",
    "X   Transient<br>\n",
    "\n",
    "## Explanation\n",
    "Auto Scaling adds new resources or terminates the existing resources seamlessly.<br>Depending on the user’s infrastructure, vertical scaling may involve changes to server configurations every time it scales.<br>With horizontal scaling, Auto Scaling increases or decreases the number of instances according to the policy or the application's demand.<br>Auto Scaling is ideally suited for applications that experience hourly, daily or weekly changes in the usage and need to automatically scale horizontally to keep up with the usage variability.\n",
    "\n",
    "http://docs.aws.amazon.com/AutoScaling/latest/DeveloperGuide/WhatIsAutoScaling.html"
   ]
  },
  {
   "cell_type": "markdown",
   "metadata": {},
   "source": [
    "# 58 You are reviewing AWS Elastic Beanstalk and considering how it can support versions of an application.<br>Which statement below is correct?<br>\n",
    "O   AWS Elastic Beanstalk allows you to run multiple versions of an application at the same time.<br>\n",
    "X   AWS Elastic Beanstalk allows one version of an application to run at a time.<br>\n",
    "X   AWS Elastic Beanstalk can store unlimited application versions, but only one application version can run at a time.<br>\n",
    "X   The number of application versions you can run simultaneously depends on which environment type you select.\n",
    "\n",
    "## Explanation\n",
    "AWS Elastic Beanstalk is designed to support multiple running environments such as one for integration testing, one for pre-production, and one for production.<br>Each environment is independently configured and runs on its own separate AWS resources.<br>\n",
    "\n",
    "https://aws.amazon.com/elasticbeanstalk/faqs/"
   ]
  },
  {
   "cell_type": "markdown",
   "metadata": {},
   "source": [
    "# 59 An AWS design best practice is to develop _ applications because this allows different parts of the application to be scaled independently of the others depending on demand, throughput, response times, and so on.<br>\n",
    "O   loosely-coupled<br>\n",
    "X   stateful<br>\n",
    "X   fault-proof<br>\n",
    "X   interdependent<br>\n",
    "\n",
    "## Explanation\n",
    "Loose coupling refers to the removal of the dependency on one subset of the application (Part A) from another (Part B).<br>If there are parts of the application that are very dependent on each other, they can be classed as coupled, and if one part changed it would ultimately affect the other part.<br> \n",
    "\n",
    "https://d0.awsstatic.com/whitepapers/AWS_Cloud_Best_Practices.pdf"
   ]
  },
  {
   "cell_type": "markdown",
   "metadata": {},
   "source": [
    "# 60 When deploying a new environment within AWS, what does \"think parallel\" mean?<br>\n",
    "X   Test with new deployments and eliminate existing systems to confirm desired outcomes before scaling fully.<br>\n",
    "X   Test changes and validate the results at all lifecycle stages to confirm new features and minimize failed deployments.<br>\n",
    "O   Maintain the prior environment until there is confirmation of successful deployment.<br>\n",
    "X   Automate testing of deployed environments to confirm desired outcomes.<br>\n",
    "\n",
    "## Explanation\n",
    "When deploying a new environment within AWS, one aspect of the concept \"think parallel\" means maintaining the prior environment while testing and deploying a new one in order to reduce various risks associated with architecting the new environment.\n",
    "\n",
    "http://aws001.s3.amazonaws.com/trailhead/TrailHead_ArchitectingInTheCloud.pdf"
   ]
  },
  {
   "cell_type": "markdown",
   "metadata": {},
   "source": [
    "# 61 ____ is a fast, reliable, scalable, fully managed message queuing service.<br>\n",
    "O   Amazon SQS<br>\n",
    "X   Amazon SNS<br>\n",
    "X   Amazon SES<br>\n",
    "X   AWS Data Pipeline<br>\n",
    "\n",
    "## Explanation\n",
    "Amazon Simple Queue Service (SQS) is a fast, reliable, scalable, fully managed message queuing service.<br>SQS makes it simple and cost-effective to decouple the components of a cloud application.\n",
    "\n",
    "1. Decoupling the components of an application – You have a queue of work items and want to track the successful completion of each item independently. Amazon SQS tracks the ACK/FAIL results, so the application does not have to maintain a persistent checkpoint or cursor. After a configured visibility timeout, Amazon SQS deletes acknowledged messages and redelivers failed messages.\n",
    "2. Configuring individual message delay – You have a job queue and you need to schedule individual jobs with a delay. With standard queues, you can configure individual messages to have a delay of up to 15 minutes.\n",
    "3. Dynamically increasing concurrency or throughput at read time – You have a work queue and want to add more consumers until the backlog is cleared. Amazon SQS requires no pre-provisioning.\n",
    "4. Scaling transparently – You buffer requests and the load changes as a result of occasional load spikes or the natural growth of your business. Because Amazon SQS can process each buffered request independently, Amazon SQS can scale transparently to handle the load without any provisioning instructions from you.\n",
    "\n",
    "http://aws.amazon.com/sqs/"
   ]
  },
  {
   "cell_type": "markdown",
   "metadata": {},
   "source": [
    "# 62 Network Access Control Lists (NACLs) are ___.<br>\n",
    "O   stateless<br>\n",
    "X   stateful<br>\n",
    "X   synchronous<br>\n",
    "X   asynchronous<br>\n",
    "\n",
    "## Explanation\n",
    "Network ACLs are stateless; responses to allowed inbound traffic are subject to the rules for outbound traffic (and vice versa).\n",
    "\n",
    "http://docs.aws.amazon.com/AmazonVPC/latest/UserGuide/VPC_ACLs.html"
   ]
  },
  {
   "cell_type": "markdown",
   "metadata": {},
   "source": [
    "# 63 ___ gives developers and systems administrators an easy way to create and manage a collection of related AWS resources, provisioning and updating them in an orderly and predictable fashion.<br>\n",
    "X   Amazon AppStream<br>\n",
    "O   AWS CloudFormation<br>\n",
    "X   Amazon Cognito<br>\n",
    "X   AWS Lambda<br>\n",
    "\n",
    "## Explanation\n",
    "AWS CloudFormation gives developers and systems administrators an easy way to create and manage a collection of related AWS resources, provisioning and updating them in an orderly and predictable fashion.<br>\n",
    "\n",
    "http://aws.amazon.com/cloudformation/"
   ]
  },
  {
   "cell_type": "markdown",
   "metadata": {},
   "source": [
    "# 64 How does setting up consolidated billing for multiple accounts within AWS Organizations help to allocate costs across departments?<br>\n",
    "X   By reducing the cost of using Consolidated billing by half<br>\n",
    "O   By sharing volume discounts across all accounts in the organization<br>\n",
    "X   By allocating unlimited EC2 free-tier services capacity to each account<br>\n",
    "X   By automatically applying maximum volume pricing for AWS Data Transfer regardless of usage<br>\n",
    "\n",
    "## Explanation\n",
    "Consolidated billing for multiple accounts enables the sharing of volume discounts across all accounts in the organization.\n",
    "\n",
    "Consolidated billing is a free service, so its cost would not be reduced by half when used with AWS Organizations.\n",
    "\n",
    "Although it is possible to share EC2 free-tier services capacity through consolidated billing in AWS Organizations, the free-tier is allocated to the total usage across all accounts within the AWS Organizations account and not to each account individually.\n",
    "\n",
    "Volume pricing tiers for AWS Data Transfer are a feature of consolidated billing within AWS Organizations, but a maximum volume pricing is applied the more a service is used, not automatically.<br>\n",
    "\n",
    "https://docs.aws.amazon.com/awsaccountbilling/latest/aboutv2/useconsolidatedbilling-discounts.html"
   ]
  },
  {
   "cell_type": "markdown",
   "metadata": {},
   "source": [
    "# 65 Auto Scaling does not perform which of the following operations?<br>\n",
    "X   Scaling down instance counts<br>\n",
    "O   Changing instance types<br>\n",
    "X   Maintaining current instance levels<br>\n",
    "X   Scaling up instance counts<br>\n",
    "\n",
    "## Explanation\n",
    "Auto Scaling policies can scale up or down based on the user-defined policies, health status checks or schedules.<br>It also performs a health check on the instances, terminates unhealthy instances, and launches healthy instances to maintain the current instance level.<br>\n",
    "\n",
    "Scaling provides you with options, outside of scaling policies, to override attributes from the instance and use the values that you need.<br>For example, you can override the instance type using AWS CLI commands.\n",
    "\n",
    "http://docs.aws.amazon.com/autoscaling/latest/userguide/create-lc-with-instanceID.html\n",
    "\n"
   ]
  }
 ],
 "metadata": {
  "kernelspec": {
   "display_name": "Python 3.10.0 64-bit",
   "language": "python",
   "name": "python3"
  },
  "language_info": {
   "name": "python",
   "version": "3.10.0"
  },
  "orig_nbformat": 4,
  "vscode": {
   "interpreter": {
    "hash": "b01b53f38729a34dea6a4ed645c72a9f2da42ee2cb93d833b91465ba1e56b3f9"
   }
  }
 },
 "nbformat": 4,
 "nbformat_minor": 2
}
