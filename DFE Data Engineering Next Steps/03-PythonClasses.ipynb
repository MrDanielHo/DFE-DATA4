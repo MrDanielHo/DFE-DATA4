{
 "cells": [
  {
   "cell_type": "markdown",
   "metadata": {},
   "source": [
    "# Python Classes\n",
    "Writing Object Oriented Code\n",
    "\n",
    "## What is a class?\n",
    "    - Represents a thing\n",
    "    - Encapsulates functions and variables\n",
    "    - Creator of object instances\n",
    "    - Basic unit of object-oriented programming\n",
    "\n",
    "A class is a definition that represents a thing.<br>\n",
    "The thing could be a file, a process, a database record, a strategy, a string, a person, or a truck.\n",
    "\n",
    "The class describes both data, which represents one instance of the thing, and methods which are functions that act upon data.<br>\n",
    "There can be both class data, which is shared by all instances, and instance data, which is only accessible from the instance.\n",
    "\n",
    "## Defining classes\n",
    "\n",
    "* Syntax:\n",
    "```python\n",
    "class ClassName(base_class,...):\n",
    "    # class body - methods and data\n",
    "```\n",
    "\n",
    "* Specify base classes\n",
    "\n",
    "* Use StudlyCaps for name\n",
    "\n",
    "The class statement defines a class and assigns it to a name.<br>\n",
    "The simplest form of class definition looks like this:\n",
    "```python\n",
    "class ClassName():\n",
    "    pass\n",
    "```\n",
    "\n",
    "* Normally, the contents of a class definition will be method definitions and shared data.\n",
    "\n",
    "* A class definition creates a new local namespace. All variable assignments go this new namespace. All methods are called via the instance or the class name.\n",
    "\n",
    "* A list of base calsses may be specified in parentheses after the class name.\n",
    "\n",
    "## Object Instances\n",
    "    - Call class name as a function\n",
    "    - Self contains attributes\n",
    "    - Syntax\n",
    "\n",
    "obj = ClassName(args...)\n",
    "\n",
    "An Object instance is an object created from a class.<br>\n",
    "Each object instance has its own private attributes, which are usually created in the `__init__` method\n",
    "\n",
    "## Instance attributes\n",
    "    - Methods and data\n",
    "    - Accessed using dot notation\n",
    "    - Privacy by convention (_name)\n",
    "\n",
    "An instance of a class (AKA object) normally contains methods and data.<br>\n",
    "To access these attributes, use \"dot notation\": `object.attribute`.\n",
    "\n",
    "Instance attributes are dynamic; they can be accessed directly from the object.<br>\n",
    "You can create, update, and delete attributes in this way.\n",
    "\n",
    "Attributes cannot be made private, but names that begin with an underscore are understood by convention to be for internal use only.<br>\n",
    "Users of your class will not consider methods that begin with an underscore to be p art of your class' API."
   ]
  },
  {
   "cell_type": "code",
   "execution_count": 3,
   "metadata": {},
   "outputs": [],
   "source": [
    "class Spam():\n",
    "    def eggs(self):\n",
    "        pass\n",
    "    \n",
    "    def _beverage(self):    # private!\n",
    "        pass\n",
    "\n",
    "s = Spam()\n",
    "s.eggs()"
   ]
  },
  {
   "cell_type": "code",
   "execution_count": 5,
   "metadata": {},
   "outputs": [
    {
     "ename": "SyntaxError",
     "evalue": "cannot assign to function call here. Maybe you meant '==' instead of '='? (Temp/ipykernel_13420/1511496605.py, line 1)",
     "output_type": "error",
     "traceback": [
      "\u001b[1;36m  File \u001b[1;32m\"C:\\Users\\DANIEL~1\\AppData\\Local\\Temp/ipykernel_13420/1511496605.py\"\u001b[1;36m, line \u001b[1;32m1\u001b[0m\n\u001b[1;33m    s.toast() = 'buttered'\u001b[0m\n\u001b[1;37m    ^\u001b[0m\n\u001b[1;31mSyntaxError\u001b[0m\u001b[1;31m:\u001b[0m cannot assign to function call here. Maybe you meant '==' instead of '='?\n"
     ]
    }
   ],
   "source": [
    "s.toast() = 'buttered'\n",
    "print(s.toast)"
   ]
  },
  {
   "cell_type": "code",
   "execution_count": 6,
   "metadata": {},
   "outputs": [
    {
     "data": {
      "text/plain": [
       "'\\nIn most cases, it is better to use properties (described later) to access data attributes.\\n'"
      ]
     },
     "execution_count": 6,
     "metadata": {},
     "output_type": "execute_result"
    }
   ],
   "source": [
    "s._beverage() # legal, but wrong\n",
    "\n",
    "'''\n",
    "In most cases, it is better to use properties (described later) to access data attributes.\n",
    "'''"
   ]
  },
  {
   "cell_type": "markdown",
   "metadata": {},
   "source": [
    "## Instance methods\n",
    "    - Called from objects\n",
    "    - Object is implicit parameter\n",
    "\n",
    "An instance methods is a function defined in a class.<br>\n",
    "When a method is called from an object, the object is passed in as the implicit first parameter, named self by strong convention."
   ]
  },
  {
   "cell_type": "code",
   "execution_count": 1,
   "metadata": {},
   "outputs": [
    {
     "name": "stdout",
     "output_type": "stream",
     "text": [
      "I am a large bunny with sharp pointy teeth\n"
     ]
    }
   ],
   "source": [
    "class Rabbit:\n",
    "    def __init__(self, size, danger):\n",
    "        self._size = size\n",
    "        self._danger = danger\n",
    "        self._victims = []\n",
    "    \n",
    "    def threaten(self):\n",
    "        print(f\"I am a {self._size} bunny with {self._danger}!\")\n",
    "\n",
    "r1 = Rabbit('large', 'sharp pointy teeth')\n",
    "r1.threaten()"
   ]
  },
  {
   "cell_type": "code",
   "execution_count": 2,
   "metadata": {},
   "outputs": [
    {
     "name": "stdout",
     "output_type": "stream",
     "text": [
      "I am a small bunny with fluffy and furry\n"
     ]
    }
   ],
   "source": [
    "r2 = Rabbit('small', 'fluffy and furry')\n",
    "r2.threaten()"
   ]
  },
  {
   "cell_type": "markdown",
   "metadata": {},
   "source": [
    "## Costructors\n",
    "    - Named __init__\n",
    "    - Implicitly called when object is created\n",
    "    - self is object itself\n",
    "\n",
    "If a class defines a method named `__init__`, it will be automatically called when an object instance is created.<br>\n",
    "This is the constructor.\n",
    "\n",
    "The object being created is implicitly passed as the first parameter to `__init__`.<br>\n",
    "This parameter is named self by very strong convention.<br>\n",
    "Data attributes can be assigned to self.<br>\n",
    "These attributes can then be accessed by other methods.\n",
    "\n",
    "## Getters and setters\n",
    "    - Used to access data\n",
    "    - AKA accessors and mutators\n",
    "    - Most people prefer properties\n",
    "\n",
    "Getter and setter methods can be used to access an object's data.<br>\n",
    "These are traditional in object-oriented programming.\n",
    "\n",
    "A getter retrieves a data (private variable) from self.<br>\n",
    "A setter assigns a value to a variable."
   ]
  },
  {
   "cell_type": "code",
   "execution_count": 4,
   "metadata": {},
   "outputs": [
    {
     "data": {
      "text/plain": [
       "'Lancelot'"
      ]
     },
     "execution_count": 4,
     "metadata": {},
     "output_type": "execute_result"
    }
   ],
   "source": [
    "class Knight(object):\n",
    "    def __init__(self,name):\n",
    "        self._name = name\n",
    "\n",
    "    def set_name(self,name):\n",
    "        self._name = name\n",
    "\n",
    "    def get_name(self):\n",
    "        return self._name\n",
    "\n",
    "k = Knight(\"Lancelot\")\n",
    "k.get_name()"
   ]
  },
  {
   "cell_type": "code",
   "execution_count": 6,
   "metadata": {},
   "outputs": [
    {
     "data": {
      "text/plain": [
       "'Jezza'"
      ]
     },
     "execution_count": 6,
     "metadata": {},
     "output_type": "execute_result"
    }
   ],
   "source": [
    "k.set_name('Jezza')\n",
    "k.get_name()"
   ]
  },
  {
   "cell_type": "markdown",
   "metadata": {},
   "source": [
    "## Properties\n",
    "    - Accessed like variables\n",
    "    - Invoke implicit getters and setters\n",
    "    - Can be read-only\n",
    "\n",
    "While object attributes can be accessed directly, in many cases the class needs to demonstrate some control over the attributes.\n",
    "\n",
    "A more elegant approach is to use properties.<br>\n",
    "A property is a kind of managed attribute.<br>\n",
    "Properties are accessed directly, like normal attributes (variables), but getter, setter, and deleter functions are implicitly called, so that the class can control what values are stored or retrieved from the attributes.\n",
    "\n",
    "You can create getter, setter, and deleter properties.\n",
    "\n",
    "To create the getter property (which must be created first), apply the `@property` decorator to a method with the name you want.<br>\n",
    "It receives no parameteres other than self.\n",
    "\n",
    "To create the setter property, create another function with the property name (yes, there will be two function definitions with the same name).<br>\n",
    "Decorate this with the property name plus `.setter`.<br>\n",
    "In other words, if the property is named \"spam\", the decorator will be `@spam.setter`.<br>\n",
    "The setter method will take one parameter (other than self), which is the value assigned to the property.\n",
    "\n",
    "It is common for a setter property to raise an error if the value being assigned is invalid.\n",
    "\n",
    "While you seldom need a deleter property, creating it is the same as for a setter property, using `@propertyname.deleter`."
   ]
  },
  {
   "cell_type": "code",
   "execution_count": 7,
   "metadata": {},
   "outputs": [
    {
     "name": "stdout",
     "output_type": "stream",
     "text": [
      "They call him Lancelot of blue\n"
     ]
    }
   ],
   "source": [
    "class Knight():\n",
    "    def __init__(self, name, title, colour):\n",
    "        self._name = name\n",
    "        self._title = title\n",
    "        self._colour = colour\n",
    "    \n",
    "    @property\n",
    "    def name(self):\n",
    "        return self._name\n",
    "    \n",
    "    @property\n",
    "    def colour(self):\n",
    "        return self._colour\n",
    "\n",
    "    @colour.setter\n",
    "    def colour(self, colour):\n",
    "        self._colour = colour\n",
    "\n",
    "    @property\n",
    "    def title(self):\n",
    "        return self._title\n",
    "\n",
    "k = Knight('Lancelot', 'Sir', 'blue')\n",
    "\n",
    "print(f'They call him {k.name} of {k.colour}')"
   ]
  },
  {
   "cell_type": "code",
   "execution_count": 8,
   "metadata": {},
   "outputs": [
    {
     "name": "stdout",
     "output_type": "stream",
     "text": [
      "They call him Lancelot of red\n"
     ]
    }
   ],
   "source": [
    "k.colour = 'red'\n",
    "\n",
    "print(f'They call him {k.name} of {k.colour}')"
   ]
  },
  {
   "cell_type": "markdown",
   "metadata": {},
   "source": [
    "## Class data\n",
    "    - Attached to the class, not instance\n",
    "    - Shared by all instances\n",
    "\n",
    "Data can be attached to the class itself, and shared among all instance.<br>\n",
    "Class data can be accessed via the class name from inside or outside the class.\n",
    "\n",
    "Any class attribute not overwritten by an instance attribute is also available through the instance."
   ]
  },
  {
   "cell_type": "code",
   "execution_count": 10,
   "metadata": {},
   "outputs": [
    {
     "name": "stdout",
     "output_type": "stream",
     "text": [
      "This rabbit guarding the Cave of Caerbannog uses a nice cup of tea as a weapon.\n"
     ]
    }
   ],
   "source": [
    "class Rabbit:\n",
    "    LOCATION = \"the Cave of Caerbannog\"\n",
    "\n",
    "    def __init__(self, weapon):\n",
    "        self.weapon = weapon\n",
    "\n",
    "    def display(self):\n",
    "        print(f\"This rabbit guarding {self.LOCATION} uses {self.weapon} as a weapon.\")\n",
    "\n",
    "r1 = Rabbit('a nice cup of tea')\n",
    "r1.display()"
   ]
  },
  {
   "cell_type": "code",
   "execution_count": 11,
   "metadata": {},
   "outputs": [
    {
     "name": "stdout",
     "output_type": "stream",
     "text": [
      "This rabbit guarding the Cave of Caerbannog uses big pointy teeth as a weapon.\n"
     ]
    }
   ],
   "source": [
    "r2 = Rabbit('big pointy teeth')\n",
    "r2.display()"
   ]
  },
  {
   "cell_type": "markdown",
   "metadata": {},
   "source": [
    "## Class methods\n",
    "    - Called from class or instance\n",
    "    - Use @classmethod to define\n",
    "    - First (implicit) parameter named \"cls\" by convention\n",
    "\n",
    "If a method only needs class attributes, it can be made a class method via the `@classmethod` decorator.<br>\n",
    "This alters the method so that it gets a copy of the class object rather than the instance object.<br>\n",
    "This is true whether the method is called form the class or from an instance.\n",
    "\n",
    "the paramter to a class method is named `cls` by strong convention"
   ]
  },
  {
   "cell_type": "code",
   "execution_count": 15,
   "metadata": {},
   "outputs": [
    {
     "data": {
      "text/plain": [
       "'the Cave of Caerbannog'"
      ]
     },
     "execution_count": 15,
     "metadata": {},
     "output_type": "execute_result"
    }
   ],
   "source": [
    "class Rabbit:\n",
    "    LOCATION = \"the Cave of Caerbannog\"\n",
    "    def __init__(self, weapon):\n",
    "        self.weapon = weapon\n",
    "    def display(self):\n",
    "        print(f\"This rabbit guarding {self.LOCATION} uses {self.weapon} as a weapon.\")\n",
    "    @classmethod\n",
    "    def get_location(cls):\n",
    "        return cls.LOCATION\n",
    "\n",
    "r = Rabbit('a nice cup of tea')\n",
    "\n",
    "Rabbit.get_location()"
   ]
  },
  {
   "cell_type": "code",
   "execution_count": 23,
   "metadata": {},
   "outputs": [
    {
     "data": {
      "text/plain": [
       "'the Cave of Caerbannog'"
      ]
     },
     "execution_count": 23,
     "metadata": {},
     "output_type": "execute_result"
    }
   ],
   "source": [
    "r.get_location()"
   ]
  },
  {
   "cell_type": "markdown",
   "metadata": {},
   "source": [
    "## Inheritance\n",
    "    - Specify base class in class definition\n",
    "    - Call base class constructor explicitly \n",
    "\n",
    "Any language that supports classes supports inheritance.<br>\n",
    "One or more base classes may be speicifed as part of the class definition.<br>\n",
    "All of the previous examples in this course, have used the default vase class, object.\n",
    "\n",
    "The base class must already be imported, if necessarry.<br>\n",
    "If a requested attribute is not found in the class, the search looks in the base class.<br>\n",
    "This rule is applied recursively if the base class itself is derived from some other class.<br>\n",
    "For instance, all classes inherit the implementation from object, unless a class explicitly implements it.\n",
    "\n",
    "Classes may override methods of their base classes.<br>\n",
    "(For Java and C++ programmer: all methods in Python are effectively virtual.)\n",
    "\n",
    "To extend rather than simply replace a base class method, call the base class method directly: `BaseClassName.methodname(self, arguments)`.\n",
    "\n",
    "## Using super()\n",
    "    - Follows Method Resolution Order (MRO) to find function\n",
    "    - Great for single inheritance tree\n",
    "    - Use explicit bas names for multiple inheritance\n",
    "    - syntax:\n",
    "        - super().method()\n",
    "\n",
    "The super() function can be used in a class to invoke methods in base classes.<br>\n",
    "It searches the base classes and their bases, recursively, from left to right until the method is found.\n",
    "\n",
    "The advantage of super() is that you don't have to specify the base class explivitly, so if you change base class, it automatically does the right thing.\n",
    "\n",
    "For classes that have a single inheritance tree, this works great.<br>\n",
    "For classes that have a diamond-shaped tree, super() may not do what you expect.<br>\n",
    "In this case, using the explicit base class name is best.\n",
    "\n",
    "```python\n",
    "class Foo(Bar):\n",
    "    def __init__(self):\n",
    "        super().__init__    # same as Bar._init__(self)\n",
    "```\n",
    "\n",
    "```\n",
    "See 03-Python_classes_example\n",
    "    animal.py\n",
    "    insect.py\n",
    "```\n",
    "\n",
    "## Multiple inheritance\n",
    "\n",
    "    - More than one base class\n",
    "    - All data and methods are inherited\n",
    "    - Methods resolved left-to-right, depth first\n",
    "\n",
    "Python classes can inherit from more than one base class.<br>\n",
    "This is called \"multiple inheritance\".\n",
    "\n",
    "Classes designed to be added to a base class are sometimes called \"mixin classes\" or just \"mixin\"\n",
    "\n",
    "Methods are searched fro in the first base class, then its parents, then the second base class and parents, and so forth.\n",
    "\n",
    "Put the \"extra\" classes before the main base class, so any methods in those classes will override methods with the same name in the base class.\n",
    "\n",
    "```\n",
    "See 03-Python_classes_example\n",
    "    multiple_inheritance.py\n",
    "```\n",
    "\n",
    "## Abstract Base Classes\n",
    "    - Designed for inheritance\n",
    "    - Abstract methods must be implemented\n",
    "    - Non-abstract methods may be overwritten\n",
    "\n",
    "The ABC module provides abstract base classes.<br>\n",
    "When a method is an abstract class is designated abstract, it must be implemented in any derived class.<br>\n",
    "If a method is not marked abstract, it may be overwritten or extended.\n",
    "\n",
    "To create an abstract class, import ABCMeta and abstractmethod.<br>\n",
    "Create the base (abstract) class normally, but assign ABCMeta to the class option metaclass.<br>\n",
    "Then decorated any desired abstract methods with *@abstractmethod.\n",
    "\n",
    "Now, any classes that inherit from the base class must implement any abstract methods.<br>\n",
    "Non-abstract methods do not have to be implemented, but of course will be inherited.\n",
    "\n",
    "```\n",
    "See 03-Python_classes_example\n",
    "    abstract_base_classes.py\n",
    "```\n",
    "\n",
    "## Special Methods\n",
    "    - User-defined classes emulate standard types\n",
    "    - Define behaviour for builtin functions\n",
    "    - Override operators\n",
    "\n",
    "Python has a set of special methods that can be used to make user-defined classes emulate the behavious of builtin classes.<br>\n",
    "These methods can be used to define the behavious for builtin functions such as str(), len() and repr(); they can also be used to override many Python operators, such as +, *, and ==.\n",
    "\n",
    "These methods expect the self parameter, like all instance methods.<br>\n",
    "They frequencely take one or more additional methods.\n",
    "`self.` is the object being called from the builtin function, or the left    of a binary operator such as ==.\n",
    "\n",
    "For instance, if your object represented a database connection, you could have str() return the hostname, port, and maybe the connection string.<br>\n",
    "The default for str() is to call repr(), which returns something like `<main.DBConn object at 0xb7828c6c>`, which is not nearly so user-friendly.\n",
    "\n",
    "## Static Methods\n",
    "    - Related to class, but doesn't need instance or class objects\n",
    "    - Use @staticmethod decorator\n",
    "\n",
    "A static method is a utility method that is related to the class, but does not need the instance or class object.<br>\n",
    "Thus, it has no automatic parameter.\n",
    "\n",
    "One use case for static methods is to factor some kind of logic out of several methods, when the logic doesn't require any of the data in the class."
   ]
  }
 ],
 "metadata": {
  "interpreter": {
   "hash": "855ae122d4fcda6f141f92c8875720321028ea409d34d35b900b724463e5c1c0"
  },
  "kernelspec": {
   "display_name": "Python 3.10.0 64-bit",
   "language": "python",
   "name": "python3"
  },
  "language_info": {
   "codemirror_mode": {
    "name": "ipython",
    "version": 3
   },
   "file_extension": ".py",
   "mimetype": "text/x-python",
   "name": "python",
   "nbconvert_exporter": "python",
   "pygments_lexer": "ipython3",
   "version": "3.10.0"
  },
  "orig_nbformat": 4
 },
 "nbformat": 4,
 "nbformat_minor": 2
}
