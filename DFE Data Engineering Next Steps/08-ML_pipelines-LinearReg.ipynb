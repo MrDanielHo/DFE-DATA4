{
 "cells": [
  {
   "cell_type": "code",
   "execution_count": 32,
   "metadata": {},
   "outputs": [],
   "source": [
    "import pandas as pd\n",
    "df = pd.read_csv(r'C:\\Users\\Daniel Ho\\DFE-DATA4\\DFE Data Engineering Next Steps\\scikit_data\\boston.csv')"
   ]
  },
  {
   "cell_type": "code",
   "execution_count": null,
   "metadata": {},
   "outputs": [],
   "source": []
  },
  {
   "cell_type": "code",
   "execution_count": 33,
   "metadata": {},
   "outputs": [],
   "source": [
    "from sklearn.model_selection import train_test_split"
   ]
  },
  {
   "cell_type": "code",
   "execution_count": 34,
   "metadata": {},
   "outputs": [],
   "source": [
    "'''\n",
    "We are doing to use 80% of the data to train the model, 20% to test the model.\n",
    "\n",
    "We save this to two objects, a training dataset and a testing dataset.\n",
    "'''\n",
    "train_df, test_df = train_test_split(df, test_size=0.2, random_state=42)"
   ]
  },
  {
   "cell_type": "code",
   "execution_count": 35,
   "metadata": {},
   "outputs": [
    {
     "data": {
      "text/plain": [
       "(506, 14)"
      ]
     },
     "execution_count": 35,
     "metadata": {},
     "output_type": "execute_result"
    }
   ],
   "source": [
    "df.shape"
   ]
  },
  {
   "cell_type": "code",
   "execution_count": 36,
   "metadata": {},
   "outputs": [
    {
     "data": {
      "text/plain": [
       "(404, 14)"
      ]
     },
     "execution_count": 36,
     "metadata": {},
     "output_type": "execute_result"
    }
   ],
   "source": [
    "train_df.shape"
   ]
  },
  {
   "cell_type": "code",
   "execution_count": 37,
   "metadata": {},
   "outputs": [
    {
     "data": {
      "text/plain": [
       "(102, 14)"
      ]
     },
     "execution_count": 37,
     "metadata": {},
     "output_type": "execute_result"
    }
   ],
   "source": [
    "test_df.shape"
   ]
  },
  {
   "cell_type": "code",
   "execution_count": 38,
   "metadata": {},
   "outputs": [],
   "source": [
    "X = df.drop(['MEDV'], axis=1)\n",
    "y = df['MEDV']"
   ]
  },
  {
   "cell_type": "code",
   "execution_count": 39,
   "metadata": {},
   "outputs": [],
   "source": [
    "X_train, X_test, y_train, y_test = train_test_split(X, y, test_size=0.2, random_state=42)"
   ]
  },
  {
   "cell_type": "code",
   "execution_count": 40,
   "metadata": {},
   "outputs": [
    {
     "data": {
      "text/plain": [
       "(404, 13)"
      ]
     },
     "execution_count": 40,
     "metadata": {},
     "output_type": "execute_result"
    }
   ],
   "source": [
    "X_train.shape"
   ]
  },
  {
   "cell_type": "code",
   "execution_count": 41,
   "metadata": {},
   "outputs": [
    {
     "data": {
      "text/plain": [
       "(404,)"
      ]
     },
     "execution_count": 41,
     "metadata": {},
     "output_type": "execute_result"
    }
   ],
   "source": [
    "y_train.shape"
   ]
  },
  {
   "cell_type": "code",
   "execution_count": 42,
   "metadata": {},
   "outputs": [
    {
     "data": {
      "text/plain": [
       "LinearRegression()"
      ]
     },
     "execution_count": 42,
     "metadata": {},
     "output_type": "execute_result"
    }
   ],
   "source": [
    "'''\n",
    "We can now use a linear regression model to fit our training data.\n",
    "'''\n",
    "\n",
    "from sklearn.linear_model import LinearRegression\n",
    "reg_all = LinearRegression()\n",
    "reg_all.fit(X_train, y_train)"
   ]
  },
  {
   "cell_type": "code",
   "execution_count": 43,
   "metadata": {},
   "outputs": [
    {
     "name": "stdout",
     "output_type": "stream",
     "text": [
      "r2 training score is 0.7509\n"
     ]
    }
   ],
   "source": [
    "'''\n",
    "The closer to 1 for the r-squared figure, the better the model fits.\n",
    "'''\n",
    "\n",
    "r2_score = round(reg_all.score(X_train, y_train), 4)\n",
    "print(f'r2 training score is {r2_score}')"
   ]
  },
  {
   "cell_type": "code",
   "execution_count": 44,
   "metadata": {},
   "outputs": [],
   "source": [
    "'''\n",
    "So the model has learnt some patterns and we need to check these patterns against the test data.\n",
    "'''\n",
    "\n",
    "y_pred = reg_all.predict(X_test)"
   ]
  },
  {
   "cell_type": "code",
   "execution_count": 45,
   "metadata": {},
   "outputs": [],
   "source": [
    "'''\n",
    "We need to compare if the predictions from the model to the actual outcomes using the test data.\n",
    "'''\n",
    "\n",
    "r2_score_test = round(reg_all.score(X_test, y_test), 4)"
   ]
  },
  {
   "cell_type": "code",
   "execution_count": 46,
   "metadata": {},
   "outputs": [
    {
     "data": {
      "text/plain": [
       "0.6688"
      ]
     },
     "execution_count": 46,
     "metadata": {},
     "output_type": "execute_result"
    }
   ],
   "source": [
    "r2_score_test"
   ]
  },
  {
   "cell_type": "code",
   "execution_count": 47,
   "metadata": {},
   "outputs": [
    {
     "data": {
      "text/plain": [
       "4.928602182665318"
      ]
     },
     "execution_count": 47,
     "metadata": {},
     "output_type": "execute_result"
    }
   ],
   "source": [
    "'''\n",
    "We can use different metrics to see how good the model is.\n",
    "i.e. mean square error - a risk metric corresponding to the expected value of the squared (quadratic) error or loss.\n",
    "\n",
    "The close it is to zero, the better the model fit.\n",
    "\n",
    "https://scikit-learn.org/stable/modules/model_evaluation.html#mean-squared-error\n",
    "'''\n",
    "\n",
    "from sklearn.metrics import mean_squared_error\n",
    "import numpy as np\n",
    "\n",
    "np.sqrt(mean_squared_error(y_test, y_pred))"
   ]
  },
  {
   "cell_type": "code",
   "execution_count": 48,
   "metadata": {},
   "outputs": [],
   "source": [
    "'''\n",
    "We need to check the errors the model made in the prediction.\n",
    "'''\n",
    "error = y_test - y_pred"
   ]
  },
  {
   "cell_type": "code",
   "execution_count": 49,
   "metadata": {},
   "outputs": [
    {
     "data": {
      "text/plain": [
       "4.928602182665318"
      ]
     },
     "execution_count": 49,
     "metadata": {},
     "output_type": "execute_result"
    }
   ],
   "source": [
    "'''\n",
    "We should get the same result as the mean_squared_error using the following line:\n",
    "'''\n",
    "np.sqrt(np.mean(error ** 2))"
   ]
  },
  {
   "cell_type": "code",
   "execution_count": 50,
   "metadata": {},
   "outputs": [
    {
     "data": {
      "image/png": "[encoded data removed]",
      "text/plain": [
       "<Figure size 720x576 with 1 Axes>"
      ]
     },
     "metadata": {
      "needs_background": "light"
     },
     "output_type": "display_data"
    }
   ],
   "source": [
    "'''\n",
    "To check the distribution of the error, produce a plot that allows us to understand how our model performs,\n",
    "then check how the actuals versus predicted values with another plot.\n",
    "\n",
    "The below graph shows peak observations of the errors between -5 and +5, and the maximum around 0.\n",
    "But there it still can be improved as there are still errors towards the tail end of the distribution.\n",
    "'''\n",
    "\n",
    "import matplotlib.pyplot as plt\n",
    "fig, ax = plt.subplots(figsize=(10,8))\n",
    "ax.hist(error)\n",
    "ax.set_xlabel('Error')\n",
    "plt.show()"
   ]
  },
  {
   "cell_type": "code",
   "execution_count": 51,
   "metadata": {},
   "outputs": [
    {
     "data": {
      "text/plain": [
       "<AxesSubplot:>"
      ]
     },
     "execution_count": 51,
     "metadata": {},
     "output_type": "execute_result"
    },
    {
     "data": {
      "image/png": "[encoded data removed]",
      "text/plain": [
       "<Figure size 432x288 with 1 Axes>"
      ]
     },
     "metadata": {
      "needs_background": "light"
     },
     "output_type": "display_data"
    }
   ],
   "source": [
    "'''\n",
    "The below graph shows the actual versus predicted.\n",
    "\n",
    "The model is over-predicting for the first 10 rows.\n",
    "'''\n",
    "\n",
    "data_pred_df = pd.DataFrame({'Actual value': y_test, 'Predicted': y_pred}).reset_index(drop=True)\n",
    "data_pred_df.head(10).plot(kind='bar')"
   ]
  },
  {
   "cell_type": "code",
   "execution_count": 52,
   "metadata": {},
   "outputs": [
    {
     "data": {
      "text/plain": [
       "<AxesSubplot:>"
      ]
     },
     "execution_count": 52,
     "metadata": {},
     "output_type": "execute_result"
    },
    {
     "data": {
      "image/png": "[encoded data removed]",
      "text/plain": [
       "<Figure size 432x288 with 1 Axes>"
      ]
     },
     "metadata": {
      "needs_background": "light"
     },
     "output_type": "display_data"
    }
   ],
   "source": [
    "'''\n",
    "However the model is not a great fit on the last 10 rows.\n",
    "Predicted values are lower than actual values.\n",
    "'''\n",
    "data_pred_df.tail(10).plot(kind='bar')"
   ]
  },
  {
   "cell_type": "code",
   "execution_count": 53,
   "metadata": {},
   "outputs": [
    {
     "data": {
      "text/plain": [
       "Text(0, 0.5, 'Predicted value')"
      ]
     },
     "execution_count": 53,
     "metadata": {},
     "output_type": "execute_result"
    },
    {
     "data": {
      "image/png": "[encoded data removed]",
      "text/plain": [
       "<Figure size 720x576 with 1 Axes>"
      ]
     },
     "metadata": {
      "needs_background": "light"
     },
     "output_type": "display_data"
    }
   ],
   "source": [
    "'''\n",
    "A scatter graph of actual versus predicted will show a better understanding.\n",
    "The dotted line is a line from (0,0) to (50,50).\n",
    "The dependence is the relationship between actual values and predicted values.\n",
    "\n",
    "From looking at the graph, is the training score (r2 score) of 0.75 good?\n",
    "This will depend on the strategies used.\n",
    "Deploying 80/20 (training/test) is arbitrary choice but it is dependent on the way we split the data.\n",
    "Splitting the data with a different strategy will change the training score.\n",
    "There will be some bias in the way the data is split and we need to avoid bias as much as possible.\n",
    "'''\n",
    "\n",
    "fig, ax = plt.subplots(figsize=(10,8))\n",
    "ax.scatter(y_test, y_pred)\n",
    "ax.plot([0,50], [0,50], linestyle='--')\n",
    "ax.set_xlabel('Actual value')\n",
    "ax.set_ylabel('Predicted value')"
   ]
  },
  {
   "cell_type": "code",
   "execution_count": 54,
   "metadata": {},
   "outputs": [],
   "source": [
    "'''\n",
    "Using Cross-Validation can help eliminate bias.\n",
    "Instead of splitting the data into training/testing in one go,\n",
    "The original data is split into K-folds and this procedure is repeated so that each single data point is going to be a test data during the training phase.\n",
    "\n",
    "          |--------|--------|--------|--------|--------|\n",
    "          | FOLD 1 | FOLD 2 | FOLD 3 | FOLD 4 | FOLD 5 |\n",
    "|---------|--------|--------|--------|--------|--------|\n",
    "| Split 1 | TEST 1 | Fold 2 | Fold 3 | Fold 4 | Fold 5 |\n",
    "|---------|--------|--------|--------|--------|--------|\n",
    "| Split 2 | Fold 1 | TEST 2 | Fold 3 | Fold 4 | Fold 5 |\n",
    "|---------|--------|--------|--------|--------|--------|\n",
    "| Split 3 | Fold 1 | Fold 2 | TEST 3 | Fold 4 | Fold 5 |\n",
    "|---------|--------|--------|--------|--------|--------|\n",
    "| Split 4 | Fold 1 | Fold 2 | Fold 3 | TEST 4 | Fold 5 |\n",
    "|---------|--------|--------|--------|--------|--------|\n",
    "| Split 5 | Fold 1 | Fold 2 | Fold 3 | Fold 4 | TEST 5 |\n",
    "|---------|--------|--------|--------|--------|--------|\n",
    "\n",
    "Split 1\n",
    "Training using fold 2, fold 3, fold 4, fold 5 \n",
    "Test using fold 1\n",
    "\n",
    "Split 2\n",
    "Training using fold 1, fold 3, fold 4, fold 5 \n",
    "Test using fold 2\n",
    "\n",
    "etc.\n",
    "\n",
    "This produces 5 different scores which can be mean averaged to produce the performance of the model.\n",
    "\n",
    "The algorithm is less dependent on the split and each data point is in the test set once.\n",
    "\n",
    "Cross validation maximises the data that is used to train the model.\n",
    "And during the course of training the model, it is also tested on all available data.\n",
    "Once you have the parameters you are still able to test the data as we did previously.\n",
    "\n",
    "The score is more stable and less dependent on the original split of data.\n",
    "'''\n",
    "\n",
    "from sklearn.model_selection import cross_val_score\n",
    "cv_scores = cross_val_score(reg_all, X_train, y_train, cv=10)"
   ]
  },
  {
   "cell_type": "code",
   "execution_count": 55,
   "metadata": {},
   "outputs": [
    {
     "data": {
      "text/plain": [
       "array([0.78005109, 0.79231329, 0.75452641, 0.29904458, 0.78702938,\n",
       "       0.72324517, 0.84606865, 0.66835141, 0.79974401, 0.5362705 ])"
      ]
     },
     "execution_count": 55,
     "metadata": {},
     "output_type": "execute_result"
    }
   ],
   "source": [
    "'''\n",
    "Each single score was obtained using different folds at each single step and therefore the numbers are different across steps.\n",
    "\n",
    "There are 10 different scores because we used 10 cross validation splits.\n",
    "'''\n",
    "cv_scores"
   ]
  },
  {
   "cell_type": "code",
   "execution_count": 56,
   "metadata": {},
   "outputs": [
    {
     "data": {
      "text/plain": [
       "0.6986644490108911"
      ]
     },
     "execution_count": 56,
     "metadata": {},
     "output_type": "execute_result"
    }
   ],
   "source": [
    "cv_scores.mean()"
   ]
  },
  {
   "cell_type": "code",
   "execution_count": 59,
   "metadata": {},
   "outputs": [],
   "source": [
    "'''\n",
    "Performing cross-validation on a linear regression for different numbers of cross validation splits:\n",
    "'''\n",
    "metrics_df = pd.DataFrame()\n",
    "for elem in [5, 8, 10, 15, 20]:\n",
    "    cv_scores = cross_val_score(reg_all, X_train, y_train, cv=elem)\n",
    "    temp_df = pd.DataFrame()\n",
    "    temp_df['cv'] = [elem]\n",
    "    temp_df['avg_score'] = [cv_scores.mean()]\n",
    "    metrics_df = metrics_df.append(temp_df).reset_index(drop=True)"
   ]
  },
  {
   "cell_type": "code",
   "execution_count": 60,
   "metadata": {},
   "outputs": [
    {
     "data": {
      "text/html": [
       "<div>\n",
       "<style scoped>\n",
       "    .dataframe tbody tr th:only-of-type {\n",
       "        vertical-align: middle;\n",
       "    }\n",
       "\n",
       "    .dataframe tbody tr th {\n",
       "        vertical-align: top;\n",
       "    }\n",
       "\n",
       "    .dataframe thead th {\n",
       "        text-align: right;\n",
       "    }\n",
       "</style>\n",
       "<table border=\"1\" class=\"dataframe\">\n",
       "  <thead>\n",
       "    <tr style=\"text-align: right;\">\n",
       "      <th></th>\n",
       "      <th>cv</th>\n",
       "      <th>avg_score</th>\n",
       "    </tr>\n",
       "  </thead>\n",
       "  <tbody>\n",
       "    <tr>\n",
       "      <th>0</th>\n",
       "      <td>5</td>\n",
       "      <td>0.724436</td>\n",
       "    </tr>\n",
       "    <tr>\n",
       "      <th>1</th>\n",
       "      <td>8</td>\n",
       "      <td>0.723505</td>\n",
       "    </tr>\n",
       "    <tr>\n",
       "      <th>2</th>\n",
       "      <td>10</td>\n",
       "      <td>0.698664</td>\n",
       "    </tr>\n",
       "    <tr>\n",
       "      <th>3</th>\n",
       "      <td>15</td>\n",
       "      <td>0.705553</td>\n",
       "    </tr>\n",
       "    <tr>\n",
       "      <th>4</th>\n",
       "      <td>20</td>\n",
       "      <td>0.682848</td>\n",
       "    </tr>\n",
       "  </tbody>\n",
       "</table>\n",
       "</div>"
      ],
      "text/plain": [
       "   cv  avg_score\n",
       "0   5   0.724436\n",
       "1   8   0.723505\n",
       "2  10   0.698664\n",
       "3  15   0.705553\n",
       "4  20   0.682848"
      ]
     },
     "execution_count": 60,
     "metadata": {},
     "output_type": "execute_result"
    }
   ],
   "source": [
    "'''\n",
    "There is not much significant differences between the original linear regression, there is an actual decrease in the average score of the cross-validation.\n",
    "This makes sense since the larger number of splits, the smaller the data in each fold.\n",
    "\n",
    "If each fold contains one single data point, it is very risky since the test gets one observation during cross-validation.\n",
    "Therefore it is important to find a good balance between the number of elements inside each fold versus the number of folds specified.\n",
    "Typically a number between 5 and 10 is a good choice as larger values will slow the working memory.\n",
    "'''\n",
    "metrics_df"
   ]
  }
 ],
 "metadata": {
  "interpreter": {
   "hash": "855ae122d4fcda6f141f92c8875720321028ea409d34d35b900b724463e5c1c0"
  },
  "kernelspec": {
   "display_name": "Python 3.10.0 64-bit",
   "language": "python",
   "name": "python3"
  },
  "language_info": {
   "codemirror_mode": {
    "name": "ipython",
    "version": 3
   },
   "file_extension": ".py",
   "mimetype": "text/x-python",
   "name": "python",
   "nbconvert_exporter": "python",
   "pygments_lexer": "ipython3",
   "version": "3.10.0"
  },
  "orig_nbformat": 4
 },
 "nbformat": 4,
 "nbformat_minor": 2
}
