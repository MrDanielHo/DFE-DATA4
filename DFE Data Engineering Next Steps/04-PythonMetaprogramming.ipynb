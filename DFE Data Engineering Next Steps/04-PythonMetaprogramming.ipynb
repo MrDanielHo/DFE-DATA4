{
 "cells": [
  {
   "cell_type": "markdown",
   "metadata": {},
   "source": [
    "# Python Metagramming\n",
    "Writing Dynamic Code\n",
    "\n",
    "## Metaprogramming\n",
    "    - Writing code that writes (or at least modifies) code\n",
    "    - Can simplify some kinds of programs\n",
    "    - Not as difficult as one thinks\n",
    "    - Considered deep magic in other languages\n",
    "\n",
    "Metaprogramming is writing code that generates or modifies other code.<br>\n",
    "It includes fetching, changing, or deleting attributes, and writing functions that return functions (AKA factories).\n",
    "\n",
    "Metaprogramming is easier in Python than many other languages.<br>\n",
    "Python provides explicit access to objects, even the parts that are hidden or restricted in other languages.\n",
    "\n",
    "For instance, you can easily replace one method with another in a Python class, or even in an object instance.<br>\n",
    "In Java, this would be deep magic requiring many lines of code.\n",
    "\n",
    "## globals() and locals()\n",
    "    - Contains all variables in namespace\n",
    "    - globals() returns all global objects\n",
    "    - locals() returns all local objects.\n",
    "\n",
    "The globals() builtin function returns a dictionary of global objects.<br>\n",
    "The keys are the object names, and the values are the object values.<br>\n",
    "The dictionary is **live** - changes to the dictionary affect global variables.\n",
    "\n",
    "The locals() builtin returns a dictionary of all objects in local scope."
   ]
  },
  {
   "cell_type": "code",
   "execution_count": 4,
   "metadata": {},
   "outputs": [
    {
     "name": "stdout",
     "output_type": "stream",
     "text": [
      "Globals:\n",
      "{'In': ['',\n",
      "        'from pprint import pprint\\n'\n",
      "        'spam = 42\\n'\n",
      "        \"ham = 'Smithfield'\\n\"\n",
      "        '\\n'\n",
      "        'def eggs(fruit):\\n'\n",
      "        \"    name = 'Lancelot'\\n\"\n",
      "        \"    idiom = 'swashbuckling'\\n\"\n",
      "        '    print(\"Globals:\")\\n'\n",
      "        '    pprint(globals())\\n'\n",
      "        '    print()\\n'\n",
      "        \"    print('Locals:')\\n\"\n",
      "        '    pprint(locals())',\n",
      "        'from pprint import pprint\\n'\n",
      "        'spam = 42\\n'\n",
      "        \"ham = 'Smithfield'\\n\"\n",
      "        '\\n'\n",
      "        'def eggs(fruit):\\n'\n",
      "        \"    name = 'Lancelot'\\n\"\n",
      "        \"    idiom = 'swashbuckling'\\n\"\n",
      "        '    print(\"Globals:\")\\n'\n",
      "        '    pprint(globals())\\n'\n",
      "        '    print()\\n'\n",
      "        \"    print('Locals:')\\n\"\n",
      "        '    pprint(locals())',\n",
      "        \"eggs('some eggs please')\",\n",
      "        'from pprint import pprint\\n'\n",
      "        'spam = 42\\n'\n",
      "        \"ham = 'Smithfield'\\n\"\n",
      "        '\\n'\n",
      "        'def eggs(fruit):\\n'\n",
      "        \"    name = 'Lancelot'\\n\"\n",
      "        \"    idiom = 'swashbuckling'\\n\"\n",
      "        '    print(\"Globals:\")\\n'\n",
      "        '    pprint(globals())\\n'\n",
      "        '    print()\\n'\n",
      "        \"    print('Locals:')\\n\"\n",
      "        '    pprint(locals())\\n'\n",
      "        '\\n'\n",
      "        \"eggs('some eggs please')\"],\n",
      " 'Out': {},\n",
      " '_': '',\n",
      " '__': '',\n",
      " '___': '',\n",
      " '__builtin__': <module 'builtins' (built-in)>,\n",
      " '__builtins__': <module 'builtins' (built-in)>,\n",
      " '__doc__': 'Automatically created module for IPython interactive environment',\n",
      " '__loader__': None,\n",
      " '__name__': '__main__',\n",
      " '__package__': None,\n",
      " '__spec__': None,\n",
      " '__vsc_ipynb_file__': 'c:\\\\Users\\\\Daniel Ho\\\\DFE-DATA4\\\\DFE Data Engineering '\n",
      "                       'Next Steps\\\\04-PythonMetaprogramming.ipynb',\n",
      " '_dh': ['c:\\\\Users\\\\Daniel Ho\\\\DFE-DATA4\\\\DFE Data Engineering Next Steps'],\n",
      " '_i': \"eggs('some eggs please')\",\n",
      " '_i1': 'from pprint import pprint\\n'\n",
      "        'spam = 42\\n'\n",
      "        \"ham = 'Smithfield'\\n\"\n",
      "        '\\n'\n",
      "        'def eggs(fruit):\\n'\n",
      "        \"    name = 'Lancelot'\\n\"\n",
      "        \"    idiom = 'swashbuckling'\\n\"\n",
      "        '    print(\"Globals:\")\\n'\n",
      "        '    pprint(globals())\\n'\n",
      "        '    print()\\n'\n",
      "        \"    print('Locals:')\\n\"\n",
      "        '    pprint(locals())',\n",
      " '_i2': 'from pprint import pprint\\n'\n",
      "        'spam = 42\\n'\n",
      "        \"ham = 'Smithfield'\\n\"\n",
      "        '\\n'\n",
      "        'def eggs(fruit):\\n'\n",
      "        \"    name = 'Lancelot'\\n\"\n",
      "        \"    idiom = 'swashbuckling'\\n\"\n",
      "        '    print(\"Globals:\")\\n'\n",
      "        '    pprint(globals())\\n'\n",
      "        '    print()\\n'\n",
      "        \"    print('Locals:')\\n\"\n",
      "        '    pprint(locals())',\n",
      " '_i3': \"eggs('some eggs please')\",\n",
      " '_i4': 'from pprint import pprint\\n'\n",
      "        'spam = 42\\n'\n",
      "        \"ham = 'Smithfield'\\n\"\n",
      "        '\\n'\n",
      "        'def eggs(fruit):\\n'\n",
      "        \"    name = 'Lancelot'\\n\"\n",
      "        \"    idiom = 'swashbuckling'\\n\"\n",
      "        '    print(\"Globals:\")\\n'\n",
      "        '    pprint(globals())\\n'\n",
      "        '    print()\\n'\n",
      "        \"    print('Locals:')\\n\"\n",
      "        '    pprint(locals())\\n'\n",
      "        '\\n'\n",
      "        \"eggs('some eggs please')\",\n",
      " '_ih': ['',\n",
      "         'from pprint import pprint\\n'\n",
      "         'spam = 42\\n'\n",
      "         \"ham = 'Smithfield'\\n\"\n",
      "         '\\n'\n",
      "         'def eggs(fruit):\\n'\n",
      "         \"    name = 'Lancelot'\\n\"\n",
      "         \"    idiom = 'swashbuckling'\\n\"\n",
      "         '    print(\"Globals:\")\\n'\n",
      "         '    pprint(globals())\\n'\n",
      "         '    print()\\n'\n",
      "         \"    print('Locals:')\\n\"\n",
      "         '    pprint(locals())',\n",
      "         'from pprint import pprint\\n'\n",
      "         'spam = 42\\n'\n",
      "         \"ham = 'Smithfield'\\n\"\n",
      "         '\\n'\n",
      "         'def eggs(fruit):\\n'\n",
      "         \"    name = 'Lancelot'\\n\"\n",
      "         \"    idiom = 'swashbuckling'\\n\"\n",
      "         '    print(\"Globals:\")\\n'\n",
      "         '    pprint(globals())\\n'\n",
      "         '    print()\\n'\n",
      "         \"    print('Locals:')\\n\"\n",
      "         '    pprint(locals())',\n",
      "         \"eggs('some eggs please')\",\n",
      "         'from pprint import pprint\\n'\n",
      "         'spam = 42\\n'\n",
      "         \"ham = 'Smithfield'\\n\"\n",
      "         '\\n'\n",
      "         'def eggs(fruit):\\n'\n",
      "         \"    name = 'Lancelot'\\n\"\n",
      "         \"    idiom = 'swashbuckling'\\n\"\n",
      "         '    print(\"Globals:\")\\n'\n",
      "         '    pprint(globals())\\n'\n",
      "         '    print()\\n'\n",
      "         \"    print('Locals:')\\n\"\n",
      "         '    pprint(locals())\\n'\n",
      "         '\\n'\n",
      "         \"eggs('some eggs please')\"],\n",
      " '_ii': 'from pprint import pprint\\n'\n",
      "        'spam = 42\\n'\n",
      "        \"ham = 'Smithfield'\\n\"\n",
      "        '\\n'\n",
      "        'def eggs(fruit):\\n'\n",
      "        \"    name = 'Lancelot'\\n\"\n",
      "        \"    idiom = 'swashbuckling'\\n\"\n",
      "        '    print(\"Globals:\")\\n'\n",
      "        '    pprint(globals())\\n'\n",
      "        '    print()\\n'\n",
      "        \"    print('Locals:')\\n\"\n",
      "        '    pprint(locals())',\n",
      " '_iii': 'from pprint import pprint\\n'\n",
      "         'spam = 42\\n'\n",
      "         \"ham = 'Smithfield'\\n\"\n",
      "         '\\n'\n",
      "         'def eggs(fruit):\\n'\n",
      "         \"    name = 'Lancelot'\\n\"\n",
      "         \"    idiom = 'swashbuckling'\\n\"\n",
      "         '    print(\"Globals:\")\\n'\n",
      "         '    pprint(globals())\\n'\n",
      "         '    print()\\n'\n",
      "         \"    print('Locals:')\\n\"\n",
      "         '    pprint(locals())',\n",
      " '_oh': {},\n",
      " 'eggs': <function eggs at 0x0000015C57DB76D0>,\n",
      " 'exit': <IPython.core.autocall.ZMQExitAutocall object at 0x0000015C56F08730>,\n",
      " 'get_ipython': <bound method InteractiveShell.get_ipython of <ipykernel.zmqshell.ZMQInteractiveShell object at 0x0000015C56E4DE70>>,\n",
      " 'ham': 'Smithfield',\n",
      " 'os': <module 'os' from 'C:\\\\Users\\\\Daniel Ho\\\\AppData\\\\Local\\\\Programs\\\\Python\\\\Python310\\\\lib\\\\os.py'>,\n",
      " 'pprint': <function pprint at 0x0000015C549F1990>,\n",
      " 'quit': <IPython.core.autocall.ZMQExitAutocall object at 0x0000015C56F08730>,\n",
      " 'site': <module 'site' from 'C:\\\\Users\\\\Daniel Ho\\\\AppData\\\\Local\\\\Programs\\\\Python\\\\Python310\\\\lib\\\\site.py'>,\n",
      " 'spam': 42,\n",
      " 'sys': <module 'sys' (built-in)>}\n",
      "\n",
      "Locals:\n",
      "{'fruit': 'some eggs please', 'idiom': 'swashbuckling', 'name': 'Lancelot'}\n"
     ]
    }
   ],
   "source": [
    "from pprint import pprint\n",
    "spam = 42\n",
    "ham = 'Smithfield'\n",
    "\n",
    "def eggs(fruit):\n",
    "    name = 'Lancelot'\n",
    "    idiom = 'swashbuckling'\n",
    "    print(\"Globals:\")\n",
    "    pprint(globals())\n",
    "    print()\n",
    "    print('Locals:')\n",
    "    pprint(locals())\n",
    "\n",
    "eggs('some eggs please')"
   ]
  },
  {
   "cell_type": "markdown",
   "metadata": {},
   "source": [
    "## Working with attributes\n",
    "    - Objects are dictionaries of attributes\n",
    "    - Special functions can be used to access attributes\n",
    "    - Attributes specified as strings\n",
    "    - Syntax\n",
    "\n",
    "```python\n",
    "getattr(object, attribute [, defaultvalue])\n",
    "hasattr(object, attribute)\n",
    "setattr(object, attribute, value)\n",
    "delattr(object, attribute)\n",
    "```\n",
    "\n",
    "All Python objects are essentially dictionaries of attributes.<br>\n",
    "There are four special buildin functions for managing attributes.\n",
    "\n",
    "`getattr()` returns the value of a specified attribute, or `None` if the object does not have that attribute.<br>\n",
    "`a.spam` is the same as `getattr(a,'spam')`.<br>\n",
    "An optional third argument to `getattr()` provides a default value for nonexistent attributes.\n",
    "\n",
    "`hasattr()` returns the value of a specified attribute, or `None` if the object does not have that attribute.\n",
    "\n",
    "`setattr()` sets an attribute to a specified vaue.\n",
    "\n",
    "`delattr()` deletes an attribute and its coreesponding value."
   ]
  },
  {
   "cell_type": "code",
   "execution_count": 9,
   "metadata": {},
   "outputs": [
    {
     "name": "stdout",
     "output_type": "stream",
     "text": [
      "eggs! fried\n",
      "hasattr() True\n",
      "eggs! scrambled\n"
     ]
    }
   ],
   "source": [
    "class Spam():\n",
    "    def eggs(self,msg):\n",
    "        print(\"eggs!\", msg)\n",
    "\n",
    "s = Spam()\n",
    "s.eggs('fried')\n",
    "print(\"hasattr()\", hasattr(s,'eggs'))\n",
    "\n",
    "e = getattr(s, 'eggs')\n",
    "e(\"scrambled\")"
   ]
  },
  {
   "cell_type": "code",
   "execution_count": 11,
   "metadata": {},
   "outputs": [
    {
     "name": "stdout",
     "output_type": "stream",
     "text": [
      "toast! buttered\n"
     ]
    }
   ],
   "source": [
    "def toast(self, msg):\n",
    "    print(\"toast!\", msg)\n",
    "\n",
    "setattr(Spam, 'eggs', toast)\n",
    "s.eggs('buttered')"
   ]
  },
  {
   "cell_type": "code",
   "execution_count": 12,
   "metadata": {},
   "outputs": [
    {
     "name": "stdout",
     "output_type": "stream",
     "text": [
      "'Spam' object has no attribute 'eggs'\n"
     ]
    }
   ],
   "source": [
    "delattr(Spam, 'eggs')\n",
    "try:\n",
    "    s.eggs('boiled')\n",
    "except AttributeError as err:\n",
    "    print(err)"
   ]
  },
  {
   "cell_type": "markdown",
   "metadata": {},
   "source": [
    "## [Inspect module](https://docs.python.org/3/library/inspect.html)\n",
    "    - Simplifies access to metadata\n",
    "    - Provides user-friendly functions for testing metadata\n",
    "\n",
    "The inspect module provides user-friendly functions for accessing Python metadata."
   ]
  },
  {
   "cell_type": "code",
   "execution_count": 16,
   "metadata": {},
   "outputs": [
    {
     "name": "stdout",
     "output_type": "stream",
     "text": [
      "inspect: Module? True. Function? False. Class? False\n",
      "Spam: Module? False. Function? False. Class? True\n",
      "Ham: Module? False. Function? True. Class? False\n"
     ]
    }
   ],
   "source": [
    "import inspect\n",
    "\n",
    "class Spam:\n",
    "    pass\n",
    "\n",
    "def Ham(p1, p2='a', *p3, p4, p5='b', **p6):\n",
    "    print(p1, p2, p3, p4, p5, p6)\n",
    "\n",
    "for thing in (inspect, Spam, Ham):\n",
    "    print(\"{}: Module? {}. Function? {}. Class? {}\".format(\n",
    "        thing.__name__,\n",
    "        inspect.ismodule(thing),\n",
    "        inspect.isfunction(thing),\n",
    "        inspect.isclass(thing),    \n",
    "    ))"
   ]
  },
  {
   "cell_type": "code",
   "execution_count": 17,
   "metadata": {},
   "outputs": [
    {
     "name": "stdout",
     "output_type": "stream",
     "text": [
      "Function spec for Ham: FullArgSpec(args=['p1', 'p2'], varargs='p3', varkw='p6', defaults=('a',), kwonlyargs=['p4', 'p5'], kwonlydefaults={'p5': 'b'}, annotations={})\n"
     ]
    }
   ],
   "source": [
    "print(\"Function spec for Ham:\", inspect.getfullargspec(Ham))"
   ]
  },
  {
   "cell_type": "code",
   "execution_count": 18,
   "metadata": {},
   "outputs": [
    {
     "name": "stdout",
     "output_type": "stream",
     "text": [
      "Current frame: Traceback(filename='C:\\\\Users\\\\DANIEL~1\\\\AppData\\\\Local\\\\Temp/ipykernel_18848/894377386.py', lineno=1, function='<module>', code_context=['print(\"Current frame:\", inspect.getframeinfo(inspect.currentframe()))\\n'], index=0)\n"
     ]
    }
   ],
   "source": [
    "print(\"Current frame:\", inspect.getframeinfo(inspect.currentframe()))"
   ]
  },
  {
   "cell_type": "markdown",
   "metadata": {},
   "source": [
    "## [Decorators](https://wiki.python.org/moin/Decorators)\n",
    "    - Classic design pattern\n",
    "    - Built into Python\n",
    "    - Implemented via functions or classes\n",
    "    - Can decorate functions or classes\n",
    "    - Can take parameters (but not required to)\n",
    "    - functools.wraps() preserves function's properties\n",
    "\n",
    "In Python, many decorators are provided by the standard library, such as property() or classmethod(), with a special syntax.<br>\n",
    "The `@` sign is used to apply a decorator to a function or class.\n",
    "\n",
    "A decorator is a component that modifies some other component.<br>\n",
    "The purpose is typically to add functionality, but there are no real restrictions on what a decorator can do.<br>\n",
    "Many decorators register a component with some other component.<br>\n",
    "For instance, the `app.route()` decorator in Flask maps a URL to a view function.\n",
    "\n",
    "## Decorator functions\n",
    "    - Provide a wrapper around a function\n",
    "    - Add functionality\n",
    "    - Syntax\n",
    "        @decorator\n",
    "        def function():\n",
    "            pass\n",
    "    - Same as\n",
    "        function = decorator(function)\n",
    "\n",
    "A decorator function acts as a wrapper around some function.<br>\n",
    "It allows you to add features to a function without changing the function itself.<br>\n",
    "For instance, the `@property`, `@classmethod`, and `@statusmethod` decorators are used in classes.\n",
    "\n",
    "A decorator function expects only one argument - the function to be modified.<br>\n",
    "It should return a new function, which will replace the original.<br>\n",
    "The replacement function typically calls the original function as well as some new code.\n",
    "\n",
    "The new function should be defined with generic arguments so it can hancle the original function's arguments.\n",
    "\n",
    "The wraps decorator from the functools module in the standard library should be used with the function that returns the replacement function.<br>\n",
    "This makes sure the replacement functions keeps the same properties (especially the name) as the original (target) function."
   ]
  },
  {
   "cell_type": "code",
   "execution_count": 20,
   "metadata": {},
   "outputs": [
    {
     "name": "stdout",
     "output_type": "stream",
     "text": [
      "****************************************\n",
      "** function hello *\n",
      "\targs are ('hello', 'world')\n",
      "****************************************\n",
      "hello, world\n",
      "\n",
      "****************************************\n",
      "** function hello *\n",
      "\targs are ('hi', 'Earth')\n",
      "****************************************\n",
      "hi, Earth\n",
      "\n",
      "****************************************\n",
      "** function hello *\n",
      "\targs are ('greetings',)\n",
      "****************************************\n",
      "greetings, world\n"
     ]
    }
   ],
   "source": [
    "from functools import wraps\n",
    "\n",
    "def debugger(old_func):\n",
    "    \n",
    "    @wraps (old_func)\n",
    "    def new_func(*args, **kwargs):\n",
    "        print(\"*\" * 40)\n",
    "        print(\"** function\", old_func.__name__, \"*\")\n",
    "\n",
    "        if args:\n",
    "            print(f\"\\targs are {args}\")\n",
    "        if kwargs:\n",
    "            print(f\"\\tkwargs are {kwargs}\")\n",
    "\n",
    "        print(\"*\" * 40)\n",
    "\n",
    "        return old_func(*args, **kwargs)\n",
    "\n",
    "    return new_func\n",
    "\n",
    "@debugger\n",
    "def hello(greeting, whom='world'):\n",
    "    print(f\"{greeting}, {whom}\")\n",
    "\n",
    "hello('hello', 'world')\n",
    "print()\n",
    "\n",
    "hello('hi', 'Earth')\n",
    "print()\n",
    "\n",
    "hello('greetings')"
   ]
  },
  {
   "cell_type": "markdown",
   "metadata": {},
   "source": [
    "## Decorator classes\n",
    "    - same purpose as decorator functions\n",
    "    - __init__ method expects original function\n",
    "    - __call__ method replaces original function\n",
    "\n",
    "A class can also be used to implement a decorator.<br>\n",
    "The class must implement two methods:\n",
    "* init is passed the original function and can perform any setup needed.\n",
    "* The call method replaces the original function."
   ]
  },
  {
   "cell_type": "code",
   "execution_count": 23,
   "metadata": {},
   "outputs": [
    {
     "name": "stdout",
     "output_type": "stream",
     "text": [
      "****************************************\n",
      "** function hello **\n",
      "\targs are  ('hello', 'world')\n",
      "****************************************\n",
      "hello, world\n",
      "\n",
      "****************************************\n",
      "** function hello **\n",
      "\targs are  ('hi', 'earth')\n",
      "****************************************\n",
      "hi, earth\n",
      "\n",
      "****************************************\n",
      "** function hello **\n",
      "\targs are  ('greetings',)\n",
      "****************************************\n",
      "greetings, world\n"
     ]
    }
   ],
   "source": [
    "class debugger():\n",
    "    def __init__(self,func):\n",
    "        self._func = func\n",
    "\n",
    "    def __call__(self, *args, **kwargs):\n",
    "\n",
    "        print(\"*\" * 40)\n",
    "        print(\"** function\", self._func.__name__, \"**\")\n",
    "\n",
    "        if args:\n",
    "            print(\"\\targs are \", args)\n",
    "        if kwargs:\n",
    "            print(\"\\tkwargs are \", kwargs)\n",
    "\n",
    "        print(\"*\" * 40)\n",
    "\n",
    "        return self._func(*args, **kwargs)\n",
    "\n",
    "@debugger\n",
    "def hello(greeting, whom=\"world\"):\n",
    "    print(f\"{greeting}, {whom}\")\n",
    "\n",
    "hello('hello', 'world')\n",
    "print()\n",
    "\n",
    "hello(\"hi\", \"earth\")\n",
    "print()\n",
    "\n",
    "hello(\"greetings\")"
   ]
  },
  {
   "cell_type": "markdown",
   "metadata": {},
   "source": [
    "## Decorator parameters\n",
    "    - Decorator functions require two nested functions\n",
    "    - Method call returns replacement function in classes\n",
    "\n",
    "A decorator can be passed parameters.<br>\n",
    "This requires a little extra work.\n",
    "\n",
    "For decorators implemented as functions, the decorator itself is passed the parameters; it contains a nested function that is passed the decorated function (the target), and it returns the replacement function.\n",
    "\n",
    "For decorators implemented as classes, init is passed the parameters, call is passed the decorated function (the target), and the call returns the replacement function.\n",
    "\n",
    "There are many combinations of decorators (8 in total).<br>\n",
    "This is vecause decorators can be implemented as either functions or classes, they may take parameters, or not, and they can decorate either functions or classes."
   ]
  },
  {
   "cell_type": "code",
   "execution_count": 25,
   "metadata": {},
   "outputs": [
    {
     "name": "stdout",
     "output_type": "stream",
     "text": [
      "20 80\n"
     ]
    }
   ],
   "source": [
    "from functools import wraps\n",
    "\n",
    "def multiply(multiplier):\n",
    "    \n",
    "    def deco(old_func):\n",
    "\n",
    "            @wraps(old_func)\n",
    "            def new_func(*args, **kwargs):\n",
    "                result = old_func(*args, **kwargs)\n",
    "                return result * multiplier\n",
    "\n",
    "            return new_func\n",
    "\n",
    "    return deco\n",
    "\n",
    "@multiply(4)\n",
    "def spam():\n",
    "    return 5\n",
    "\n",
    "@multiply(10)\n",
    "def ham():\n",
    "    return 8\n",
    "\n",
    "a = spam()\n",
    "b = ham()\n",
    "print(a, b)"
   ]
  },
  {
   "cell_type": "markdown",
   "metadata": {},
   "source": [
    "## Creating classes at runtime\n",
    "    - Use the type() function\n",
    "    - Provide dictionary of attributes\n",
    "\n",
    "For advanced needs, a class can be created programmatically, without the use of the class statement.<br>\n",
    "The syntax is: `type(\"name\", (base_class, ...), {attributes})`\n",
    "\n",
    "The first argument is the name of the class,<br>\n",
    "The second is a tuple of base classes (use object if you are not inheriting from a specific class), and<br>\n",
    "The third is a dictionary of the class' attributes."
   ]
  },
  {
   "cell_type": "code",
   "execution_count": 26,
   "metadata": {},
   "outputs": [
    {
     "name": "stdout",
     "output_type": "stream",
     "text": [
      "Hello from f1()\n",
      "Hello from f2()\n",
      "red\n",
      "\n",
      "Hello from f1()\n",
      "red\n",
      "banana\n"
     ]
    }
   ],
   "source": [
    "def function_1(self):\n",
    "    print(\"Hello from f1()\")\n",
    "\n",
    "def function_2(self):\n",
    "    print(\"Hello from f2()\")\n",
    "\n",
    "NewClass = type(\"new_class\", (), {\n",
    "    'hello1': function_1,\n",
    "    'hello2': function_2,\n",
    "    'colour': 'red',\n",
    "    'state': 'Ohio'\n",
    "})\n",
    "\n",
    "n1 = NewClass()\n",
    "\n",
    "n1.hello1()\n",
    "n1.hello2()\n",
    "print(n1.colour)\n",
    "print()\n",
    "\n",
    "SubClass = type(\"sub_class\", (NewClass,), {'fruit': 'banana'})\n",
    "s1 = SubClass()\n",
    "s1.hello1()\n",
    "print(s1.colour)\n",
    "print(s1.fruit)"
   ]
  },
  {
   "cell_type": "markdown",
   "metadata": {},
   "source": [
    "## Monkey patching\n",
    "    - Modify exisiting class or object\n",
    "    - Useful for enabling/disabling behaviour\n",
    "    - Can cause problems\n",
    "\n",
    "*Monkey patching* refers to the technique of changing the behaviour of an object by adding, replacing, or deleting attributes from outside the object's class definition.\n",
    "\n",
    "It can be used for:\n",
    "* Replacing methods, attributes, or functions\n",
    "* Modifying a third-party object for which you do not have access\n",
    "* Adding behabiour to objects in memory\n",
    "\n",
    "If you are not careful when using monkey patches, some hard-to-debug problems can arise:\n",
    "* If the object being patched changes after a software upgrade, the monkey patch can fail in unexpected ways.\n",
    "* Conflicts may occur if two different modules monkey-patch the same object.\n",
    "* Users of a monkey-patched object may not realise which behavious is original and which comes from the monkey patch.\n",
    "\n",
    "Monkey patching defeats object encapsulation, and so should be used sparingly."
   ]
  },
  {
   "cell_type": "code",
   "execution_count": 27,
   "metadata": {},
   "outputs": [
    {
     "name": "stdout",
     "output_type": "stream",
     "text": [
      "Good morning, Mrs. Higgenbotham. Here are your delicious fried eggs.\n",
      "Hello, Mrs. Higgenbotham. Enjoy your scrambled eggs\n"
     ]
    }
   ],
   "source": [
    "class Spam():\n",
    "\n",
    "    def __init__(self, name):\n",
    "        self._name = name\n",
    "    \n",
    "    def eggs(self):\n",
    "        print(f\"Good morning, {self._name}. Here are your delicious fried eggs.\")\n",
    "\n",
    "s = Spam('Mrs. Higgenbotham')\n",
    "s.eggs()\n",
    "\n",
    "# we define a new function.\n",
    "def scrambled(self):\n",
    "    print(f'Hello, {self._name}. Enjoy your scrambled eggs')\n",
    "\n",
    "# we monkey patch over the old function 'eggs', with our new function 'scrambled'\n",
    "setattr(Spam, \"eggs\", scrambled)\n",
    "\n",
    "s.eggs()"
   ]
  }
 ],
 "metadata": {
  "interpreter": {
   "hash": "855ae122d4fcda6f141f92c8875720321028ea409d34d35b900b724463e5c1c0"
  },
  "kernelspec": {
   "display_name": "Python 3.10.0 64-bit",
   "language": "python",
   "name": "python3"
  },
  "language_info": {
   "codemirror_mode": {
    "name": "ipython",
    "version": 3
   },
   "file_extension": ".py",
   "mimetype": "text/x-python",
   "name": "python",
   "nbconvert_exporter": "python",
   "pygments_lexer": "ipython3",
   "version": "3.10.0"
  },
  "orig_nbformat": 4
 },
 "nbformat": 4,
 "nbformat_minor": 2
}