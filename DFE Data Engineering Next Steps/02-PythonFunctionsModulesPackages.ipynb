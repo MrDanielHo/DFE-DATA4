{
 "cells": [
  {
   "cell_type": "markdown",
   "metadata": {},
   "source": [
    "# Python Functions, Modules, and Packages\n",
    "## Functions\n",
    "\n",
    "     - Defined with ```def```\n",
    "     - Accepts parameters\n",
    "     - Return a value\n",
    "\n",
    "Functions are a way of isolating code that is needed in more than one place, refactoring code to make it more modular.<br>\n",
    "They are defined with the ```def``` statement.\n",
    "\n",
    "Functions can take various types of paramteres.<br>\n",
    "Parameters are dynamic.\n",
    "\n",
    "Functions can return one object of any type using the return statement.<br>\n",
    "If there is no return statement, the function returns ```None```."
   ]
  },
  {
   "cell_type": "code",
   "execution_count": 6,
   "metadata": {},
   "outputs": [
    {
     "name": "stdout",
     "output_type": "stream",
     "text": [
      "Hello, world!\n",
      "\n",
      "None <class 'NoneType'>\n"
     ]
    }
   ],
   "source": [
    "def Say_hello():\n",
    "    print('Hello, world!')\n",
    "    print()\n",
    "\n",
    "hello = Say_hello()\n",
    "\n",
    "print(f'{hello} {type(hello)}')\n"
   ]
  },
  {
   "cell_type": "code",
   "execution_count": 8,
   "metadata": {},
   "outputs": [
    {
     "name": "stdout",
     "output_type": "stream",
     "text": [
      "Hello, world! <class 'str'>\n"
     ]
    }
   ],
   "source": [
    "def get_hello():\n",
    "    return 'Hello, world!'\n",
    "\n",
    "hi = get_hello()\n",
    "print(f'{hi} {type(hi)}')"
   ]
  },
  {
   "cell_type": "code",
   "execution_count": 10,
   "metadata": {},
   "outputs": [
    {
     "name": "stdout",
     "output_type": "stream",
     "text": [
      "m is 35.128\n",
      "n is 1.414\n"
     ]
    }
   ],
   "source": [
    "def Square_root(num):\n",
    "    return num ** .5\n",
    "\n",
    "m = Square_root(1234)\n",
    "n = Square_root(2)\n",
    "\n",
    "print(f'''m is {m:.3f}\n",
    "n is {n:.3f}''')\n"
   ]
  },
  {
   "cell_type": "markdown",
   "metadata": {},
   "source": [
    "### Function parameters\n",
    "     - Positional or named\n",
    "     - Required of optional\n",
    "     - Can have default values\n",
    "\n",
    "Functions can accept both positional and named paramters.<br>\n",
    "Furthermore, parameters can be required or optional.<br>\n",
    "They must be specified in the order presented here.\n",
    "\n",
    "The first set of parameters, if any, is a set of comma-separated names.<br>\n",
    "These are all required.<br>\n",
    "Next you can specify a variable preceded by an asterisk - this will accept any optional parameters.\n",
    "\n",
    "After the optional positional parameters you can specify required named parameters.<br>\n",
    "These must come after the optional parameters.<br>\n",
    "If there are no optional parameters, you can use a plain asterisk as a placeholder.<br>\n",
    "Finally, you can specify a variable preceded by two asterisks to accept optional names parameters.\n",
    "\n",
    "```python\n",
    "#        positional  |\n",
    "#         required   |\n",
    "#            optional|\n",
    "def func(p1, p2, *p3, p4, p5, **p6)\n",
    "#                    | named\n",
    "#                    | required\n",
    "#                    |        optional\n",
    "```"
   ]
  },
  {
   "cell_type": "code",
   "execution_count": 11,
   "metadata": {},
   "outputs": [
    {
     "name": "stdout",
     "output_type": "stream",
     "text": [
      "Fun_one(): Hello, world!\n",
      "\n"
     ]
    }
   ],
   "source": [
    "def fun_one():\n",
    "    print(\"Hello, world!\")\n",
    "\n",
    "\n",
    "print(\"fun_one():\", end=' ')\n",
    "fun_one()\n",
    "print()"
   ]
  },
  {
   "cell_type": "code",
   "execution_count": 12,
   "metadata": {},
   "outputs": [
    {
     "ename": "TypeError",
     "evalue": "Fun_one() takes 0 positional arguments but 1 was given",
     "output_type": "error",
     "traceback": [
      "\u001b[1;31m---------------------------------------------------------------------------\u001b[0m",
      "\u001b[1;31mTypeError\u001b[0m                                 Traceback (most recent call last)",
      "\u001b[1;32mC:\\Users\\DANIEL~1\\AppData\\Local\\Temp/ipykernel_14404/1768411923.py\u001b[0m in \u001b[0;36m<module>\u001b[1;34m\u001b[0m\n\u001b[1;32m----> 1\u001b[1;33m \u001b[0mFun_one\u001b[0m\u001b[1;33m(\u001b[0m\u001b[1;34m'aaa'\u001b[0m\u001b[1;33m)\u001b[0m\u001b[1;33m\u001b[0m\u001b[1;33m\u001b[0m\u001b[0m\n\u001b[0m",
      "\u001b[1;31mTypeError\u001b[0m: Fun_one() takes 0 positional arguments but 1 was given"
     ]
    }
   ],
   "source": [
    "fun_one('aaa')"
   ]
  },
  {
   "cell_type": "code",
   "execution_count": 13,
   "metadata": {},
   "outputs": [
    {
     "name": "stdout",
     "output_type": "stream",
     "text": [
      "Fun_two(5) is 25\n",
      "\n"
     ]
    }
   ],
   "source": [
    "defun_two(n):\n",
    "    return n ** 2\n",
    "\n",
    "x =fun_two(5)\n",
    "print(f\"fun_two(5) is {x}\\n\")"
   ]
  },
  {
   "cell_type": "code",
   "execution_count": 15,
   "metadata": {},
   "outputs": [
    {
     "ename": "TypeError",
     "evalue": "Fun_two() missing 1 required positional argument: 'n'",
     "output_type": "error",
     "traceback": [
      "\u001b[1;31m---------------------------------------------------------------------------\u001b[0m",
      "\u001b[1;31mTypeError\u001b[0m                                 Traceback (most recent call last)",
      "\u001b[1;32mC:\\Users\\DANIEL~1\\AppData\\Local\\Temp/ipykernel_14404/4082859443.py\u001b[0m in \u001b[0;36m<module>\u001b[1;34m\u001b[0m\n\u001b[1;32m----> 1\u001b[1;33m \u001b[0my\u001b[0m \u001b[1;33m=\u001b[0m \u001b[0mFun_two\u001b[0m\u001b[1;33m(\u001b[0m\u001b[1;33m)\u001b[0m\u001b[1;33m\u001b[0m\u001b[1;33m\u001b[0m\u001b[0m\n\u001b[0m",
      "\u001b[1;31mTypeError\u001b[0m: Fun_two() missing 1 required positional argument: 'n'"
     ]
    }
   ],
   "source": [
    "y =fun_two()"
   ]
  },
  {
   "cell_type": "code",
   "execution_count": 16,
   "metadata": {},
   "outputs": [
    {
     "name": "stdout",
     "output_type": "stream",
     "text": [
      "spam spam spam "
     ]
    }
   ],
   "source": [
    "def fun_three(count=3):\n",
    "    for _ in range(count):\n",
    "        print(\"spam\", end=' ')\n",
    "fun_three()"
   ]
  },
  {
   "cell_type": "code",
   "execution_count": 17,
   "metadata": {},
   "outputs": [
    {
     "name": "stdout",
     "output_type": "stream",
     "text": [
      "spam spam spam spam spam spam spam spam spam spam "
     ]
    }
   ],
   "source": [
    "fun_three(10)"
   ]
  },
  {
   "cell_type": "code",
   "execution_count": 20,
   "metadata": {},
   "outputs": [
    {
     "name": "stdout",
     "output_type": "stream",
     "text": [
      "fun_four():\n",
      "n is  apple\n",
      "opt is  ()\n",
      "--------------------\n"
     ]
    }
   ],
   "source": [
    "def fun_four(n, *opt):\n",
    "    print(\"fun_four():\")\n",
    "    print(\"n is \", n)\n",
    "    print(\"opt is \", opt)\n",
    "    print('-' * 20)\n",
    "\n",
    "fun_four('apple')"
   ]
  },
  {
   "cell_type": "code",
   "execution_count": 21,
   "metadata": {},
   "outputs": [
    {
     "name": "stdout",
     "output_type": "stream",
     "text": [
      "fun_four():\n",
      "n is  apple\n",
      "opt is  ('blueberry', 'peach', 'pear')\n",
      "--------------------\n"
     ]
    }
   ],
   "source": [
    "fun_four('apple', 'blueberry', 'peach', 'pear')"
   ]
  },
  {
   "cell_type": "code",
   "execution_count": 28,
   "metadata": {},
   "outputs": [
    {
     "name": "stdout",
     "output_type": "stream",
     "text": [
      "Fun_five(): \n",
      "    spam is 1 \n",
      "    eggs is 2\n",
      "    \n",
      "Fun_five(): \n",
      "    spam is 1 \n",
      "    eggs is 2\n",
      "    \n",
      "Fun_five(): \n",
      "    spam is 1 \n",
      "    eggs is 0\n",
      "    \n",
      "Fun_five(): \n",
      "    spam is 0 \n",
      "    eggs is 2\n",
      "    \n",
      "Fun_five(): \n",
      "    spam is 0 \n",
      "    eggs is 0\n",
      "    \n"
     ]
    }
   ],
   "source": [
    "def fun_five(*, spam=0, eggs=0):\n",
    "    print(f\"\"\"fun_five(): \n",
    "    spam is {spam} \n",
    "    eggs is {eggs}\n",
    "    \"\"\")\n",
    "\n",
    "fun_five(spam=1, eggs=2)\n",
    "fun_five(eggs=2, spam=1)\n",
    "fun_five(spam=1)\n",
    "fun_five(eggs=2)\n",
    "fun_five()"
   ]
  },
  {
   "cell_type": "code",
   "execution_count": 29,
   "metadata": {},
   "outputs": [
    {
     "name": "stdout",
     "output_type": "stream",
     "text": [
      "Fun_six():\n",
      "name ==> lancelot\n",
      "quest ==> grail\n",
      "colour ==> red\n"
     ]
    }
   ],
   "source": [
    "def fun_six(**named_args):\n",
    "    print(\"fun_six():\")\n",
    "    for name in named_args:\n",
    "        print(f'{name} ==> {named_args[name]}')\n",
    "\n",
    "fun_six(name='lancelot', quest='grail', colour ='red')"
   ]
  },
  {
   "cell_type": "code",
   "execution_count": 31,
   "metadata": {},
   "outputs": [
    {
     "name": "stdout",
     "output_type": "stream",
     "text": [
      "{'name': 'lancelot', 'quest': 'grail', 'colour': 'red'}\n",
      "    <class 'dict'>\n",
      "    \n"
     ]
    }
   ],
   "source": [
    "def fun_6(**named_args):\n",
    "    print(f'''{named_args}\n",
    "    {type(named_args)}''')\n",
    "\n",
    "fun_6(name='lancelot', quest='grail', colour ='red')"
   ]
  },
  {
   "cell_type": "markdown",
   "metadata": {},
   "source": [
    "## Default Parameters\n",
    "     - Assigned with equals sign\n",
    "     - Used if no values passed to function\n",
    "\n",
    "Required parameters can have default values.<br>\n",
    "They are assigned to parameters with the equals sign.<br>\n",
    "Parameters without defaults cannot be specified after parameters with defaults."
   ]
  },
  {
   "cell_type": "code",
   "execution_count": 32,
   "metadata": {},
   "outputs": [
    {
     "name": "stdout",
     "output_type": "stream",
     "text": [
      "Hello, world\n",
      "Hello, Mom\n"
     ]
    }
   ],
   "source": [
    "def spam(greeting, whom= 'world'):\n",
    "    print(f'{greeting}, {whom}')\n",
    "\n",
    "spam(\"Hello\")\n",
    "spam(\"Hello\", \"Mom\")"
   ]
  },
  {
   "cell_type": "code",
   "execution_count": 33,
   "metadata": {},
   "outputs": [
    {
     "name": "stdout",
     "output_type": "stream",
     "text": [
      "Processing eggs as txt\n",
      "Processing toast as csv\n"
     ]
    }
   ],
   "source": [
    "def ham(*, file_name, file_format= 'txt'):\n",
    "    print(f\"Processing {file_name} as {file_format}\")\n",
    "\n",
    "ham(file_name= 'eggs')\n",
    "ham(file_name= 'toast', file_format= 'csv')"
   ]
  },
  {
   "cell_type": "code",
   "execution_count": 34,
   "metadata": {},
   "outputs": [
    {
     "ename": "TypeError",
     "evalue": "Ham() takes 0 positional arguments but 2 were given",
     "output_type": "error",
     "traceback": [
      "\u001b[1;31m---------------------------------------------------------------------------\u001b[0m",
      "\u001b[1;31mTypeError\u001b[0m                                 Traceback (most recent call last)",
      "\u001b[1;32mC:\\Users\\DANIEL~1\\AppData\\Local\\Temp/ipykernel_14404/2443515306.py\u001b[0m in \u001b[0;36m<module>\u001b[1;34m\u001b[0m\n\u001b[1;32m----> 1\u001b[1;33m \u001b[0mHam\u001b[0m\u001b[1;33m(\u001b[0m\u001b[1;34m'toast'\u001b[0m\u001b[1;33m,\u001b[0m \u001b[1;34m'csv'\u001b[0m\u001b[1;33m)\u001b[0m\u001b[1;33m\u001b[0m\u001b[1;33m\u001b[0m\u001b[0m\n\u001b[0m",
      "\u001b[1;31mTypeError\u001b[0m: Ham() takes 0 positional arguments but 2 were given"
     ]
    }
   ],
   "source": [
    "'''\n",
    "The position of the astericks means there are no positional arguments, only named ones.\n",
    "Therefore, the function requires\n",
    "    file_name= 'str'\n",
    "when calling the function.\n",
    "'''\n",
    "ham('toast', 'csv')"
   ]
  },
  {
   "cell_type": "markdown",
   "metadata": {},
   "source": [
    "## Name resolution (Scope)\n",
    "    - What is \"scope\"\n",
    "    - Scopes used dynamically\n",
    "    - Four levels of scope\n",
    "    - Assignments always go into the innermost scope (starting with local)\n",
    "\n",
    "A scope is the area of a Python program where an unqualified (not preceded by a module name) can be looked up.\n",
    "\n",
    "Scopes are used dynamically.<br>\n",
    "There are four nested scopes that are searched for names in the following order:\n",
    "\n",
    "Scope | Desciption\n",
    ":-:|:--\n",
    "local | local names bound within a function\n",
    "nonlocal | local names plus local names of outer functions(s)\n",
    "global | the current module's global names\n",
    "builtin | built-in functions (contents of _builtins_module)\n",
    "\n",
    "Within a function, all assignments and declarations create local names.<br>\n",
    "All variables found outside of local scoupe (that is, outside of the function) are read-only.\n",
    "\n",
    "Inside functions, local scope references the local names of the current function.<br>\n",
    "Outside functions, local scope is the same as the global scope - the module's namespace.<br>\n",
    "Class definitions also create a local scope.\n",
    "\n",
    "Nested functions provide another scope.<br>\n",
    "Code in function B which is defined inside function A has read-only access to all of A's variables.<br>\n",
    "This is called nonlocal scope."
   ]
  },
  {
   "cell_type": "code",
   "execution_count": 36,
   "metadata": {},
   "outputs": [
    {
     "name": "stdout",
     "output_type": "stream",
     "text": [
      "Function b(): z is 32 \n",
      "Function b(): y is 5 \n",
      "Function b(): x is 42 \n",
      "Function b(): type(x) is <class 'int'> \n",
      "\n"
     ]
    }
   ],
   "source": [
    "x = 42\n",
    "\n",
    "def function_a():\n",
    "    y = 5\n",
    "\n",
    "    def function_b():\n",
    "        z = 32\n",
    "        print(f\"\"\"Function b(): z is {z} \\nFunction b(): y is {y} \\nFunction b(): x is {x} \\nFunction b(): type(x) is {type(x)} \\n\"\"\")\n",
    "    return function_b\n",
    "\n",
    "f = function_a()\n",
    "f()"
   ]
  },
  {
   "cell_type": "markdown",
   "metadata": {},
   "source": [
    "## Modules\n",
    "     - Files containing Python code\n",
    "     - End with .py\n",
    "     - No real difference from scripts\n",
    "\n",
    "A module is a file containing Python definitions and statements.<br>\n",
    "The file name is the module name with the suffix .py appended.<br>\n",
    "Within a module, the module's name (as a string) is avaiable as the value of the global variable name.\n",
    "\n",
    "To use a module named spam.py, enter <code>import spam</code>\n",
    "\n",
    "This does not enter the names ofthe functions defined in spam directly into the symbol table; it only adds the module name spam.<br>\n",
    "Use the module name to access the functions or other attributes.\n",
    "\n",
    "Python uses modules to contain functions that can be loaded as needed by scripts.<br>\n",
    "A simple module contains one or more functions; more complex modules can contain initialisation code as well.<br>\n",
    "Python classes are also implemented as modules.\n",
    "\n",
    "A module is only loaded once, even if there are multiple places in an application that import it.\n",
    "\n",
    "Modules and packages should be documented with docstrings.\n",
    "\n",
    "Import statement loads modules.<br>\n",
    "There are three variations:\n",
    "- `import module`\n",
    "     - loads the module so its data and functions can be used, but does not put its attributes (names of classes, functions, variables) into the current namespace.\n",
    "- `from module import function` list\n",
    "     - imports only the function(s) specified into the current namespace. Other functions are not available (even though they are loaded into memory).\n",
    "- `from module import *` use with caution!\n",
    "     - loads the module, and imports all functions that do not start with an underscore into the current namespace. This should be used with caution, as it can pollute the current namespace and possibly override builtin attributes or attributes from a different module."
   ]
  },
  {
   "cell_type": "markdown",
   "metadata": {},
   "source": [
    "### How import * can be dangerous\n",
    "     - Imported names may overwrite existing names\n",
    "     - Be careful to read the documentation\n",
    "\n",
    "Using import * to import all public names from a module has a bit of a risk.<br>\n",
    "While generally harmless, there is the chance that you will unknowningly import a module that overwrites some previously-imported module.\n",
    "\n",
    "To be 100% certain, always import the entire module, or else import names explicitly.\n",
    "\n",
    "See 02-module_examples:\n",
    "\n",
    " 1. `samplelib[1-4].py`\n",
    " 2. `electrical.py, navigation.py, why_import_astricks_is_bad.py`"
   ]
  },
  {
   "cell_type": "markdown",
   "metadata": {},
   "source": [
    "## Module search path\n",
    "     - Searches current folder first, then predefined locations\n",
    "     - Add custom locations to PYTHONPATH\n",
    "     - Paths stored in sys.path\n",
    "\n",
    "When you specify a module to load with the import statement, it first looks in the current directory, and then searches the directuions listed in sys.path.\n",
    "\n",
    "```\n",
    ">>> import sys\n",
    ">>> sys.path\n",
    "```\n",
    "\n",
    "To add locations, put one or more directories to search in the PYTHONPATH environment variable.<br>\n",
    "Separate multiple paths by semicolons for Windows, or colons for Unix/Linux.<br>\n",
    "This will add them to sys.path, after the current folder, but before the predefined locations.\n",
    "\n",
    "Example: `main.py`"
   ]
  },
  {
   "cell_type": "markdown",
   "metadata": {},
   "source": [
    "## Executing modules as scripts\n",
    "     - _name_ is current module\n",
    "          - set to __main__ if run as script\n",
    "          - set to module_name if imported\n",
    "     - test with if name == \"__main__\"\n",
    "     - Module can be run directly or imported\n",
    "\n",
    "It is sometimes convenient to have a module also be a runnable script.<br>\n",
    "This is handy for testing and debugging, and for providing modules that also can be used as standalone utilities.\n",
    "\n",
    "Since the interpreter defines its own name as `__main__`, you can test the current namespace's name attribute.<br>\n",
    "It it is `__main__`, then you are at the main (top) level of the interpreter, and your file is being run as a script; it was not loaded as a module.\n",
    "\n",
    "Any code in a module that is not contained in function or method is executed when the module is imported.\n",
    "\n",
    "This can include data assignments and other startup tasks, for example connecting to a database or opening a file.\n",
    "\n",
    "Many modules do not need any initialisation code."
   ]
  },
  {
   "cell_type": "markdown",
   "metadata": {},
   "source": [
    "## Packages\n",
    "     - Package is folder containing modules or packages\n",
    "     - Startup code foes in __init__.py (optional)\n",
    "\n",
    "A package is a group of related modules or subpackages.<br>\n",
    "The grouping is physical - a package is a fodler that contains one or more modules.<br>\n",
    "It is a way of giving hierarchical structure to the module namespace so that all modules do not live in the same folder.\n",
    "\n",
    "A package may have an initialisation script names `__init__.py`.<br>\n",
    "If present, this script is executed when the package or any of its contents are loaded.<br>\n",
    "(In Python 2, `__init__.py` was required.)\n",
    "\n",
    "Modules in packages are accessed by prefixing the module with the package name, using the dot notation used to access module attributes.\n",
    "\n",
    "Thus, if Module `eggs` is in package `spam`, to call the `scramble()` function in `eggs`, you would use `spam.eggs.scramble()`.\n",
    "\n",
    "By default, importing a package name by itself has no effect; you must explicitly load the modules in the package.<br>\n",
    "You should ususally import the module using its package name, `from spam import eggs`, to import the eggs module form the spam package.\n",
    "\n",
    "Packages can be nested.\n",
    "\n",
    "### Example\n",
    "\n",
    "```\n",
    "sound/                        Top level package\n",
    "     __init__.py              Initialise the sound package (optional)\n",
    "\n",
    "     formats/                 Subpackage for file formats\n",
    "          __init__.py              Initialise the formats package (optional)\n",
    "          wavread.py\n",
    "          wavwrite.py\n",
    "          aiffread.py\n",
    "          aiffwrite.py\n",
    "          auread.py\n",
    "          auwrite.py\n",
    "          ...\n",
    "     \n",
    "     effects/                 Subpackage for sound effects\n",
    "          __init__.py              Initialise the effects package (optional)\n",
    "          echo.py\n",
    "          surround.py\n",
    "          reverse.py\n",
    "          ...\n",
    "     \n",
    "     filters/                 Subpackage for sound filters\n",
    "          __init__.py              Initialise the filters pakcage (optional)\n",
    "          equalizer.py\n",
    "\n",
    "from sound.formats import aiffread\n",
    "import sound.effects\n",
    "import sound.filters.equalizer\n",
    "```"
   ]
  },
  {
   "cell_type": "markdown",
   "metadata": {},
   "source": [
    "## Configuring import with `__init__.py`\n",
    "      - load modules into package's namespace\n",
    "      - specify modules to load when * is used\n",
    "\n",
    "For convenience, you can put import statement in a package's `__init__.py` to autoload the modules into the package namespace, so that import PKG imports all the (or just selected) modules in the package.\n",
    "\n",
    "`__init__.py` can also be used to setup data or other resources that will be used by multiple modules within a package.\n",
    "\n",
    "If the variable `_all_` in `__init__.py` is set to a list of module names, then only these modules will be loaded when the imort is `from PKG import *`\n",
    "\n",
    "Given the following package and module layout, the table below describes how `__init__.py`\n",
    "\n",
    "```\n",
    "|------__init___.py\n",
    " |------module_a.py\n",
    "          function_a()\n",
    " |------module_b.py\n",
    "          function_b()\n",
    " |------module_c.py\n",
    "          function_c()\n",
    "```\n",
    "\n",
    "Import statement | What it does\n",
    ":- | :-\n",
    "if `__init__.py` is empty | \n",
    "`import my_package` | Imports `my_package` only, but not contents. <br>No modules are imported. This is not useful.\n",
    "`import my_package.module_a` | Imports **module_a** into **my package** namespace. <br>Objects in `module_a` must be prefixed with `my_package.module_a`\n",
    "`from my_package import module_a` | Imports `module_a` into main namespace. <br>Objects in `module_a` must be prefixed with `module_a`\n",
    "`from my_package import module_a, mobule_b` | Imports `module_a` and `module_b` into main namespace.\n",
    "`from my_package import *` | Does not import anything.\n",
    "`from my_package.module_a import *` | Imports all contents of `module_a` (that do not start with an underscore) into main namespace. <br>Not generally recommended.\n",
    " | \n",
    "if `__init__.py` contains:<br>  `all = ['module_a', 'module_b']` |\n",
    "`import my_package` | Imports `my_package` only, but not contents. <br>No modules are imported. This is still not useful.\n",
    "`from my_package import module_a` | As before, imports `module_a` into main namespace. <br>Objects in `module_a` must be prefixed with `module_a`\n",
    "`from my_package import *` | Imports `module_a` and `module_b`, but not `module_c` into namespace.\n",
    " | \n",
    " if `__init__.py` contains:<br>`all = ['module_a', 'moduel_b'] import module_a`<br>`import module_b` | \n",
    " `import my_package` | Imports `module_a` and `module_b` into the `my_package` namespace.<br>Objects in `module_a` must be prefixed with `my_package.module_a`.<br>*Now this is useful!*\n",
    " `import my_package.module_a` | Imports `module_a` into main namespace.<br>Objects in `module_a` must be prefixed with `module_a`\n",
    " `from my_package import *` | Only imports `module_a` and `module_b` into main namespace.\n",
    " `from my_package import module_c`| Imports `module_c` into main namespace."
   ]
  },
  {
   "cell_type": "markdown",
   "metadata": {},
   "source": [
    "## Documenting modules and packages\n",
    "     - Use docstrings\n",
    "     - Described in PEP 257\n",
    "     - Generate docs with Sphinx (optional)\n",
    "    \n",
    "In addition to comments, which are for maintainer of your code, you should add docstrings, which provide docum,entation for the user of your code.\n",
    "\n",
    "If the first statement in a module, function, or class is an unassigned string, it is assigned as the docstring of that object.<br>\n",
    "It is stored in the special attribute `_doc_`, and so is available to code.\n",
    "\n",
    "The docstring can use any form of literael string, but triple double quotes are preferred for consistency.\n",
    "\n",
    "See PEP 257 for a detailed guide on docstring conventions.\n",
    "\n",
    "tools such as pydoc, and many IDEs will use the information in dostrings.<br>\n",
    "In addition, the Sphinx tool will gather docstrings from an entire project and format them as a single HTML, PDF, or EPUB document."
   ]
  }
 ],
 "metadata": {
  "interpreter": {
   "hash": "855ae122d4fcda6f141f92c8875720321028ea409d34d35b900b724463e5c1c0"
  },
  "kernelspec": {
   "display_name": "Python 3.10.0 64-bit",
   "language": "python",
   "name": "python3"
  },
  "language_info": {
   "codemirror_mode": {
    "name": "ipython",
    "version": 3
   },
   "file_extension": ".py",
   "mimetype": "text/x-python",
   "name": "python",
   "nbconvert_exporter": "python",
   "pygments_lexer": "ipython3",
   "version": "3.10.0"
  },
  "orig_nbformat": 4
 },
 "nbformat": 4,
 "nbformat_minor": 2
}
