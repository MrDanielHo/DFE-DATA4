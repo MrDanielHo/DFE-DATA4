{
 "cells": [
  {
   "cell_type": "markdown",
   "metadata": {},
   "source": [
    "# Pythonic Programming\n",
    "[Python Enhancement Proposal (PEP) 20](https://www.python.org/dev/peps/pep-0020/) is considered the Zen of Python.<br>\n",
    "The mantra is as follows:"
   ]
  },
  {
   "cell_type": "code",
   "execution_count": 3,
   "metadata": {},
   "outputs": [
    {
     "name": "stdout",
     "output_type": "stream",
     "text": [
      "The Zen of Python, by Tim Peters\n",
      "\n",
      "Beautiful is better than ugly.\n",
      "Explicit is better than implicit.\n",
      "Simple is better than complex.\n",
      "Complex is better than complicated.\n",
      "Flat is better than nested.\n",
      "Sparse is better than dense.\n",
      "Readability counts.\n",
      "Special cases aren't special enough to break the rules.\n",
      "Although practicality beats purity.\n",
      "Errors should never pass silently.\n",
      "Unless explicitly silenced.\n",
      "In the face of ambiguity, refuse the temptation to guess.\n",
      "There should be one-- and preferably only one --obvious way to do it.\n",
      "Although that way may not be obvious at first unless you're Dutch.\n",
      "Now is better than never.\n",
      "Although never is often better than *right* now.\n",
      "If the implementation is hard to explain, it's a bad idea.\n",
      "If the implementation is easy to explain, it may be a good idea.\n",
      "Namespaces are one honking great idea -- let's do more of those!\n"
     ]
    }
   ],
   "source": [
    "import this"
   ]
  },
  {
   "cell_type": "code",
   "execution_count": 1,
   "metadata": {},
   "outputs": [
    {
     "name": "stdout",
     "output_type": "stream",
     "text": [
      "[1, 4, 9, 16, 25, 36, 49, 64, 81, 100]\n"
     ]
    }
   ],
   "source": [
    "numbers = [1,2,3,4,5,6,7,8,9,10]\n",
    "for i in range(0, len(numbers)):\n",
    "    squared = numbers[i] * numbers[i]\n",
    "    numbers[i] = squared\n",
    "numbers"
   ]
  },
  {
   "cell_type": "code",
   "execution_count": 2,
   "metadata": {},
   "outputs": [
    {
     "data": {
      "text/plain": [
       "[1, 4, 9, 16, 25, 36, 49, 64, 81, 100]"
      ]
     },
     "execution_count": 2,
     "metadata": {},
     "output_type": "execute_result"
    }
   ],
   "source": [
    "numbers = [1,2,3,4,5,6,7,8,9,10]\n",
    "numbers = [x**2 for x in numbers]\n",
    "numbers\n"
   ]
  },
  {
   "cell_type": "markdown",
   "metadata": {},
   "source": [
    "## Tuples / Lists / Dictionaries\n",
    "\n",
    "* A tuple is a collection of related values. May appear as a immutable (read-only) list, it is used to pass multiple values to/from a function. Values do not be the same type.\n",
    "* Tuples are created using comma-separated list of objects. \n",
    "    * Parentheses are not needed unless the tuple is nested inside a larger data structure.\n",
    "* A tuple in Python might be represented by a struct of a 'record' in other languages.\n",
    "* While both tuples and lists can be used for any data:\n",
    "    * Use a list when you have a collection of similar objects,\n",
    "    * Use a tuple when you have a collection of related objects, which may or may not be similar."
   ]
  },
  {
   "cell_type": "code",
   "execution_count": 6,
   "metadata": {},
   "outputs": [
    {
     "data": {
      "text/plain": [
       "tuple"
      ]
     },
     "execution_count": 6,
     "metadata": {},
     "output_type": "execute_result"
    }
   ],
   "source": [
    "person = ('Jeremy', 'Cook', 40)\n",
    "type(person)"
   ]
  },
  {
   "cell_type": "code",
   "execution_count": 7,
   "metadata": {},
   "outputs": [
    {
     "data": {
      "text/plain": [
       "tuple"
      ]
     },
     "execution_count": 7,
     "metadata": {},
     "output_type": "execute_result"
    }
   ],
   "source": [
    "person = 'Jeremy', 'Cook', 40\n",
    "type(person)"
   ]
  },
  {
   "cell_type": "code",
   "execution_count": 8,
   "metadata": {},
   "outputs": [
    {
     "data": {
      "text/plain": [
       "list"
      ]
     },
     "execution_count": 8,
     "metadata": {},
     "output_type": "execute_result"
    }
   ],
   "source": [
    "cars = ['ford', 'toyota', 'ferrari']\n",
    "type(cars)"
   ]
  },
  {
   "cell_type": "code",
   "execution_count": 9,
   "metadata": {},
   "outputs": [
    {
     "data": {
      "text/plain": [
       "dict"
      ]
     },
     "execution_count": 9,
     "metadata": {},
     "output_type": "execute_result"
    }
   ],
   "source": [
    "developer = {\n",
    "    'name': 'Jeremy',\n",
    "    'surname': 'Cook',\n",
    "    'age': '20'\n",
    "}\n",
    "type(developer)"
   ]
  },
  {
   "cell_type": "markdown",
   "metadata": {},
   "source": [
    "## Iterable Unpacking\n",
    "\n",
    "When you have an iterable such as a tuple or list, you access individual elements by index.<br>\n",
    "However, spam[0] and spam[1] are not readable compared to first_name and company.<br>\n",
    "To copy an iterable to a list of variable names, just assign the iterable to a comma-seperated list of names.<br>\n",
    "```python\n",
    "birthday = ( 'April',5,1978 )\n",
    "month, day, year = birthday\n",
    "```\n",
    "You may be thinking \"why not just assign to the vaiables in the first place?\".<br>\n",
    "For a single tuple or list, this would be true.<br>\n",
    "The power of unpacking comes in the following areas:<br>\n",
    " - Looping over a sequence of tuples\n",
    " - Passing tuples (or other iterables) into a function."
   ]
  },
  {
   "cell_type": "code",
   "execution_count": 10,
   "metadata": {},
   "outputs": [
    {
     "name": "stdout",
     "output_type": "stream",
     "text": [
      "My birthday is April 5 1978\n"
     ]
    }
   ],
   "source": [
    "birthday = ( 'April',5,1978 )\n",
    "month, day, year = birthday\n",
    "\n",
    "print(f'My birthday is {month} {day} {year}')"
   ]
  },
  {
   "cell_type": "code",
   "execution_count": 16,
   "metadata": {},
   "outputs": [
    {
     "name": "stdout",
     "output_type": "stream",
     "text": [
      "Melinda Gates\n",
      "Steve Jobs\n",
      "Larry Wall\n",
      "Paul Allen\n",
      "Larry Ellison\n",
      "Bill Gates\n",
      "Mark Zuckerburg\n",
      "Surgey Brin\n",
      "Larry Page\n",
      "Linus Torvalds\n"
     ]
    }
   ],
   "source": [
    "people = [\n",
    "    ('Melinda', 'Gates', 'Gates Foundation'),\n",
    "    ('Steve', 'Jobs', 'Apple'),\n",
    "    ('Larry', 'Wall', 'Perl'),\n",
    "    ('Paul', 'Allen', 'Microsoft'),\n",
    "    ('Larry', 'Ellison', 'Oracle'),\n",
    "    ('Bill', 'Gates', 'Gates Foundation'),\n",
    "    ('Mark', 'Zuckerburg', 'Facebook'),\n",
    "    ('Surgey', 'Brin', 'Google'),\n",
    "    ('Larry' ,'Page', 'Google'),\n",
    "    ('Linus', 'Torvalds', 'Linux')\n",
    "]\n",
    "\n",
    "type(people)\n",
    "type(people[0])\n",
    "type(people[0][0])\n",
    "\n",
    "for first_name, last_name, org in people:\n",
    "    print(f'{first_name} {last_name}')"
   ]
  },
  {
   "cell_type": "markdown",
   "metadata": {},
   "source": [
    "## Unpacking Function Argurments\n",
    "     - Go from iterable to list of items\n",
    "     - Use * or **\n",
    "\n",
    "Sometimes you need the other end of iterable unpacking.<br>\n",
    "What do you do if you have a list of three values, and you want to pass them to a method that expects three positional arguements?<br>\n",
    "One approach is to use the individual items by index.<br>\n",
    "A more Pythonic approach is to use * to unpack the iterable into individual items:<br>\n",
    "* Use a single asterisk to unpakc a list of tuple (or similar iterable); use two asterisks to unpack a dictionary or similar.<br>\n",
    "* In the example, see how the list HEADINGS is passed to .format(), which expects individual parameters, not one parameter containing multiple values."
   ]
  },
  {
   "cell_type": "code",
   "execution_count": 17,
   "metadata": {},
   "outputs": [
    {
     "name": "stdout",
     "output_type": "stream",
     "text": [
      "Joe Schmoe lives in Burbank,\n",
      "Mary Rattburger lives in Madison,\n",
      "Jose Ramirez lives in Ames,\n"
     ]
    }
   ],
   "source": [
    "people = [\n",
    "    ('Joe', 'Schmoe', 'Burbank', 'CA'),\n",
    "    ('Mary', 'Rattburger', 'Madison', 'WI'),\n",
    "    ('Jose', 'Ramirez', 'Ames', 'IA'),\n",
    "]\n",
    "\n",
    "def person_record(first_name, last_name, city, state):\n",
    "    print(f'{first_name} {last_name} lives in {city},')\n",
    "\n",
    "for person in people:\n",
    "    person_record(*person)\n"
   ]
  },
  {
   "cell_type": "markdown",
   "metadata": {},
   "source": [
    "## The sorted() Function\n",
    "\n",
    " - Returns a sorted copy of any collection\n",
    " - Customise with named keyword parameters:\n",
    "    - key=\n",
    "    - reverse=\n",
    "\n",
    "* The sorted() builtin function returns a sorted copy of its arguement, which can be any iterable\n",
    "* You can customise sorted with the key parameter."
   ]
  },
  {
   "cell_type": "code",
   "execution_count": 2,
   "metadata": {},
   "outputs": [
    {
     "data": {
      "text/plain": [
       "['Apple',\n",
       " 'BLUEBERRY',\n",
       " 'FIG',\n",
       " 'Kiwi',\n",
       " 'ORANGE',\n",
       " 'TANGERINE',\n",
       " 'Tamarind',\n",
       " 'Watermelon',\n",
       " 'apricot',\n",
       " 'banana',\n",
       " 'cherry',\n",
       " 'date',\n",
       " 'elderberry',\n",
       " 'guava',\n",
       " 'lemon',\n",
       " 'lime',\n",
       " 'lychee',\n",
       " 'papaya',\n",
       " 'peach',\n",
       " 'pear',\n",
       " 'persimmon',\n",
       " 'pomegranate']"
      ]
     },
     "execution_count": 2,
     "metadata": {},
     "output_type": "execute_result"
    }
   ],
   "source": [
    "'''\n",
    "Basic sorting example\n",
    "\n",
    "Look at ordering between TANGERINE and Tamarind\n",
    "'''\n",
    "\n",
    "fruit = [\"pomegranate\", \"cherry\", \"apricot\", \"date\", \"Apple\", \"lemon\", \"Kiwi\", \"ORANGE\", \"lime\", \"Watermelon\", \"guava\", \"papaya\", \"FIG\", \"pear\", \"banana\", \"Tamarind\", \"persimmon\", \"elderberry\", \"peach\", \"BLUEBERRY\", \"lychee\", \"TANGERINE\"]\n",
    "\n",
    "sorted_fruit = sorted(fruit)\n",
    "\n",
    "sorted_fruit"
   ]
  },
  {
   "cell_type": "markdown",
   "metadata": {},
   "source": [
    "### Custom sort keys\n",
    "        - Use key parameter\n",
    "        - Specify name of function to use\n",
    "        - Key function takes exactly one parameter\n",
    "        - Useful for case-insensitive sorting, sorting by external data, etc.\n",
    "\n",
    "* You can specify a function with the key parameter of the sorted() function. This function will be used once for each element of the list being sorted, to provide the comparison value. Thus you can sort a list of strings case-insensitively, or sort a list of zip codes by the number of Starbucks within the zip code.\n",
    "* The function must take exactly one parameter (which is one element of the sequence being sorted) and return either a single value or a tuple of values. The returned values will be compared in order.\n",
    "* You can use any builtin Python function or method that meets these requirements, or you can write your own function.\n",
    "* Tip: The lower() method can be called directly from the builtin object str. It takes one string argument and returns a lower case copy:\n",
    "\n",
    "<code>python\n",
    "sorted_strings = sorted(unsorted_strings, key = str.lower)\n",
    "</code>"
   ]
  },
  {
   "cell_type": "code",
   "execution_count": 5,
   "metadata": {},
   "outputs": [
    {
     "name": "stdout",
     "output_type": "stream",
     "text": [
      "Ignoring case:\n",
      "Apple, apricot, banana, BLUEBERRY, cherry, date, elderberry, FIG, guava, Kiwi, lemon, lime, lychee, ORANGE, papaya, peach, pear, persimmon, pomegranate, Tamarind, TANGERINE, Watermelon\n",
      "\n"
     ]
    }
   ],
   "source": [
    "fruit = [\"pomegranate\", \"cherry\", \"apricot\", \"date\", \"Apple\", \"lemon\", \"Kiwi\", \"ORANGE\", \"lime\", \"Watermelon\", \"guava\", \"papaya\", \"FIG\", \"pear\", \"banana\", \"Tamarind\", \"persimmon\", \"elderberry\", \"peach\", \"BLUEBERRY\", \"lychee\", \"TANGERINE\"]\n",
    "\n",
    "def Ignore_case(item):\n",
    "    return item.lower()\n",
    "\n",
    "sorted_fruit2 = sorted(fruit, key= Ignore_case)\n",
    "print(f'''Ignoring case:\n",
    "{\", \".join(sorted_fruit2)}\n",
    "''')"
   ]
  },
  {
   "cell_type": "code",
   "execution_count": 6,
   "metadata": {},
   "outputs": [
    {
     "name": "stdout",
     "output_type": "stream",
     "text": [
      "By length, then by name:\n",
      "FIG, date, Kiwi, lime, pear, Apple, guava, lemon, peach, banana, cherry, lychee, ORANGE, papaya, apricot, Tamarind, BLUEBERRY, persimmon, TANGERINE, elderberry, Watermelon, pomegranate\n",
      "\n"
     ]
    }
   ],
   "source": [
    "def By_length_then_name(item):\n",
    "    return (len(item), item.lower())\n",
    "\n",
    "sorted_fruit3 = sorted(fruit, key= By_length_then_name)\n",
    "print(f'''By length, then by name:\n",
    "{\", \".join(sorted_fruit3)}\n",
    "''')"
   ]
  },
  {
   "cell_type": "code",
   "execution_count": 11,
   "metadata": {},
   "outputs": [
    {
     "data": {
      "text/plain": [
       "[5, 32, 80, 255, 400, 800, 1000, 5000]"
      ]
     },
     "execution_count": 11,
     "metadata": {},
     "output_type": "execute_result"
    }
   ],
   "source": [
    "'''\n",
    "Sorting numbers by their integer value\n",
    "'''\n",
    "nums = [800, 80, 1000, 32, 255, 400, 5, 5000]\n",
    "n1 = sorted(nums)\n",
    "n1"
   ]
  },
  {
   "cell_type": "code",
   "execution_count": 10,
   "metadata": {},
   "outputs": [
    {
     "data": {
      "text/plain": [
       "[1000, 255, 32, 400, 5, 5000, 80, 800]"
      ]
     },
     "execution_count": 10,
     "metadata": {},
     "output_type": "execute_result"
    }
   ],
   "source": [
    "'''\n",
    "Sorting numbers by their string value.\n",
    "i.e. 1, 10, 100, etc. comes before 2, 20, 200, etc.\n",
    "'''\n",
    "n2 = sorted(nums, key= str)\n",
    "n2"
   ]
  },
  {
   "cell_type": "code",
   "execution_count": 14,
   "metadata": {},
   "outputs": [
    {
     "name": "stdout",
     "output_type": "stream",
     "text": [
      "The Adventures of Sherlock Holmes\n",
      "The Case-Book of Sherlock Holmes\n",
      "His Last Bow\n",
      "The Hound of the Baskervilles\n",
      "The Memoirs of Sherlock Holmes\n",
      "The Return of Sherlock Holmes\n",
      "The Sign of the Four\n",
      "A Study in Scarlet\n",
      "The Valley of Fear\n"
     ]
    }
   ],
   "source": [
    "'''\n",
    "1. compile RegEx to match leading articles\n",
    "2. create function which takes elements to compare and returns comparison key\n",
    "3. strip off article and convert title to lower case\n",
    "4. sort using custom function\n",
    "'''\n",
    "import re\n",
    "regex_Article = re.compile(r'^(the|a|an)\\s+', re.I)\n",
    "def Strip_articles(title):\n",
    "    stripped_title = regex_Article.sub('', title.lower())\n",
    "    return stripped_title\n",
    "\n",
    "rebooks = [\n",
    "    \"A Study in Scarlet\",\n",
    "    \"The Sign of the Four\",\n",
    "    \"The Hound of the Baskervilles\",\n",
    "    \"The Valley of Fear\",\n",
    "    \"The Adventures of Sherlock Holmes\",\n",
    "    \"The Memoirs of Sherlock Holmes\",\n",
    "    \"The Return of Sherlock Holmes\",\n",
    "    \"His Last Bow\",\n",
    "    \"The Case-Book of Sherlock Holmes\"\n",
    "]\n",
    "\n",
    "for book in sorted(rebooks, key= Strip_articles):\n",
    "    print(book)"
   ]
  },
  {
   "cell_type": "markdown",
   "metadata": {},
   "source": [
    "## Lambda Functions\n",
    "    - Short cut functions definition\n",
    "    - Useful for functions only used in one place\n",
    "    - Frequently passed as parameter to other functions\n",
    "    - Function body is an expression; it cannot contain other code\n",
    "\n",
    "A lambda function is a brief function definition that makes it easy to create a function on the fly.<br>\n",
    "This can be useful for passing functions into other fucntions, to be called later.<br>\n",
    "Functions passed in this way are referred to as 'callbacks'.<br>\n",
    "Normal functions can be callbacks as well.<br>\n",
    "The advantage of a lambda function is solely the programmer's convenience.<br>\n",
    "There is no speed or other advantage.<br>\n",
    "\n",
    "One important use of lambda functions is for providing sort keys; another is to provide event handlers in GUI programming"
   ]
  },
  {
   "cell_type": "code",
   "execution_count": 15,
   "metadata": {},
   "outputs": [
    {
     "data": {
      "text/plain": [
       "7"
      ]
     },
     "execution_count": 15,
     "metadata": {},
     "output_type": "execute_result"
    }
   ],
   "source": [
    "addFive = lambda x : x + 5\n",
    "addFive(2)"
   ]
  },
  {
   "cell_type": "code",
   "execution_count": 16,
   "metadata": {},
   "outputs": [
    {
     "data": {
      "text/plain": [
       "11"
      ]
     },
     "execution_count": 16,
     "metadata": {},
     "output_type": "execute_result"
    }
   ],
   "source": [
    "addTwoNums = lambda x,y : x + y\n",
    "addTwoNums(5,6)"
   ]
  },
  {
   "cell_type": "code",
   "execution_count": 17,
   "metadata": {},
   "outputs": [
    {
     "name": "stdout",
     "output_type": "stream",
     "text": [
      "20\n"
     ]
    }
   ],
   "source": [
    "printResult = lambda func, val : print(func(val))\n",
    "\n",
    "printResult(addFive, 15)"
   ]
  },
  {
   "cell_type": "code",
   "execution_count": 18,
   "metadata": {},
   "outputs": [
    {
     "name": "stdout",
     "output_type": "stream",
     "text": [
      "Apple, apricot, guava, KIWI, LEMON, Mango, watermelon\n"
     ]
    }
   ],
   "source": [
    "'''\n",
    "The lambda function takes the string and returns it in lower case\n",
    "'''\n",
    "\n",
    "fruits = ['watermelon', 'Apple', 'Mango', 'KIWI', 'apricot', 'LEMON', 'guava']\n",
    "sfruits = sorted(fruits, key= lambda e: e.lower())\n",
    "print(\", \".join(sfruits))"
   ]
  },
  {
   "cell_type": "markdown",
   "metadata": {},
   "source": [
    "## List comprehensions\n",
    "     - Filters or modifies elements\n",
    "     - Creates new list\n",
    "     - Shortcut for a for loop\n",
    "\n",
    "A list compregension is a Python idiom that creates a shortcut for a for loop.<br>\n",
    "It returns a copy of a list with every element transformed via an expression.<br>\n",
    "Functional programmers refer ro this as a mapping function.\n",
    "\n",
    "A loop like this:<br>\n",
    "<code>python\n",
    "results = []\n",
    "for var in sequence:\n",
    "    results.append(expr)    # where expr involves var\n",
    "</code>\n",
    "\n",
    "Can be rewritten as:<br>\n",
    "<code>python\n",
    "results [ expr for var in sequence ]\n",
    "</code>\n",
    "\n",
    "A conditional if may be added to filter values:<br>\n",
    "<code>python\n",
    "results = [ expr for var in sequence if expr ]\n",
    "</code>"
   ]
  },
  {
   "cell_type": "code",
   "execution_count": 19,
   "metadata": {},
   "outputs": [
    {
     "data": {
      "text/plain": [
       "[1, 4, 9, 16, 25, 36, 49, 64, 81, 100]"
      ]
     },
     "execution_count": 19,
     "metadata": {},
     "output_type": "execute_result"
    }
   ],
   "source": [
    "numbers = [1, 2, 3, 4, 5, 6, 7, 8, 9, 10]\n",
    "squared = [x**2 for x in numbers]\n",
    "squared"
   ]
  },
  {
   "cell_type": "code",
   "execution_count": 20,
   "metadata": {},
   "outputs": [
    {
     "data": {
      "text/plain": [
       "[0, 2, 4, 6, 8, 10, 12, 14, 16, 18, 20, 22, 24, 26, 28, 30, 32, 34, 36, 38]"
      ]
     },
     "execution_count": 20,
     "metadata": {},
     "output_type": "execute_result"
    }
   ],
   "source": [
    "evens = [ x * 2 for x in range(20)]\n",
    "evens"
   ]
  },
  {
   "cell_type": "code",
   "execution_count": 26,
   "metadata": {},
   "outputs": [],
   "source": [
    "fruits = ['watermelon', 'apple', 'mango', 'kiwi', 'apricot', 'lemon', 'guava']\n",
    "values = [2, 42, 18, 92, \"boom\", ['a', 'b', 'c']]"
   ]
  },
  {
   "cell_type": "code",
   "execution_count": 29,
   "metadata": {},
   "outputs": [
    {
     "data": {
      "text/plain": [
       "['WATERMELON', 'APPLE', 'MANGO', 'KIWI', 'APRICOT', 'LEMON', 'GUAVA']"
      ]
     },
     "execution_count": 29,
     "metadata": {},
     "output_type": "execute_result"
    }
   ],
   "source": [
    "ufruits = [druit.upper() for druit in fruits]\n",
    "ufruits"
   ]
  },
  {
   "cell_type": "code",
   "execution_count": 30,
   "metadata": {},
   "outputs": [
    {
     "data": {
      "text/plain": [
       "['apple', 'apricot']"
      ]
     },
     "execution_count": 30,
     "metadata": {},
     "output_type": "execute_result"
    }
   ],
   "source": [
    "afruits = [druit for druit in fruits if druit.startswith('a')]\n",
    "afruits"
   ]
  },
  {
   "cell_type": "code",
   "execution_count": 31,
   "metadata": {},
   "outputs": [
    {
     "data": {
      "text/plain": [
       "[4, 84, 36, 184, 'boomboom', ['a', 'b', 'c', 'a', 'b', 'c']]"
      ]
     },
     "execution_count": 31,
     "metadata": {},
     "output_type": "execute_result"
    }
   ],
   "source": [
    "doubles = [ v * 2 for v in values]\n",
    "doubles"
   ]
  },
  {
   "cell_type": "markdown",
   "metadata": {},
   "source": [
    "## Dictionary comprehensions\n",
    "     - Expression is key/value pair\n",
    "     - Transform iterable to dictionary\n",
    "\n",
    "A dictionary compregension has syntax similar to a list comprehension.<br>\n",
    "The expression is more a key:value pair, and is added to the resulting dictionary.<br>\n",
    "If a key is used more than once, it overrides any previous keys.<br>\n",
    "This can be handy for building a dictionary from a sequence of values.\n"
   ]
  },
  {
   "cell_type": "code",
   "execution_count": 33,
   "metadata": {},
   "outputs": [
    {
     "data": {
      "text/plain": [
       "{'owl': 3,\n",
       " 'badger': 6,\n",
       " 'bushbaby': 8,\n",
       " 'tiger': 5,\n",
       " 'wombat': 6,\n",
       " 'gorilla': 7,\n",
       " 'aardvark': 8}"
      ]
     },
     "execution_count": 33,
     "metadata": {},
     "output_type": "execute_result"
    }
   ],
   "source": [
    "'''\n",
    "Create a dictionary with key/value pairs derived from an iterable\n",
    "'''\n",
    "\n",
    "animals = ['OWL', 'Badger', 'bushbaby', 'Tiger', 'Wombat', 'GORILLA', 'AARDVARK']\n",
    "# dictionary comprehension\n",
    "animal_d = {a.lower(): len(a) for a in animals}\n",
    "animal_d"
   ]
  },
  {
   "cell_type": "markdown",
   "metadata": {},
   "source": [
    "## Set comprehensions\n",
    "\n",
    "Expression is added to set.<br>\n",
    "Transform iterable to set - with modifications.<br>\n",
    "A set comprehension is useful for turning any sequence into a set. Items can be modified or skipped as the set is built.<br>\n",
    "If you don't need to modify the items, it's probably easier to just past the sequence to the set() constructor."
   ]
  },
  {
   "cell_type": "code",
   "execution_count": 38,
   "metadata": {},
   "outputs": [
    {
     "name": "stdout",
     "output_type": "stream",
     "text": [
      "{'her', 'children', 'it', 'lingered', 'till', 'a', 'but', 'white', 'had', 'day', 'whose', 'rules', 'followed', 'went', 'one', 'out', 'waited', 'patiently', 'sure', 'that', 'about', 'little', 'appear', 'and', 'lamb', 'teacher', 'to', 'turned', 'made', 'see', 'laugh', 'at', 'did', 'mary', 'fleece', 'as', 'against', 'still', 'which', 'he', 'near', 'was', 'school', 'so', 'snow', 'play', 'everywhere', 'go', 'the'}\n"
     ]
    }
   ],
   "source": [
    "with open(\"./mary.txt\") as mary_in:\n",
    "    s = {w.lower() for ln in mary_in for w in re.split(r'\\W+', ln) if w}\n",
    "print(s) "
   ]
  },
  {
   "cell_type": "markdown",
   "metadata": {},
   "source": [
    "\n",
    "## Iterables\n",
    "     - Expressions that can be looped over\n",
    "     - Can be collections e.g. list, tuples, str, bytes\n",
    "     - Can be generators e.g. range(), file objects, enumerate(), zip(), reversed()\n",
    "\n",
    "Python has many builtin iterables - a file object, for instance, which allows iterating through the lines in a file.<br>\n",
    "\n",
    "All builtin collections (list, tuple, str, bytes) are iterables.<br>\n",
    "They keep all their values in memory.<br>\n",
    "Many other builtin iterables are generators.<br>\n",
    "\n",
    "A generator does not keep all its values in memory - it creates them one at a time as needed, and feeds them to the for-in loop.<br>\n",
    "This is a __good thing__, because it saves memory.\n",
    "\n",
    "* All Iterables\n",
    "     * Collections: Stored In Memory / Eager\n",
    "          * Sequences\n",
    "               * str\n",
    "               * bytes\n",
    "               * list\n",
    "               * tuple\n",
    "               * collections.namedtuple\n",
    "               * sorted()\n",
    "               * *list* comprehension\n",
    "          * Mappings\n",
    "               * dict\n",
    "               * set\n",
    "               * frozenset\n",
    "               * collections.defaultdict\n",
    "               * collections.Counter\n",
    "               * *dict* comprehension\n",
    "               * *set* comprehension\n",
    "     * Generators: Stored Virtually / Lazy\n",
    "          * open()\n",
    "          * range()\n",
    "          * enumerate()\n",
    "          * *DICT*.items()\n",
    "          * zip()\n",
    "          * interrools.izip()\n",
    "          * reversed()\n",
    "          * *generator expressions*\n",
    "          * *generator function*\n",
    "          * *generator class*\n"
   ]
  },
  {
   "cell_type": "markdown",
   "metadata": {},
   "source": [
    "## Generator Expressions\n",
    "     - Like list comprehensions, but create a generator object\n",
    "     - More efficient\n",
    "     - Use Parenthese rather than brackets\n",
    "\n",
    "A generator expression is similar to a list comprehension, but it provides a generator instead of a list.<br>\n",
    "That is, while a list comprehension returns a complete list, the generator expression returns one item at a time.\n",
    "\n",
    "The main difference in syntax is that the generator expression uses parentheses rather than brackets.\n",
    "\n",
    "Generator expressions are especially useful with functions like sum(), min(), and max() that reduce an iterable input to a single value."
   ]
  },
  {
   "cell_type": "code",
   "execution_count": 39,
   "metadata": {},
   "outputs": [
    {
     "data": {
      "text/plain": [
       "285"
      ]
     },
     "execution_count": 39,
     "metadata": {},
     "output_type": "execute_result"
    }
   ],
   "source": [
    "# sum the squares of a list of numbers\n",
    "# using list comprehension, entire list is stored in memory\n",
    "s1 = sum([ x * x for x in range(10)])\n",
    "s1"
   ]
  },
  {
   "cell_type": "code",
   "execution_count": 40,
   "metadata": {},
   "outputs": [
    {
     "name": "stdout",
     "output_type": "stream",
     "text": [
      "285 285\n"
     ]
    }
   ],
   "source": [
    "# only one square is in memory at a time with generator expressions\n",
    "s2 = sum( x * x for x in range(10))\n",
    "print (s1, s2)"
   ]
  },
  {
   "cell_type": "code",
   "execution_count": 41,
   "metadata": {},
   "outputs": [
    {
     "data": {
      "text/plain": [
       "37"
      ]
     },
     "execution_count": 41,
     "metadata": {},
     "output_type": "execute_result"
    }
   ],
   "source": [
    "page = open('./mary.txt')\n",
    "m = max(len(line) for line in page)\n",
    "page.close()\n",
    "m"
   ]
  },
  {
   "cell_type": "markdown",
   "metadata": {},
   "source": [
    "## Generator functions\n",
    "     - Mostly like a normal function\n",
    "     - Use yield rather than return\n",
    "     - Maintain state\n",
    "\n",
    "A generator is like a normal function, but instead of a return statement, it has a yield statement.<br>\n",
    "Each time the yield statement is reaches, it provides teh next value in the sequence.<br>\n",
    "When there are no more values, the function calls return, and the loop stops.<br>\n",
    "A generator function maintains state between calls, unlike a normal function.\n"
   ]
  },
  {
   "cell_type": "code",
   "execution_count": 43,
   "metadata": {},
   "outputs": [
    {
     "name": "stdout",
     "output_type": "stream",
     "text": [
      "0\n",
      "1\n",
      "2\n",
      "3\n",
      "2\n",
      "1\n",
      "100\n",
      "200\n",
      "300\n"
     ]
    }
   ],
   "source": [
    "def Numbers():\n",
    "    a = 0\n",
    "    for i in range(3):\n",
    "        yield a\n",
    "        a = a + 1\n",
    "    for i in range(3):\n",
    "        yield a\n",
    "        a = a - 1\n",
    "    yield 100\n",
    "    yield 200\n",
    "    yield 300\n",
    "\n",
    "for num in Numbers():\n",
    "    print(num)"
   ]
  },
  {
   "cell_type": "code",
   "execution_count": 44,
   "metadata": {},
   "outputs": [
    {
     "name": "stdout",
     "output_type": "stream",
     "text": [
      "2 3 5 7 11 13 17 19 23 29 31 37 41 43 47 53 59 61 67 71 73 79 83 89 97 101 103 107 109 113 127 131 137 139 149 151 157 163 167 173 179 181 191 193 197 199 "
     ]
    }
   ],
   "source": [
    "def Next_prime(limit):\n",
    "    flags = set()\n",
    "\n",
    "    for i in range(2, limit):\n",
    "        if i in flags:\n",
    "            continue\n",
    "        for j in range(2 * i, limit + 1, i):\n",
    "            flags.add(j)\n",
    "        yield i\n",
    "\n",
    "for prime in Next_prime(200):\n",
    "    print(prime, end=' ')"
   ]
  },
  {
   "cell_type": "code",
   "execution_count": 45,
   "metadata": {},
   "outputs": [
    {
     "name": "stdout",
     "output_type": "stream",
     "text": [
      "2 3 5 7 11 13 17 19 23 29 31 37 41 43 47 53 59 61 67 71 73 79 83 89 97 101 103 107 109 113 127 131 137 139 149 151 157 163 167 173 179 181 191 193 197 199 211 223 227 229 233 239 241 251 257 263 269 271 277 281 283 293 307 311 313 317 331 337 347 349 353 359 367 373 379 383 389 397 401 409 419 421 431 433 439 443 449 457 461 463 467 479 487 491 499 503 509 521 523 541 547 557 563 569 571 577 587 593 599 601 607 613 617 619 631 641 643 647 653 659 661 673 677 683 691 701 709 719 727 733 739 743 751 757 761 769 773 787 797 809 811 821 823 827 829 839 853 857 859 863 877 881 883 887 907 911 919 929 937 941 947 953 967 971 977 983 991 997 1009 1013 1019 1021 1031 1033 1039 1049 1051 1061 1063 1069 1087 1091 1093 1097 1103 1109 1117 1123 1129 1151 1153 1163 1171 1181 1187 1193 1201 1213 1217 1223 1229 1231 1237 1249 1259 1277 1279 1283 1289 1291 1297 1301 1303 1307 1319 1321 1327 1361 1367 1373 1381 1399 1409 1423 1427 1429 1433 1439 1447 1451 1453 1459 1471 1481 1483 1487 1489 1493 1499 1511 1523 1531 1543 1549 1553 1559 1567 1571 1579 1583 1597 1601 1607 1609 1613 1619 1621 1627 1637 1657 1663 1667 1669 1693 1697 1699 1709 1721 1723 1733 1741 1747 1753 1759 1777 1783 1787 1789 1801 1811 1823 1831 1847 1861 1867 1871 1873 1877 1879 1889 1901 1907 1913 1931 1933 1949 1951 1973 1979 1987 1993 1997 1999 "
     ]
    }
   ],
   "source": [
    "for prime in Next_prime(2000):\n",
    "    print(prime, end=' ')"
   ]
  },
  {
   "cell_type": "code",
   "execution_count": 20,
   "metadata": {},
   "outputs": [
    {
     "name": "stdout",
     "output_type": "stream",
     "text": [
      "Mary had a little lamb,\n",
      "Little lamb, little lamb,\n",
      "Mary had a little lamb\n",
      "Whose fleece was white as snow.\n",
      "\n",
      "And everywhere that Mary went,\n",
      "Mary went, Mary went,\n",
      "Everywhere that Mary went\n",
      "The lamb was sure to go.\n",
      "\n",
      "He followed her to school one day,\n",
      "School one day, school one day,\n",
      "He followed her to school one day\n",
      "Which was against the rules.\n",
      "\n",
      "It made the children laugh and play,\n",
      "Laugh and play, laugh and play,\n",
      "It made the children laugh and play,\n",
      "To see a lamb at school.\n",
      "\n",
      "And so the teacher turned it out,\n",
      "Turned it out, turned it out,\n",
      "And so the teacher turned it out,\n",
      "But still it lingered near,\n",
      "\n",
      "He waited patiently about,\n",
      "Patiently about, patiently about,\n",
      "He waited patiently about,\n",
      "Till Mary did appear.\n"
     ]
    }
   ],
   "source": [
    "def Trimmed(file_name):\n",
    "    with open(file_name) as file_in:\n",
    "        for line in file_in:\n",
    "            if line.endswith('\\n'):\n",
    "                line = line.rstrip('\\n\\r')\n",
    "            yield line\n",
    "\n",
    "'''\n",
    "1. 'yield' causes this function to return a generator object\n",
    "2. Looping over the generator object returned by trimmed()\n",
    "'''\n",
    "\n",
    "for trimmed_line in Trimmed(\"./mary.txt\"):\n",
    "    print(trimmed_line)\n"
   ]
  },
  {
   "cell_type": "markdown",
   "metadata": {},
   "source": [
    "## String formatting\n",
    "     - Numbered placeholders\n",
    "     - Add width, padding\n",
    "     - Access elements of sequences and dictionaries\n",
    "     - Access object attributes\n",
    "\n",
    "The traditional (i.e. old way) way to format strings in Python was with the % operator and a foramt string containing fields designated with % signs.<br>\n",
    "The new, improved method of string formatting used the format() method.<br>\n",
    "It takes a format string and one or more arguements.<br>\n",
    "The format strings contains placeholders which consist of curly braces, which may contain formatting details.<br>\n",
    "This new method has much more flexibility.<br>\n",
    "\n",
    "By default, the placeholders are numbered from left to right, starting at zero.<br>\n",
    "This corresponds to the order of arguments to format().\n",
    "\n",
    "Formatting information can be added, preceded by a colon.\n",
    "```python\n",
    "{:d}      # format the argument as an integer\n",
    "{:03d}    # format as an integer, 3 columns wide, zero padded\n",
    "{:>24s}   # same, but right-justified\n",
    "{:.3f}    # format as a float, with 3 decimal places\n",
    "```\n",
    "\n",
    "Placeholders can be manually numbered.<br>\n",
    "This is handy when you want to use a format() parameter more than once."
   ]
  },
  {
   "cell_type": "code",
   "execution_count": 22,
   "metadata": {},
   "outputs": [
    {
     "data": {
      "text/plain": [
       "'Try one of these: penguin.jpg penguin.png penguin.bmp penguin.pdf'"
      ]
     },
     "execution_count": 22,
     "metadata": {},
     "output_type": "execute_result"
    }
   ],
   "source": [
    "\"Try one of these: {0}.jpg {0}.png {0}.bmp {0}.pdf\".format('penguin')"
   ]
  },
  {
   "cell_type": "code",
   "execution_count": 23,
   "metadata": {},
   "outputs": [
    {
     "name": "stdout",
     "output_type": "stream",
     "text": [
      "blue iguana\n"
     ]
    }
   ],
   "source": [
    "colour = 'blue'\n",
    "animal = 'iguana'\n",
    "print('{} {}'.format(colour, animal))"
   ]
  },
  {
   "cell_type": "code",
   "execution_count": 24,
   "metadata": {},
   "outputs": [
    {
     "name": "stdout",
     "output_type": "stream",
     "text": [
      "98.5\n"
     ]
    }
   ],
   "source": [
    "fahr = 98.4735633\n",
    "print('{:.1f}'.format(fahr))"
   ]
  },
  {
   "cell_type": "code",
   "execution_count": 26,
   "metadata": {},
   "outputs": [
    {
     "name": "stdout",
     "output_type": "stream",
     "text": [
      "12345 3039 00030071 0011000000111001\n"
     ]
    }
   ],
   "source": [
    "value = 12345\n",
    "print('{0:d} {0:04x} {0:08o} {0:016b}'.format(value)) # decimal / hexidecimal / octal / binary"
   ]
  },
  {
   "cell_type": "code",
   "execution_count": 27,
   "metadata": {},
   "outputs": [
    {
     "name": "stdout",
     "output_type": "stream",
     "text": [
      "A   38\n",
      "B  127\n",
      "C    9\n"
     ]
    }
   ],
   "source": [
    "data = {'A': 38, 'B': 127, \"C\": 9}\n",
    "for letter, number in sorted(data.items()):\n",
    "    print('{} {:4d}'.format(letter, number))"
   ]
  },
  {
   "cell_type": "markdown",
   "metadata": {},
   "source": [
    "## f-strings\n",
    "     - Shorter syntax for string formatting\n",
    "     - Only available on Python 3.6+\n",
    "     - Put f in front of string\n",
    "\n",
    "A new feature, f-strings, was added in Python 3.6.<br>\n",
    "These are strings that contain placeholders, as used with normal string formatting, but the expressions to be formatted is also placed in the placeholder.<br>\n",
    "This makes formatting strings more readable, with less typing.<br>\n",
    "As with formatted strings, any expression can be formatted.\n",
    "\n",
    "Other than putting the value to be formatted directly in the placeholder, the formatting directives are the same as normal Python 3 string formatting."
   ]
  },
  {
   "cell_type": "code",
   "execution_count": 30,
   "metadata": {},
   "outputs": [
    {
     "name": "stdout",
     "output_type": "stream",
     "text": [
      "Bill Gates founded Microsoft\n",
      "24.00 32.23\n"
     ]
    }
   ],
   "source": [
    "x = 24\n",
    "y = 32.2345\n",
    "name = 'Bill Gates'\n",
    "company = 'Microsoft'\n",
    "\n",
    "print(\"{} founded {}\".format(name, company))\n",
    "print(\"{:.2f} {:.2f}\".format(x, y))"
   ]
  },
  {
   "cell_type": "code",
   "execution_count": 31,
   "metadata": {},
   "outputs": [
    {
     "name": "stdout",
     "output_type": "stream",
     "text": [
      "Bill Gates founded Microsoft\n",
      "24.00 32.23\n"
     ]
    }
   ],
   "source": [
    "print(f'{name} founded {company}')\n",
    "print(f'{x:.2f} {y:.2f}')"
   ]
  }
 ],
 "metadata": {
  "interpreter": {
   "hash": "855ae122d4fcda6f141f92c8875720321028ea409d34d35b900b724463e5c1c0"
  },
  "kernelspec": {
   "display_name": "Python 3.10.0 64-bit",
   "language": "python",
   "name": "python3"
  },
  "language_info": {
   "codemirror_mode": {
    "name": "ipython",
    "version": 3
   },
   "file_extension": ".py",
   "mimetype": "text/x-python",
   "name": "python",
   "nbconvert_exporter": "python",
   "pygments_lexer": "ipython3",
   "version": "3.10.0"
  },
  "orig_nbformat": 4
 },
 "nbformat": 4,
 "nbformat_minor": 2
}
